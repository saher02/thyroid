{
 "cells": [
  {
   "cell_type": "markdown",
   "metadata": {
    "id": "La10yxDr7lni"
   },
   "source": [
    "# **IMPORTING THE LIBRARIES**"
   ]
  },
  {
   "cell_type": "code",
   "execution_count": 3,
   "metadata": {
    "id": "aGVK3RPdR4IE"
   },
   "outputs": [],
   "source": [
    "import pandas as pd\n",
    "import numpy as np\n",
    "import seaborn as sns\n",
    "import matplotlib.pyplot as plt\n",
    "import pickle\n",
    "from sklearn.pipeline import Pipeline\n",
    "import xgboost as xgb\n",
    "from sklearn.metrics import roc_auc_score, recall_score, precision_score\n",
    "from sklearn.metrics import classification_report, confusion_matrix\n",
    "from sklearn.linear_model import LogisticRegression\n",
    "from sklearn.naive_bayes import GaussianNB\n",
    "from sklearn.svm import SVC\n",
    "from sklearn.metrics import classification_report, f1_score, accuracy_score\n",
    "from sklearn.ensemble import RandomForestClassifier\n",
    "from sklearn.neighbors import KNeighborsClassifier\n",
    "from sklearn.tree import DecisionTreeClassifier\n",
    "from sklearn.preprocessing import LabelEncoder\n",
    "from sklearn.preprocessing import MinMaxScaler\n",
    "from sklearn.model_selection import train_test_split\n",
    "from sklearn.metrics import confusion_matrix\n",
    "from imblearn.over_sampling import SMOTE\n",
    "\n",
    "import warnings\n",
    "warnings.filterwarnings('ignore')"
   ]
  },
  {
   "cell_type": "markdown",
   "metadata": {
    "id": "R3tV1gJo71m6"
   },
   "source": [
    "#**IMPORTING THE DATASET**"
   ]
  },
  {
   "cell_type": "code",
   "execution_count": 4,
   "metadata": {
    "id": "1AzyW-JMX04l"
   },
   "outputs": [],
   "source": [
    "df = pd.read_csv('hypothyroid.csv')"
   ]
  },
  {
   "cell_type": "code",
   "execution_count": 5,
   "metadata": {
    "colab": {
     "base_uri": "https://localhost:8080/"
    },
    "id": "EAx44MT0Ybl4",
    "outputId": "d9d5638d-2311-47f9-b7e2-a53558108841"
   },
   "outputs": [
    {
     "data": {
      "text/html": [
       "<div>\n",
       "<style scoped>\n",
       "    .dataframe tbody tr th:only-of-type {\n",
       "        vertical-align: middle;\n",
       "    }\n",
       "\n",
       "    .dataframe tbody tr th {\n",
       "        vertical-align: top;\n",
       "    }\n",
       "\n",
       "    .dataframe thead th {\n",
       "        text-align: right;\n",
       "    }\n",
       "</style>\n",
       "<table border=\"1\" class=\"dataframe\">\n",
       "  <thead>\n",
       "    <tr style=\"text-align: right;\">\n",
       "      <th></th>\n",
       "      <th>age</th>\n",
       "      <th>sex</th>\n",
       "      <th>on thyroxine</th>\n",
       "      <th>query on thyroxine</th>\n",
       "      <th>on antithyroid medication</th>\n",
       "      <th>sick</th>\n",
       "      <th>pregnant</th>\n",
       "      <th>thyroid surgery</th>\n",
       "      <th>I131 treatment</th>\n",
       "      <th>query hypothyroid</th>\n",
       "      <th>...</th>\n",
       "      <th>TT4 measured</th>\n",
       "      <th>TT4</th>\n",
       "      <th>T4U measured</th>\n",
       "      <th>T4U</th>\n",
       "      <th>FTI measured</th>\n",
       "      <th>FTI</th>\n",
       "      <th>TBG measured</th>\n",
       "      <th>TBG</th>\n",
       "      <th>referral source</th>\n",
       "      <th>binaryClass</th>\n",
       "    </tr>\n",
       "  </thead>\n",
       "  <tbody>\n",
       "    <tr>\n",
       "      <th>0</th>\n",
       "      <td>41</td>\n",
       "      <td>F</td>\n",
       "      <td>f</td>\n",
       "      <td>f</td>\n",
       "      <td>f</td>\n",
       "      <td>f</td>\n",
       "      <td>f</td>\n",
       "      <td>f</td>\n",
       "      <td>f</td>\n",
       "      <td>f</td>\n",
       "      <td>...</td>\n",
       "      <td>t</td>\n",
       "      <td>125</td>\n",
       "      <td>t</td>\n",
       "      <td>1.14</td>\n",
       "      <td>t</td>\n",
       "      <td>109</td>\n",
       "      <td>f</td>\n",
       "      <td>?</td>\n",
       "      <td>SVHC</td>\n",
       "      <td>P</td>\n",
       "    </tr>\n",
       "    <tr>\n",
       "      <th>1</th>\n",
       "      <td>23</td>\n",
       "      <td>F</td>\n",
       "      <td>f</td>\n",
       "      <td>f</td>\n",
       "      <td>f</td>\n",
       "      <td>f</td>\n",
       "      <td>f</td>\n",
       "      <td>f</td>\n",
       "      <td>f</td>\n",
       "      <td>f</td>\n",
       "      <td>...</td>\n",
       "      <td>t</td>\n",
       "      <td>102</td>\n",
       "      <td>f</td>\n",
       "      <td>?</td>\n",
       "      <td>f</td>\n",
       "      <td>?</td>\n",
       "      <td>f</td>\n",
       "      <td>?</td>\n",
       "      <td>other</td>\n",
       "      <td>P</td>\n",
       "    </tr>\n",
       "    <tr>\n",
       "      <th>2</th>\n",
       "      <td>46</td>\n",
       "      <td>M</td>\n",
       "      <td>f</td>\n",
       "      <td>f</td>\n",
       "      <td>f</td>\n",
       "      <td>f</td>\n",
       "      <td>f</td>\n",
       "      <td>f</td>\n",
       "      <td>f</td>\n",
       "      <td>f</td>\n",
       "      <td>...</td>\n",
       "      <td>t</td>\n",
       "      <td>109</td>\n",
       "      <td>t</td>\n",
       "      <td>0.91</td>\n",
       "      <td>t</td>\n",
       "      <td>120</td>\n",
       "      <td>f</td>\n",
       "      <td>?</td>\n",
       "      <td>other</td>\n",
       "      <td>P</td>\n",
       "    </tr>\n",
       "    <tr>\n",
       "      <th>3</th>\n",
       "      <td>70</td>\n",
       "      <td>F</td>\n",
       "      <td>t</td>\n",
       "      <td>f</td>\n",
       "      <td>f</td>\n",
       "      <td>f</td>\n",
       "      <td>f</td>\n",
       "      <td>f</td>\n",
       "      <td>f</td>\n",
       "      <td>f</td>\n",
       "      <td>...</td>\n",
       "      <td>t</td>\n",
       "      <td>175</td>\n",
       "      <td>f</td>\n",
       "      <td>?</td>\n",
       "      <td>f</td>\n",
       "      <td>?</td>\n",
       "      <td>f</td>\n",
       "      <td>?</td>\n",
       "      <td>other</td>\n",
       "      <td>P</td>\n",
       "    </tr>\n",
       "    <tr>\n",
       "      <th>4</th>\n",
       "      <td>70</td>\n",
       "      <td>F</td>\n",
       "      <td>f</td>\n",
       "      <td>f</td>\n",
       "      <td>f</td>\n",
       "      <td>f</td>\n",
       "      <td>f</td>\n",
       "      <td>f</td>\n",
       "      <td>f</td>\n",
       "      <td>f</td>\n",
       "      <td>...</td>\n",
       "      <td>t</td>\n",
       "      <td>61</td>\n",
       "      <td>t</td>\n",
       "      <td>0.87</td>\n",
       "      <td>t</td>\n",
       "      <td>70</td>\n",
       "      <td>f</td>\n",
       "      <td>?</td>\n",
       "      <td>SVI</td>\n",
       "      <td>P</td>\n",
       "    </tr>\n",
       "  </tbody>\n",
       "</table>\n",
       "<p>5 rows × 30 columns</p>\n",
       "</div>"
      ],
      "text/plain": [
       "  age sex on thyroxine query on thyroxine on antithyroid medication sick  \\\n",
       "0  41   F            f                  f                         f    f   \n",
       "1  23   F            f                  f                         f    f   \n",
       "2  46   M            f                  f                         f    f   \n",
       "3  70   F            t                  f                         f    f   \n",
       "4  70   F            f                  f                         f    f   \n",
       "\n",
       "  pregnant thyroid surgery I131 treatment query hypothyroid  ... TT4 measured  \\\n",
       "0        f               f              f                 f  ...            t   \n",
       "1        f               f              f                 f  ...            t   \n",
       "2        f               f              f                 f  ...            t   \n",
       "3        f               f              f                 f  ...            t   \n",
       "4        f               f              f                 f  ...            t   \n",
       "\n",
       "   TT4 T4U measured   T4U FTI measured  FTI TBG measured TBG referral source  \\\n",
       "0  125            t  1.14            t  109            f   ?            SVHC   \n",
       "1  102            f     ?            f    ?            f   ?           other   \n",
       "2  109            t  0.91            t  120            f   ?           other   \n",
       "3  175            f     ?            f    ?            f   ?           other   \n",
       "4   61            t  0.87            t   70            f   ?             SVI   \n",
       "\n",
       "  binaryClass  \n",
       "0           P  \n",
       "1           P  \n",
       "2           P  \n",
       "3           P  \n",
       "4           P  \n",
       "\n",
       "[5 rows x 30 columns]"
      ]
     },
     "execution_count": 5,
     "metadata": {},
     "output_type": "execute_result"
    }
   ],
   "source": [
    "df.head() #displays first 5 entries from the dataset"
   ]
  },
  {
   "cell_type": "markdown",
   "metadata": {
    "id": "pHEei6-B77iI"
   },
   "source": [
    "# **DATA CLEANING**"
   ]
  },
  {
   "cell_type": "code",
   "execution_count": 6,
   "metadata": {
    "id": "Em7WvcnkY7YQ"
   },
   "outputs": [],
   "source": [
    "df.rename(columns={'binaryClass': 'label'}, inplace = True)\n",
    "#renaming the column 'binaryClass' as 'label' which will be used for prediction"
   ]
  },
  {
   "cell_type": "code",
   "execution_count": 7,
   "metadata": {
    "colab": {
     "base_uri": "https://localhost:8080/",
     "height": 804
    },
    "id": "rffeegvnal0W",
    "outputId": "4f7a7bb4-9621-4200-d8d0-cda2f50aa4ff"
   },
   "outputs": [
    {
     "data": {
      "text/html": [
       "<div>\n",
       "<style scoped>\n",
       "    .dataframe tbody tr th:only-of-type {\n",
       "        vertical-align: middle;\n",
       "    }\n",
       "\n",
       "    .dataframe tbody tr th {\n",
       "        vertical-align: top;\n",
       "    }\n",
       "\n",
       "    .dataframe thead th {\n",
       "        text-align: right;\n",
       "    }\n",
       "</style>\n",
       "<table border=\"1\" class=\"dataframe\">\n",
       "  <thead>\n",
       "    <tr style=\"text-align: right;\">\n",
       "      <th></th>\n",
       "      <th>age</th>\n",
       "      <th>sex</th>\n",
       "      <th>on thyroxine</th>\n",
       "      <th>query on thyroxine</th>\n",
       "      <th>on antithyroid medication</th>\n",
       "      <th>sick</th>\n",
       "      <th>pregnant</th>\n",
       "      <th>thyroid surgery</th>\n",
       "      <th>I131 treatment</th>\n",
       "      <th>query hypothyroid</th>\n",
       "      <th>...</th>\n",
       "      <th>TT4 measured</th>\n",
       "      <th>TT4</th>\n",
       "      <th>T4U measured</th>\n",
       "      <th>T4U</th>\n",
       "      <th>FTI measured</th>\n",
       "      <th>FTI</th>\n",
       "      <th>TBG measured</th>\n",
       "      <th>TBG</th>\n",
       "      <th>referral source</th>\n",
       "      <th>label</th>\n",
       "    </tr>\n",
       "  </thead>\n",
       "  <tbody>\n",
       "    <tr>\n",
       "      <th>0</th>\n",
       "      <td>41</td>\n",
       "      <td>F</td>\n",
       "      <td>f</td>\n",
       "      <td>f</td>\n",
       "      <td>f</td>\n",
       "      <td>f</td>\n",
       "      <td>f</td>\n",
       "      <td>f</td>\n",
       "      <td>f</td>\n",
       "      <td>f</td>\n",
       "      <td>...</td>\n",
       "      <td>t</td>\n",
       "      <td>125</td>\n",
       "      <td>t</td>\n",
       "      <td>1.14</td>\n",
       "      <td>t</td>\n",
       "      <td>109</td>\n",
       "      <td>f</td>\n",
       "      <td>?</td>\n",
       "      <td>SVHC</td>\n",
       "      <td>P</td>\n",
       "    </tr>\n",
       "    <tr>\n",
       "      <th>1</th>\n",
       "      <td>23</td>\n",
       "      <td>F</td>\n",
       "      <td>f</td>\n",
       "      <td>f</td>\n",
       "      <td>f</td>\n",
       "      <td>f</td>\n",
       "      <td>f</td>\n",
       "      <td>f</td>\n",
       "      <td>f</td>\n",
       "      <td>f</td>\n",
       "      <td>...</td>\n",
       "      <td>t</td>\n",
       "      <td>102</td>\n",
       "      <td>f</td>\n",
       "      <td>?</td>\n",
       "      <td>f</td>\n",
       "      <td>?</td>\n",
       "      <td>f</td>\n",
       "      <td>?</td>\n",
       "      <td>other</td>\n",
       "      <td>P</td>\n",
       "    </tr>\n",
       "    <tr>\n",
       "      <th>2</th>\n",
       "      <td>46</td>\n",
       "      <td>M</td>\n",
       "      <td>f</td>\n",
       "      <td>f</td>\n",
       "      <td>f</td>\n",
       "      <td>f</td>\n",
       "      <td>f</td>\n",
       "      <td>f</td>\n",
       "      <td>f</td>\n",
       "      <td>f</td>\n",
       "      <td>...</td>\n",
       "      <td>t</td>\n",
       "      <td>109</td>\n",
       "      <td>t</td>\n",
       "      <td>0.91</td>\n",
       "      <td>t</td>\n",
       "      <td>120</td>\n",
       "      <td>f</td>\n",
       "      <td>?</td>\n",
       "      <td>other</td>\n",
       "      <td>P</td>\n",
       "    </tr>\n",
       "    <tr>\n",
       "      <th>3</th>\n",
       "      <td>70</td>\n",
       "      <td>F</td>\n",
       "      <td>t</td>\n",
       "      <td>f</td>\n",
       "      <td>f</td>\n",
       "      <td>f</td>\n",
       "      <td>f</td>\n",
       "      <td>f</td>\n",
       "      <td>f</td>\n",
       "      <td>f</td>\n",
       "      <td>...</td>\n",
       "      <td>t</td>\n",
       "      <td>175</td>\n",
       "      <td>f</td>\n",
       "      <td>?</td>\n",
       "      <td>f</td>\n",
       "      <td>?</td>\n",
       "      <td>f</td>\n",
       "      <td>?</td>\n",
       "      <td>other</td>\n",
       "      <td>P</td>\n",
       "    </tr>\n",
       "    <tr>\n",
       "      <th>4</th>\n",
       "      <td>70</td>\n",
       "      <td>F</td>\n",
       "      <td>f</td>\n",
       "      <td>f</td>\n",
       "      <td>f</td>\n",
       "      <td>f</td>\n",
       "      <td>f</td>\n",
       "      <td>f</td>\n",
       "      <td>f</td>\n",
       "      <td>f</td>\n",
       "      <td>...</td>\n",
       "      <td>t</td>\n",
       "      <td>61</td>\n",
       "      <td>t</td>\n",
       "      <td>0.87</td>\n",
       "      <td>t</td>\n",
       "      <td>70</td>\n",
       "      <td>f</td>\n",
       "      <td>?</td>\n",
       "      <td>SVI</td>\n",
       "      <td>P</td>\n",
       "    </tr>\n",
       "    <tr>\n",
       "      <th>5</th>\n",
       "      <td>18</td>\n",
       "      <td>F</td>\n",
       "      <td>t</td>\n",
       "      <td>f</td>\n",
       "      <td>f</td>\n",
       "      <td>f</td>\n",
       "      <td>f</td>\n",
       "      <td>f</td>\n",
       "      <td>f</td>\n",
       "      <td>f</td>\n",
       "      <td>...</td>\n",
       "      <td>t</td>\n",
       "      <td>183</td>\n",
       "      <td>t</td>\n",
       "      <td>1.3</td>\n",
       "      <td>t</td>\n",
       "      <td>141</td>\n",
       "      <td>f</td>\n",
       "      <td>?</td>\n",
       "      <td>other</td>\n",
       "      <td>P</td>\n",
       "    </tr>\n",
       "    <tr>\n",
       "      <th>6</th>\n",
       "      <td>59</td>\n",
       "      <td>F</td>\n",
       "      <td>f</td>\n",
       "      <td>f</td>\n",
       "      <td>f</td>\n",
       "      <td>f</td>\n",
       "      <td>f</td>\n",
       "      <td>f</td>\n",
       "      <td>f</td>\n",
       "      <td>f</td>\n",
       "      <td>...</td>\n",
       "      <td>t</td>\n",
       "      <td>72</td>\n",
       "      <td>t</td>\n",
       "      <td>0.92</td>\n",
       "      <td>t</td>\n",
       "      <td>78</td>\n",
       "      <td>f</td>\n",
       "      <td>?</td>\n",
       "      <td>other</td>\n",
       "      <td>P</td>\n",
       "    </tr>\n",
       "    <tr>\n",
       "      <th>7</th>\n",
       "      <td>80</td>\n",
       "      <td>F</td>\n",
       "      <td>f</td>\n",
       "      <td>f</td>\n",
       "      <td>f</td>\n",
       "      <td>f</td>\n",
       "      <td>f</td>\n",
       "      <td>f</td>\n",
       "      <td>f</td>\n",
       "      <td>f</td>\n",
       "      <td>...</td>\n",
       "      <td>t</td>\n",
       "      <td>80</td>\n",
       "      <td>t</td>\n",
       "      <td>0.7</td>\n",
       "      <td>t</td>\n",
       "      <td>115</td>\n",
       "      <td>f</td>\n",
       "      <td>?</td>\n",
       "      <td>SVI</td>\n",
       "      <td>P</td>\n",
       "    </tr>\n",
       "    <tr>\n",
       "      <th>8</th>\n",
       "      <td>66</td>\n",
       "      <td>F</td>\n",
       "      <td>f</td>\n",
       "      <td>f</td>\n",
       "      <td>f</td>\n",
       "      <td>f</td>\n",
       "      <td>f</td>\n",
       "      <td>f</td>\n",
       "      <td>f</td>\n",
       "      <td>f</td>\n",
       "      <td>...</td>\n",
       "      <td>t</td>\n",
       "      <td>123</td>\n",
       "      <td>t</td>\n",
       "      <td>0.93</td>\n",
       "      <td>t</td>\n",
       "      <td>132</td>\n",
       "      <td>f</td>\n",
       "      <td>?</td>\n",
       "      <td>SVI</td>\n",
       "      <td>P</td>\n",
       "    </tr>\n",
       "    <tr>\n",
       "      <th>9</th>\n",
       "      <td>68</td>\n",
       "      <td>M</td>\n",
       "      <td>f</td>\n",
       "      <td>f</td>\n",
       "      <td>f</td>\n",
       "      <td>f</td>\n",
       "      <td>f</td>\n",
       "      <td>f</td>\n",
       "      <td>f</td>\n",
       "      <td>f</td>\n",
       "      <td>...</td>\n",
       "      <td>t</td>\n",
       "      <td>83</td>\n",
       "      <td>t</td>\n",
       "      <td>0.89</td>\n",
       "      <td>t</td>\n",
       "      <td>93</td>\n",
       "      <td>f</td>\n",
       "      <td>?</td>\n",
       "      <td>SVI</td>\n",
       "      <td>P</td>\n",
       "    </tr>\n",
       "    <tr>\n",
       "      <th>10</th>\n",
       "      <td>84</td>\n",
       "      <td>F</td>\n",
       "      <td>f</td>\n",
       "      <td>f</td>\n",
       "      <td>f</td>\n",
       "      <td>f</td>\n",
       "      <td>f</td>\n",
       "      <td>f</td>\n",
       "      <td>f</td>\n",
       "      <td>f</td>\n",
       "      <td>...</td>\n",
       "      <td>t</td>\n",
       "      <td>115</td>\n",
       "      <td>t</td>\n",
       "      <td>0.95</td>\n",
       "      <td>t</td>\n",
       "      <td>121</td>\n",
       "      <td>f</td>\n",
       "      <td>?</td>\n",
       "      <td>SVI</td>\n",
       "      <td>P</td>\n",
       "    </tr>\n",
       "    <tr>\n",
       "      <th>11</th>\n",
       "      <td>67</td>\n",
       "      <td>F</td>\n",
       "      <td>t</td>\n",
       "      <td>f</td>\n",
       "      <td>f</td>\n",
       "      <td>f</td>\n",
       "      <td>f</td>\n",
       "      <td>f</td>\n",
       "      <td>f</td>\n",
       "      <td>f</td>\n",
       "      <td>...</td>\n",
       "      <td>t</td>\n",
       "      <td>152</td>\n",
       "      <td>t</td>\n",
       "      <td>0.99</td>\n",
       "      <td>t</td>\n",
       "      <td>153</td>\n",
       "      <td>f</td>\n",
       "      <td>?</td>\n",
       "      <td>other</td>\n",
       "      <td>P</td>\n",
       "    </tr>\n",
       "    <tr>\n",
       "      <th>12</th>\n",
       "      <td>71</td>\n",
       "      <td>F</td>\n",
       "      <td>f</td>\n",
       "      <td>f</td>\n",
       "      <td>f</td>\n",
       "      <td>t</td>\n",
       "      <td>f</td>\n",
       "      <td>f</td>\n",
       "      <td>f</td>\n",
       "      <td>f</td>\n",
       "      <td>...</td>\n",
       "      <td>t</td>\n",
       "      <td>171</td>\n",
       "      <td>t</td>\n",
       "      <td>1.13</td>\n",
       "      <td>t</td>\n",
       "      <td>151</td>\n",
       "      <td>f</td>\n",
       "      <td>?</td>\n",
       "      <td>other</td>\n",
       "      <td>P</td>\n",
       "    </tr>\n",
       "    <tr>\n",
       "      <th>13</th>\n",
       "      <td>59</td>\n",
       "      <td>F</td>\n",
       "      <td>f</td>\n",
       "      <td>f</td>\n",
       "      <td>f</td>\n",
       "      <td>f</td>\n",
       "      <td>f</td>\n",
       "      <td>f</td>\n",
       "      <td>f</td>\n",
       "      <td>f</td>\n",
       "      <td>...</td>\n",
       "      <td>t</td>\n",
       "      <td>97</td>\n",
       "      <td>t</td>\n",
       "      <td>0.91</td>\n",
       "      <td>t</td>\n",
       "      <td>107</td>\n",
       "      <td>f</td>\n",
       "      <td>?</td>\n",
       "      <td>SVI</td>\n",
       "      <td>P</td>\n",
       "    </tr>\n",
       "    <tr>\n",
       "      <th>14</th>\n",
       "      <td>28</td>\n",
       "      <td>M</td>\n",
       "      <td>f</td>\n",
       "      <td>f</td>\n",
       "      <td>f</td>\n",
       "      <td>f</td>\n",
       "      <td>f</td>\n",
       "      <td>f</td>\n",
       "      <td>f</td>\n",
       "      <td>f</td>\n",
       "      <td>...</td>\n",
       "      <td>t</td>\n",
       "      <td>109</td>\n",
       "      <td>t</td>\n",
       "      <td>0.91</td>\n",
       "      <td>t</td>\n",
       "      <td>119</td>\n",
       "      <td>f</td>\n",
       "      <td>?</td>\n",
       "      <td>SVHC</td>\n",
       "      <td>P</td>\n",
       "    </tr>\n",
       "    <tr>\n",
       "      <th>15</th>\n",
       "      <td>65</td>\n",
       "      <td>F</td>\n",
       "      <td>f</td>\n",
       "      <td>f</td>\n",
       "      <td>f</td>\n",
       "      <td>f</td>\n",
       "      <td>f</td>\n",
       "      <td>f</td>\n",
       "      <td>f</td>\n",
       "      <td>t</td>\n",
       "      <td>...</td>\n",
       "      <td>t</td>\n",
       "      <td>99</td>\n",
       "      <td>t</td>\n",
       "      <td>1.14</td>\n",
       "      <td>t</td>\n",
       "      <td>87</td>\n",
       "      <td>f</td>\n",
       "      <td>?</td>\n",
       "      <td>other</td>\n",
       "      <td>N</td>\n",
       "    </tr>\n",
       "    <tr>\n",
       "      <th>16</th>\n",
       "      <td>42</td>\n",
       "      <td>?</td>\n",
       "      <td>f</td>\n",
       "      <td>f</td>\n",
       "      <td>f</td>\n",
       "      <td>f</td>\n",
       "      <td>f</td>\n",
       "      <td>f</td>\n",
       "      <td>f</td>\n",
       "      <td>f</td>\n",
       "      <td>...</td>\n",
       "      <td>t</td>\n",
       "      <td>70</td>\n",
       "      <td>t</td>\n",
       "      <td>0.86</td>\n",
       "      <td>t</td>\n",
       "      <td>81</td>\n",
       "      <td>f</td>\n",
       "      <td>?</td>\n",
       "      <td>other</td>\n",
       "      <td>P</td>\n",
       "    </tr>\n",
       "    <tr>\n",
       "      <th>17</th>\n",
       "      <td>63</td>\n",
       "      <td>F</td>\n",
       "      <td>f</td>\n",
       "      <td>f</td>\n",
       "      <td>f</td>\n",
       "      <td>f</td>\n",
       "      <td>f</td>\n",
       "      <td>f</td>\n",
       "      <td>f</td>\n",
       "      <td>f</td>\n",
       "      <td>...</td>\n",
       "      <td>t</td>\n",
       "      <td>117</td>\n",
       "      <td>t</td>\n",
       "      <td>0.96</td>\n",
       "      <td>t</td>\n",
       "      <td>121</td>\n",
       "      <td>f</td>\n",
       "      <td>?</td>\n",
       "      <td>SVI</td>\n",
       "      <td>P</td>\n",
       "    </tr>\n",
       "    <tr>\n",
       "      <th>18</th>\n",
       "      <td>80</td>\n",
       "      <td>F</td>\n",
       "      <td>f</td>\n",
       "      <td>f</td>\n",
       "      <td>f</td>\n",
       "      <td>f</td>\n",
       "      <td>f</td>\n",
       "      <td>f</td>\n",
       "      <td>f</td>\n",
       "      <td>f</td>\n",
       "      <td>...</td>\n",
       "      <td>t</td>\n",
       "      <td>99</td>\n",
       "      <td>t</td>\n",
       "      <td>0.95</td>\n",
       "      <td>t</td>\n",
       "      <td>104</td>\n",
       "      <td>f</td>\n",
       "      <td>?</td>\n",
       "      <td>SVI</td>\n",
       "      <td>P</td>\n",
       "    </tr>\n",
       "    <tr>\n",
       "      <th>19</th>\n",
       "      <td>28</td>\n",
       "      <td>M</td>\n",
       "      <td>f</td>\n",
       "      <td>f</td>\n",
       "      <td>f</td>\n",
       "      <td>f</td>\n",
       "      <td>f</td>\n",
       "      <td>f</td>\n",
       "      <td>f</td>\n",
       "      <td>f</td>\n",
       "      <td>...</td>\n",
       "      <td>t</td>\n",
       "      <td>121</td>\n",
       "      <td>t</td>\n",
       "      <td>0.94</td>\n",
       "      <td>t</td>\n",
       "      <td>130</td>\n",
       "      <td>f</td>\n",
       "      <td>?</td>\n",
       "      <td>SVHC</td>\n",
       "      <td>P</td>\n",
       "    </tr>\n",
       "  </tbody>\n",
       "</table>\n",
       "<p>20 rows × 30 columns</p>\n",
       "</div>"
      ],
      "text/plain": [
       "   age sex on thyroxine query on thyroxine on antithyroid medication sick  \\\n",
       "0   41   F            f                  f                         f    f   \n",
       "1   23   F            f                  f                         f    f   \n",
       "2   46   M            f                  f                         f    f   \n",
       "3   70   F            t                  f                         f    f   \n",
       "4   70   F            f                  f                         f    f   \n",
       "5   18   F            t                  f                         f    f   \n",
       "6   59   F            f                  f                         f    f   \n",
       "7   80   F            f                  f                         f    f   \n",
       "8   66   F            f                  f                         f    f   \n",
       "9   68   M            f                  f                         f    f   \n",
       "10  84   F            f                  f                         f    f   \n",
       "11  67   F            t                  f                         f    f   \n",
       "12  71   F            f                  f                         f    t   \n",
       "13  59   F            f                  f                         f    f   \n",
       "14  28   M            f                  f                         f    f   \n",
       "15  65   F            f                  f                         f    f   \n",
       "16  42   ?            f                  f                         f    f   \n",
       "17  63   F            f                  f                         f    f   \n",
       "18  80   F            f                  f                         f    f   \n",
       "19  28   M            f                  f                         f    f   \n",
       "\n",
       "   pregnant thyroid surgery I131 treatment query hypothyroid  ...  \\\n",
       "0         f               f              f                 f  ...   \n",
       "1         f               f              f                 f  ...   \n",
       "2         f               f              f                 f  ...   \n",
       "3         f               f              f                 f  ...   \n",
       "4         f               f              f                 f  ...   \n",
       "5         f               f              f                 f  ...   \n",
       "6         f               f              f                 f  ...   \n",
       "7         f               f              f                 f  ...   \n",
       "8         f               f              f                 f  ...   \n",
       "9         f               f              f                 f  ...   \n",
       "10        f               f              f                 f  ...   \n",
       "11        f               f              f                 f  ...   \n",
       "12        f               f              f                 f  ...   \n",
       "13        f               f              f                 f  ...   \n",
       "14        f               f              f                 f  ...   \n",
       "15        f               f              f                 t  ...   \n",
       "16        f               f              f                 f  ...   \n",
       "17        f               f              f                 f  ...   \n",
       "18        f               f              f                 f  ...   \n",
       "19        f               f              f                 f  ...   \n",
       "\n",
       "   TT4 measured  TT4 T4U measured   T4U FTI measured  FTI TBG measured TBG  \\\n",
       "0             t  125            t  1.14            t  109            f   ?   \n",
       "1             t  102            f     ?            f    ?            f   ?   \n",
       "2             t  109            t  0.91            t  120            f   ?   \n",
       "3             t  175            f     ?            f    ?            f   ?   \n",
       "4             t   61            t  0.87            t   70            f   ?   \n",
       "5             t  183            t   1.3            t  141            f   ?   \n",
       "6             t   72            t  0.92            t   78            f   ?   \n",
       "7             t   80            t   0.7            t  115            f   ?   \n",
       "8             t  123            t  0.93            t  132            f   ?   \n",
       "9             t   83            t  0.89            t   93            f   ?   \n",
       "10            t  115            t  0.95            t  121            f   ?   \n",
       "11            t  152            t  0.99            t  153            f   ?   \n",
       "12            t  171            t  1.13            t  151            f   ?   \n",
       "13            t   97            t  0.91            t  107            f   ?   \n",
       "14            t  109            t  0.91            t  119            f   ?   \n",
       "15            t   99            t  1.14            t   87            f   ?   \n",
       "16            t   70            t  0.86            t   81            f   ?   \n",
       "17            t  117            t  0.96            t  121            f   ?   \n",
       "18            t   99            t  0.95            t  104            f   ?   \n",
       "19            t  121            t  0.94            t  130            f   ?   \n",
       "\n",
       "   referral source label  \n",
       "0             SVHC     P  \n",
       "1            other     P  \n",
       "2            other     P  \n",
       "3            other     P  \n",
       "4              SVI     P  \n",
       "5            other     P  \n",
       "6            other     P  \n",
       "7              SVI     P  \n",
       "8              SVI     P  \n",
       "9              SVI     P  \n",
       "10             SVI     P  \n",
       "11           other     P  \n",
       "12           other     P  \n",
       "13             SVI     P  \n",
       "14            SVHC     P  \n",
       "15           other     N  \n",
       "16           other     P  \n",
       "17             SVI     P  \n",
       "18             SVI     P  \n",
       "19            SVHC     P  \n",
       "\n",
       "[20 rows x 30 columns]"
      ]
     },
     "execution_count": 7,
     "metadata": {},
     "output_type": "execute_result"
    }
   ],
   "source": [
    "df.head(20)"
   ]
  },
  {
   "cell_type": "code",
   "execution_count": 8,
   "metadata": {
    "colab": {
     "base_uri": "https://localhost:8080/"
    },
    "id": "So4cyT-kbAx5",
    "outputId": "caacd924-a86c-40ce-808d-1f3b219d6ac9"
   },
   "outputs": [
    {
     "data": {
      "text/plain": [
       "(3772, 30)"
      ]
     },
     "execution_count": 8,
     "metadata": {},
     "output_type": "execute_result"
    }
   ],
   "source": [
    "df.shape\n",
    "#displays the number of rows and columns in the dataset"
   ]
  },
  {
   "cell_type": "code",
   "execution_count": 9,
   "metadata": {
    "colab": {
     "base_uri": "https://localhost:8080/"
    },
    "id": "10wEQih_bp-8",
    "outputId": "4ec564a9-28eb-485f-e35c-d4dc043dc173"
   },
   "outputs": [
    {
     "data": {
      "text/plain": [
       "age                          object\n",
       "sex                          object\n",
       "on thyroxine                 object\n",
       "query on thyroxine           object\n",
       "on antithyroid medication    object\n",
       "sick                         object\n",
       "pregnant                     object\n",
       "thyroid surgery              object\n",
       "I131 treatment               object\n",
       "query hypothyroid            object\n",
       "query hyperthyroid           object\n",
       "lithium                      object\n",
       "goitre                       object\n",
       "tumor                        object\n",
       "hypopituitary                object\n",
       "psych                        object\n",
       "TSH measured                 object\n",
       "TSH                          object\n",
       "T3 measured                  object\n",
       "T3                           object\n",
       "TT4 measured                 object\n",
       "TT4                          object\n",
       "T4U measured                 object\n",
       "T4U                          object\n",
       "FTI measured                 object\n",
       "FTI                          object\n",
       "TBG measured                 object\n",
       "TBG                          object\n",
       "referral source              object\n",
       "label                        object\n",
       "dtype: object"
      ]
     },
     "execution_count": 9,
     "metadata": {},
     "output_type": "execute_result"
    }
   ],
   "source": [
    "df.dtypes\n",
    "#displays the datatypes of the all the columns in the dataset\n",
    "#Here, we can see the all the features are of object datatype"
   ]
  },
  {
   "cell_type": "code",
   "execution_count": 10,
   "metadata": {
    "colab": {
     "base_uri": "https://localhost:8080/"
    },
    "id": "H_b3zL2Mb9hV",
    "outputId": "84c034e9-98e4-48ff-ec22-5b323150ffe0"
   },
   "outputs": [
    {
     "data": {
      "text/plain": [
       "Index(['age', 'sex', 'on thyroxine', 'query on thyroxine',\n",
       "       'on antithyroid medication', 'sick', 'pregnant', 'thyroid surgery',\n",
       "       'I131 treatment', 'query hypothyroid', 'query hyperthyroid', 'lithium',\n",
       "       'goitre', 'tumor', 'hypopituitary', 'psych', 'TSH measured', 'TSH',\n",
       "       'T3 measured', 'T3', 'TT4 measured', 'TT4', 'T4U measured', 'T4U',\n",
       "       'FTI measured', 'FTI', 'TBG measured', 'TBG', 'referral source',\n",
       "       'label'],\n",
       "      dtype='object')"
      ]
     },
     "execution_count": 10,
     "metadata": {},
     "output_type": "execute_result"
    }
   ],
   "source": [
    "df.columns\n",
    "#displays the index of the columns in the dataset"
   ]
  },
  {
   "cell_type": "code",
   "execution_count": 11,
   "metadata": {
    "id": "c31YBx9Hbwq2"
   },
   "outputs": [],
   "source": [
    "# axis = 0 to drop(here) row wise and axis = 1 to do whatever column wise\n",
    "#inplace = true means changes on that dataset only"
   ]
  },
  {
   "cell_type": "code",
   "execution_count": 12,
   "metadata": {
    "id": "GIEseyOyclw0"
   },
   "outputs": [],
   "source": [
    "df.drop(['on thyroxine', 'query on thyroxine','on antithyroid medication', 'query hypothyroid', 'query hyperthyroid', 'hypopituitary', 'psych', 'TSH measured','T3 measured', 'TT4 measured','T4U measured',\n",
    "       'FTI measured', 'TBG measured', 'TBG', 'referral source'], axis = 1, inplace = True)\n",
    "#Dropping the columns we do not need"
   ]
  },
  {
   "cell_type": "code",
   "execution_count": 13,
   "metadata": {
    "colab": {
     "base_uri": "https://localhost:8080/",
     "height": 676
    },
    "id": "hhrPG_DceSaT",
    "outputId": "f4ed605f-45a4-46b7-9685-73e1cc248378"
   },
   "outputs": [
    {
     "data": {
      "text/html": [
       "<div>\n",
       "<style scoped>\n",
       "    .dataframe tbody tr th:only-of-type {\n",
       "        vertical-align: middle;\n",
       "    }\n",
       "\n",
       "    .dataframe tbody tr th {\n",
       "        vertical-align: top;\n",
       "    }\n",
       "\n",
       "    .dataframe thead th {\n",
       "        text-align: right;\n",
       "    }\n",
       "</style>\n",
       "<table border=\"1\" class=\"dataframe\">\n",
       "  <thead>\n",
       "    <tr style=\"text-align: right;\">\n",
       "      <th></th>\n",
       "      <th>age</th>\n",
       "      <th>sex</th>\n",
       "      <th>sick</th>\n",
       "      <th>pregnant</th>\n",
       "      <th>thyroid surgery</th>\n",
       "      <th>I131 treatment</th>\n",
       "      <th>lithium</th>\n",
       "      <th>goitre</th>\n",
       "      <th>tumor</th>\n",
       "      <th>TSH</th>\n",
       "      <th>T3</th>\n",
       "      <th>TT4</th>\n",
       "      <th>T4U</th>\n",
       "      <th>FTI</th>\n",
       "      <th>label</th>\n",
       "    </tr>\n",
       "  </thead>\n",
       "  <tbody>\n",
       "    <tr>\n",
       "      <th>0</th>\n",
       "      <td>41</td>\n",
       "      <td>F</td>\n",
       "      <td>f</td>\n",
       "      <td>f</td>\n",
       "      <td>f</td>\n",
       "      <td>f</td>\n",
       "      <td>f</td>\n",
       "      <td>f</td>\n",
       "      <td>f</td>\n",
       "      <td>1.3</td>\n",
       "      <td>2.5</td>\n",
       "      <td>125</td>\n",
       "      <td>1.14</td>\n",
       "      <td>109</td>\n",
       "      <td>P</td>\n",
       "    </tr>\n",
       "    <tr>\n",
       "      <th>1</th>\n",
       "      <td>23</td>\n",
       "      <td>F</td>\n",
       "      <td>f</td>\n",
       "      <td>f</td>\n",
       "      <td>f</td>\n",
       "      <td>f</td>\n",
       "      <td>f</td>\n",
       "      <td>f</td>\n",
       "      <td>f</td>\n",
       "      <td>4.1</td>\n",
       "      <td>2</td>\n",
       "      <td>102</td>\n",
       "      <td>?</td>\n",
       "      <td>?</td>\n",
       "      <td>P</td>\n",
       "    </tr>\n",
       "    <tr>\n",
       "      <th>2</th>\n",
       "      <td>46</td>\n",
       "      <td>M</td>\n",
       "      <td>f</td>\n",
       "      <td>f</td>\n",
       "      <td>f</td>\n",
       "      <td>f</td>\n",
       "      <td>f</td>\n",
       "      <td>f</td>\n",
       "      <td>f</td>\n",
       "      <td>0.98</td>\n",
       "      <td>?</td>\n",
       "      <td>109</td>\n",
       "      <td>0.91</td>\n",
       "      <td>120</td>\n",
       "      <td>P</td>\n",
       "    </tr>\n",
       "    <tr>\n",
       "      <th>3</th>\n",
       "      <td>70</td>\n",
       "      <td>F</td>\n",
       "      <td>f</td>\n",
       "      <td>f</td>\n",
       "      <td>f</td>\n",
       "      <td>f</td>\n",
       "      <td>f</td>\n",
       "      <td>f</td>\n",
       "      <td>f</td>\n",
       "      <td>0.16</td>\n",
       "      <td>1.9</td>\n",
       "      <td>175</td>\n",
       "      <td>?</td>\n",
       "      <td>?</td>\n",
       "      <td>P</td>\n",
       "    </tr>\n",
       "    <tr>\n",
       "      <th>4</th>\n",
       "      <td>70</td>\n",
       "      <td>F</td>\n",
       "      <td>f</td>\n",
       "      <td>f</td>\n",
       "      <td>f</td>\n",
       "      <td>f</td>\n",
       "      <td>f</td>\n",
       "      <td>f</td>\n",
       "      <td>f</td>\n",
       "      <td>0.72</td>\n",
       "      <td>1.2</td>\n",
       "      <td>61</td>\n",
       "      <td>0.87</td>\n",
       "      <td>70</td>\n",
       "      <td>P</td>\n",
       "    </tr>\n",
       "    <tr>\n",
       "      <th>5</th>\n",
       "      <td>18</td>\n",
       "      <td>F</td>\n",
       "      <td>f</td>\n",
       "      <td>f</td>\n",
       "      <td>f</td>\n",
       "      <td>f</td>\n",
       "      <td>f</td>\n",
       "      <td>f</td>\n",
       "      <td>f</td>\n",
       "      <td>0.03</td>\n",
       "      <td>?</td>\n",
       "      <td>183</td>\n",
       "      <td>1.3</td>\n",
       "      <td>141</td>\n",
       "      <td>P</td>\n",
       "    </tr>\n",
       "    <tr>\n",
       "      <th>6</th>\n",
       "      <td>59</td>\n",
       "      <td>F</td>\n",
       "      <td>f</td>\n",
       "      <td>f</td>\n",
       "      <td>f</td>\n",
       "      <td>f</td>\n",
       "      <td>f</td>\n",
       "      <td>f</td>\n",
       "      <td>f</td>\n",
       "      <td>?</td>\n",
       "      <td>?</td>\n",
       "      <td>72</td>\n",
       "      <td>0.92</td>\n",
       "      <td>78</td>\n",
       "      <td>P</td>\n",
       "    </tr>\n",
       "    <tr>\n",
       "      <th>7</th>\n",
       "      <td>80</td>\n",
       "      <td>F</td>\n",
       "      <td>f</td>\n",
       "      <td>f</td>\n",
       "      <td>f</td>\n",
       "      <td>f</td>\n",
       "      <td>f</td>\n",
       "      <td>f</td>\n",
       "      <td>f</td>\n",
       "      <td>2.2</td>\n",
       "      <td>0.6</td>\n",
       "      <td>80</td>\n",
       "      <td>0.7</td>\n",
       "      <td>115</td>\n",
       "      <td>P</td>\n",
       "    </tr>\n",
       "    <tr>\n",
       "      <th>8</th>\n",
       "      <td>66</td>\n",
       "      <td>F</td>\n",
       "      <td>f</td>\n",
       "      <td>f</td>\n",
       "      <td>f</td>\n",
       "      <td>f</td>\n",
       "      <td>f</td>\n",
       "      <td>f</td>\n",
       "      <td>t</td>\n",
       "      <td>0.6</td>\n",
       "      <td>2.2</td>\n",
       "      <td>123</td>\n",
       "      <td>0.93</td>\n",
       "      <td>132</td>\n",
       "      <td>P</td>\n",
       "    </tr>\n",
       "    <tr>\n",
       "      <th>9</th>\n",
       "      <td>68</td>\n",
       "      <td>M</td>\n",
       "      <td>f</td>\n",
       "      <td>f</td>\n",
       "      <td>f</td>\n",
       "      <td>f</td>\n",
       "      <td>f</td>\n",
       "      <td>f</td>\n",
       "      <td>f</td>\n",
       "      <td>2.4</td>\n",
       "      <td>1.6</td>\n",
       "      <td>83</td>\n",
       "      <td>0.89</td>\n",
       "      <td>93</td>\n",
       "      <td>P</td>\n",
       "    </tr>\n",
       "    <tr>\n",
       "      <th>10</th>\n",
       "      <td>84</td>\n",
       "      <td>F</td>\n",
       "      <td>f</td>\n",
       "      <td>f</td>\n",
       "      <td>f</td>\n",
       "      <td>f</td>\n",
       "      <td>f</td>\n",
       "      <td>f</td>\n",
       "      <td>t</td>\n",
       "      <td>1.1</td>\n",
       "      <td>2.2</td>\n",
       "      <td>115</td>\n",
       "      <td>0.95</td>\n",
       "      <td>121</td>\n",
       "      <td>P</td>\n",
       "    </tr>\n",
       "    <tr>\n",
       "      <th>11</th>\n",
       "      <td>67</td>\n",
       "      <td>F</td>\n",
       "      <td>f</td>\n",
       "      <td>f</td>\n",
       "      <td>f</td>\n",
       "      <td>f</td>\n",
       "      <td>f</td>\n",
       "      <td>f</td>\n",
       "      <td>f</td>\n",
       "      <td>0.03</td>\n",
       "      <td>?</td>\n",
       "      <td>152</td>\n",
       "      <td>0.99</td>\n",
       "      <td>153</td>\n",
       "      <td>P</td>\n",
       "    </tr>\n",
       "    <tr>\n",
       "      <th>12</th>\n",
       "      <td>71</td>\n",
       "      <td>F</td>\n",
       "      <td>t</td>\n",
       "      <td>f</td>\n",
       "      <td>f</td>\n",
       "      <td>f</td>\n",
       "      <td>f</td>\n",
       "      <td>f</td>\n",
       "      <td>f</td>\n",
       "      <td>0.03</td>\n",
       "      <td>3.8</td>\n",
       "      <td>171</td>\n",
       "      <td>1.13</td>\n",
       "      <td>151</td>\n",
       "      <td>P</td>\n",
       "    </tr>\n",
       "    <tr>\n",
       "      <th>13</th>\n",
       "      <td>59</td>\n",
       "      <td>F</td>\n",
       "      <td>f</td>\n",
       "      <td>f</td>\n",
       "      <td>f</td>\n",
       "      <td>f</td>\n",
       "      <td>f</td>\n",
       "      <td>f</td>\n",
       "      <td>f</td>\n",
       "      <td>2.8</td>\n",
       "      <td>1.7</td>\n",
       "      <td>97</td>\n",
       "      <td>0.91</td>\n",
       "      <td>107</td>\n",
       "      <td>P</td>\n",
       "    </tr>\n",
       "    <tr>\n",
       "      <th>14</th>\n",
       "      <td>28</td>\n",
       "      <td>M</td>\n",
       "      <td>f</td>\n",
       "      <td>f</td>\n",
       "      <td>f</td>\n",
       "      <td>f</td>\n",
       "      <td>f</td>\n",
       "      <td>f</td>\n",
       "      <td>f</td>\n",
       "      <td>3.3</td>\n",
       "      <td>1.8</td>\n",
       "      <td>109</td>\n",
       "      <td>0.91</td>\n",
       "      <td>119</td>\n",
       "      <td>P</td>\n",
       "    </tr>\n",
       "    <tr>\n",
       "      <th>15</th>\n",
       "      <td>65</td>\n",
       "      <td>F</td>\n",
       "      <td>f</td>\n",
       "      <td>f</td>\n",
       "      <td>f</td>\n",
       "      <td>f</td>\n",
       "      <td>f</td>\n",
       "      <td>f</td>\n",
       "      <td>f</td>\n",
       "      <td>12</td>\n",
       "      <td>?</td>\n",
       "      <td>99</td>\n",
       "      <td>1.14</td>\n",
       "      <td>87</td>\n",
       "      <td>N</td>\n",
       "    </tr>\n",
       "    <tr>\n",
       "      <th>16</th>\n",
       "      <td>42</td>\n",
       "      <td>?</td>\n",
       "      <td>f</td>\n",
       "      <td>f</td>\n",
       "      <td>f</td>\n",
       "      <td>f</td>\n",
       "      <td>f</td>\n",
       "      <td>f</td>\n",
       "      <td>f</td>\n",
       "      <td>1.2</td>\n",
       "      <td>1.8</td>\n",
       "      <td>70</td>\n",
       "      <td>0.86</td>\n",
       "      <td>81</td>\n",
       "      <td>P</td>\n",
       "    </tr>\n",
       "    <tr>\n",
       "      <th>17</th>\n",
       "      <td>63</td>\n",
       "      <td>F</td>\n",
       "      <td>f</td>\n",
       "      <td>f</td>\n",
       "      <td>f</td>\n",
       "      <td>f</td>\n",
       "      <td>f</td>\n",
       "      <td>f</td>\n",
       "      <td>f</td>\n",
       "      <td>1.5</td>\n",
       "      <td>1.2</td>\n",
       "      <td>117</td>\n",
       "      <td>0.96</td>\n",
       "      <td>121</td>\n",
       "      <td>P</td>\n",
       "    </tr>\n",
       "    <tr>\n",
       "      <th>18</th>\n",
       "      <td>80</td>\n",
       "      <td>F</td>\n",
       "      <td>f</td>\n",
       "      <td>f</td>\n",
       "      <td>f</td>\n",
       "      <td>f</td>\n",
       "      <td>f</td>\n",
       "      <td>f</td>\n",
       "      <td>f</td>\n",
       "      <td>6</td>\n",
       "      <td>1.6</td>\n",
       "      <td>99</td>\n",
       "      <td>0.95</td>\n",
       "      <td>104</td>\n",
       "      <td>P</td>\n",
       "    </tr>\n",
       "    <tr>\n",
       "      <th>19</th>\n",
       "      <td>28</td>\n",
       "      <td>M</td>\n",
       "      <td>f</td>\n",
       "      <td>f</td>\n",
       "      <td>f</td>\n",
       "      <td>f</td>\n",
       "      <td>f</td>\n",
       "      <td>f</td>\n",
       "      <td>f</td>\n",
       "      <td>2.1</td>\n",
       "      <td>2.6</td>\n",
       "      <td>121</td>\n",
       "      <td>0.94</td>\n",
       "      <td>130</td>\n",
       "      <td>P</td>\n",
       "    </tr>\n",
       "  </tbody>\n",
       "</table>\n",
       "</div>"
      ],
      "text/plain": [
       "   age sex sick pregnant thyroid surgery I131 treatment lithium goitre tumor  \\\n",
       "0   41   F    f        f               f              f       f      f     f   \n",
       "1   23   F    f        f               f              f       f      f     f   \n",
       "2   46   M    f        f               f              f       f      f     f   \n",
       "3   70   F    f        f               f              f       f      f     f   \n",
       "4   70   F    f        f               f              f       f      f     f   \n",
       "5   18   F    f        f               f              f       f      f     f   \n",
       "6   59   F    f        f               f              f       f      f     f   \n",
       "7   80   F    f        f               f              f       f      f     f   \n",
       "8   66   F    f        f               f              f       f      f     t   \n",
       "9   68   M    f        f               f              f       f      f     f   \n",
       "10  84   F    f        f               f              f       f      f     t   \n",
       "11  67   F    f        f               f              f       f      f     f   \n",
       "12  71   F    t        f               f              f       f      f     f   \n",
       "13  59   F    f        f               f              f       f      f     f   \n",
       "14  28   M    f        f               f              f       f      f     f   \n",
       "15  65   F    f        f               f              f       f      f     f   \n",
       "16  42   ?    f        f               f              f       f      f     f   \n",
       "17  63   F    f        f               f              f       f      f     f   \n",
       "18  80   F    f        f               f              f       f      f     f   \n",
       "19  28   M    f        f               f              f       f      f     f   \n",
       "\n",
       "     TSH   T3  TT4   T4U  FTI label  \n",
       "0    1.3  2.5  125  1.14  109     P  \n",
       "1    4.1    2  102     ?    ?     P  \n",
       "2   0.98    ?  109  0.91  120     P  \n",
       "3   0.16  1.9  175     ?    ?     P  \n",
       "4   0.72  1.2   61  0.87   70     P  \n",
       "5   0.03    ?  183   1.3  141     P  \n",
       "6      ?    ?   72  0.92   78     P  \n",
       "7    2.2  0.6   80   0.7  115     P  \n",
       "8    0.6  2.2  123  0.93  132     P  \n",
       "9    2.4  1.6   83  0.89   93     P  \n",
       "10   1.1  2.2  115  0.95  121     P  \n",
       "11  0.03    ?  152  0.99  153     P  \n",
       "12  0.03  3.8  171  1.13  151     P  \n",
       "13   2.8  1.7   97  0.91  107     P  \n",
       "14   3.3  1.8  109  0.91  119     P  \n",
       "15    12    ?   99  1.14   87     N  \n",
       "16   1.2  1.8   70  0.86   81     P  \n",
       "17   1.5  1.2  117  0.96  121     P  \n",
       "18     6  1.6   99  0.95  104     P  \n",
       "19   2.1  2.6  121  0.94  130     P  "
      ]
     },
     "execution_count": 13,
     "metadata": {},
     "output_type": "execute_result"
    }
   ],
   "source": [
    "df.head(20)"
   ]
  },
  {
   "cell_type": "code",
   "execution_count": 14,
   "metadata": {
    "colab": {
     "base_uri": "https://localhost:8080/"
    },
    "id": "-3uNovBoegh_",
    "outputId": "042ec403-a5b4-4eb2-8791-3f5f5175b957"
   },
   "outputs": [
    {
     "name": "stdout",
     "output_type": "stream",
     "text": [
      "<class 'pandas.core.frame.DataFrame'>\n",
      "RangeIndex: 3772 entries, 0 to 3771\n",
      "Data columns (total 15 columns):\n",
      " #   Column           Non-Null Count  Dtype \n",
      "---  ------           --------------  ----- \n",
      " 0   age              3772 non-null   object\n",
      " 1   sex              3772 non-null   object\n",
      " 2   sick             3772 non-null   object\n",
      " 3   pregnant         3772 non-null   object\n",
      " 4   thyroid surgery  3772 non-null   object\n",
      " 5   I131 treatment   3772 non-null   object\n",
      " 6   lithium          3772 non-null   object\n",
      " 7   goitre           3772 non-null   object\n",
      " 8   tumor            3772 non-null   object\n",
      " 9   TSH              3772 non-null   object\n",
      " 10  T3               3772 non-null   object\n",
      " 11  TT4              3772 non-null   object\n",
      " 12  T4U              3772 non-null   object\n",
      " 13  FTI              3772 non-null   object\n",
      " 14  label            3772 non-null   object\n",
      "dtypes: object(15)\n",
      "memory usage: 442.2+ KB\n"
     ]
    }
   ],
   "source": [
    "df.info()\n",
    "#Gives us the more info about the dataset"
   ]
  },
  {
   "cell_type": "code",
   "execution_count": 15,
   "metadata": {
    "id": "Ngm0Oz7Wezns"
   },
   "outputs": [],
   "source": [
    "df.replace('?', np.nan, inplace = True)\n",
    "#After observing the dataset, we can see question marks which can be replaced by Nan using Numpy"
   ]
  },
  {
   "cell_type": "code",
   "execution_count": 16,
   "metadata": {
    "colab": {
     "base_uri": "https://localhost:8080/",
     "height": 423
    },
    "id": "SQfxOX_2fWdU",
    "outputId": "14c17f7f-789f-4043-fd5e-f2575d89c9db"
   },
   "outputs": [
    {
     "data": {
      "text/html": [
       "<div>\n",
       "<style scoped>\n",
       "    .dataframe tbody tr th:only-of-type {\n",
       "        vertical-align: middle;\n",
       "    }\n",
       "\n",
       "    .dataframe tbody tr th {\n",
       "        vertical-align: top;\n",
       "    }\n",
       "\n",
       "    .dataframe thead th {\n",
       "        text-align: right;\n",
       "    }\n",
       "</style>\n",
       "<table border=\"1\" class=\"dataframe\">\n",
       "  <thead>\n",
       "    <tr style=\"text-align: right;\">\n",
       "      <th></th>\n",
       "      <th>age</th>\n",
       "      <th>sex</th>\n",
       "      <th>sick</th>\n",
       "      <th>pregnant</th>\n",
       "      <th>thyroid surgery</th>\n",
       "      <th>I131 treatment</th>\n",
       "      <th>lithium</th>\n",
       "      <th>goitre</th>\n",
       "      <th>tumor</th>\n",
       "      <th>TSH</th>\n",
       "      <th>T3</th>\n",
       "      <th>TT4</th>\n",
       "      <th>T4U</th>\n",
       "      <th>FTI</th>\n",
       "      <th>label</th>\n",
       "    </tr>\n",
       "  </thead>\n",
       "  <tbody>\n",
       "    <tr>\n",
       "      <th>0</th>\n",
       "      <td>41</td>\n",
       "      <td>F</td>\n",
       "      <td>f</td>\n",
       "      <td>f</td>\n",
       "      <td>f</td>\n",
       "      <td>f</td>\n",
       "      <td>f</td>\n",
       "      <td>f</td>\n",
       "      <td>f</td>\n",
       "      <td>1.3</td>\n",
       "      <td>2.5</td>\n",
       "      <td>125</td>\n",
       "      <td>1.14</td>\n",
       "      <td>109</td>\n",
       "      <td>P</td>\n",
       "    </tr>\n",
       "    <tr>\n",
       "      <th>1</th>\n",
       "      <td>23</td>\n",
       "      <td>F</td>\n",
       "      <td>f</td>\n",
       "      <td>f</td>\n",
       "      <td>f</td>\n",
       "      <td>f</td>\n",
       "      <td>f</td>\n",
       "      <td>f</td>\n",
       "      <td>f</td>\n",
       "      <td>4.1</td>\n",
       "      <td>2</td>\n",
       "      <td>102</td>\n",
       "      <td>NaN</td>\n",
       "      <td>NaN</td>\n",
       "      <td>P</td>\n",
       "    </tr>\n",
       "    <tr>\n",
       "      <th>2</th>\n",
       "      <td>46</td>\n",
       "      <td>M</td>\n",
       "      <td>f</td>\n",
       "      <td>f</td>\n",
       "      <td>f</td>\n",
       "      <td>f</td>\n",
       "      <td>f</td>\n",
       "      <td>f</td>\n",
       "      <td>f</td>\n",
       "      <td>0.98</td>\n",
       "      <td>NaN</td>\n",
       "      <td>109</td>\n",
       "      <td>0.91</td>\n",
       "      <td>120</td>\n",
       "      <td>P</td>\n",
       "    </tr>\n",
       "    <tr>\n",
       "      <th>3</th>\n",
       "      <td>70</td>\n",
       "      <td>F</td>\n",
       "      <td>f</td>\n",
       "      <td>f</td>\n",
       "      <td>f</td>\n",
       "      <td>f</td>\n",
       "      <td>f</td>\n",
       "      <td>f</td>\n",
       "      <td>f</td>\n",
       "      <td>0.16</td>\n",
       "      <td>1.9</td>\n",
       "      <td>175</td>\n",
       "      <td>NaN</td>\n",
       "      <td>NaN</td>\n",
       "      <td>P</td>\n",
       "    </tr>\n",
       "    <tr>\n",
       "      <th>4</th>\n",
       "      <td>70</td>\n",
       "      <td>F</td>\n",
       "      <td>f</td>\n",
       "      <td>f</td>\n",
       "      <td>f</td>\n",
       "      <td>f</td>\n",
       "      <td>f</td>\n",
       "      <td>f</td>\n",
       "      <td>f</td>\n",
       "      <td>0.72</td>\n",
       "      <td>1.2</td>\n",
       "      <td>61</td>\n",
       "      <td>0.87</td>\n",
       "      <td>70</td>\n",
       "      <td>P</td>\n",
       "    </tr>\n",
       "    <tr>\n",
       "      <th>...</th>\n",
       "      <td>...</td>\n",
       "      <td>...</td>\n",
       "      <td>...</td>\n",
       "      <td>...</td>\n",
       "      <td>...</td>\n",
       "      <td>...</td>\n",
       "      <td>...</td>\n",
       "      <td>...</td>\n",
       "      <td>...</td>\n",
       "      <td>...</td>\n",
       "      <td>...</td>\n",
       "      <td>...</td>\n",
       "      <td>...</td>\n",
       "      <td>...</td>\n",
       "      <td>...</td>\n",
       "    </tr>\n",
       "    <tr>\n",
       "      <th>95</th>\n",
       "      <td>26</td>\n",
       "      <td>F</td>\n",
       "      <td>f</td>\n",
       "      <td>f</td>\n",
       "      <td>f</td>\n",
       "      <td>f</td>\n",
       "      <td>f</td>\n",
       "      <td>f</td>\n",
       "      <td>f</td>\n",
       "      <td>2</td>\n",
       "      <td>NaN</td>\n",
       "      <td>137</td>\n",
       "      <td>1.63</td>\n",
       "      <td>84</td>\n",
       "      <td>P</td>\n",
       "    </tr>\n",
       "    <tr>\n",
       "      <th>96</th>\n",
       "      <td>59</td>\n",
       "      <td>NaN</td>\n",
       "      <td>f</td>\n",
       "      <td>f</td>\n",
       "      <td>f</td>\n",
       "      <td>f</td>\n",
       "      <td>f</td>\n",
       "      <td>f</td>\n",
       "      <td>f</td>\n",
       "      <td>1.5</td>\n",
       "      <td>NaN</td>\n",
       "      <td>92</td>\n",
       "      <td>0.93</td>\n",
       "      <td>99</td>\n",
       "      <td>P</td>\n",
       "    </tr>\n",
       "    <tr>\n",
       "      <th>97</th>\n",
       "      <td>39</td>\n",
       "      <td>F</td>\n",
       "      <td>f</td>\n",
       "      <td>f</td>\n",
       "      <td>f</td>\n",
       "      <td>f</td>\n",
       "      <td>f</td>\n",
       "      <td>f</td>\n",
       "      <td>f</td>\n",
       "      <td>4.3</td>\n",
       "      <td>2.4</td>\n",
       "      <td>135</td>\n",
       "      <td>1.51</td>\n",
       "      <td>89</td>\n",
       "      <td>P</td>\n",
       "    </tr>\n",
       "    <tr>\n",
       "      <th>98</th>\n",
       "      <td>69</td>\n",
       "      <td>F</td>\n",
       "      <td>f</td>\n",
       "      <td>f</td>\n",
       "      <td>f</td>\n",
       "      <td>f</td>\n",
       "      <td>f</td>\n",
       "      <td>f</td>\n",
       "      <td>f</td>\n",
       "      <td>1.4</td>\n",
       "      <td>NaN</td>\n",
       "      <td>123</td>\n",
       "      <td>0.91</td>\n",
       "      <td>136</td>\n",
       "      <td>P</td>\n",
       "    </tr>\n",
       "    <tr>\n",
       "      <th>99</th>\n",
       "      <td>48</td>\n",
       "      <td>F</td>\n",
       "      <td>f</td>\n",
       "      <td>f</td>\n",
       "      <td>f</td>\n",
       "      <td>f</td>\n",
       "      <td>f</td>\n",
       "      <td>f</td>\n",
       "      <td>f</td>\n",
       "      <td>0.3</td>\n",
       "      <td>1.6</td>\n",
       "      <td>86</td>\n",
       "      <td>0.93</td>\n",
       "      <td>92</td>\n",
       "      <td>P</td>\n",
       "    </tr>\n",
       "  </tbody>\n",
       "</table>\n",
       "<p>100 rows × 15 columns</p>\n",
       "</div>"
      ],
      "text/plain": [
       "   age  sex sick pregnant thyroid surgery I131 treatment lithium goitre tumor  \\\n",
       "0   41    F    f        f               f              f       f      f     f   \n",
       "1   23    F    f        f               f              f       f      f     f   \n",
       "2   46    M    f        f               f              f       f      f     f   \n",
       "3   70    F    f        f               f              f       f      f     f   \n",
       "4   70    F    f        f               f              f       f      f     f   \n",
       "..  ..  ...  ...      ...             ...            ...     ...    ...   ...   \n",
       "95  26    F    f        f               f              f       f      f     f   \n",
       "96  59  NaN    f        f               f              f       f      f     f   \n",
       "97  39    F    f        f               f              f       f      f     f   \n",
       "98  69    F    f        f               f              f       f      f     f   \n",
       "99  48    F    f        f               f              f       f      f     f   \n",
       "\n",
       "     TSH   T3  TT4   T4U  FTI label  \n",
       "0    1.3  2.5  125  1.14  109     P  \n",
       "1    4.1    2  102   NaN  NaN     P  \n",
       "2   0.98  NaN  109  0.91  120     P  \n",
       "3   0.16  1.9  175   NaN  NaN     P  \n",
       "4   0.72  1.2   61  0.87   70     P  \n",
       "..   ...  ...  ...   ...  ...   ...  \n",
       "95     2  NaN  137  1.63   84     P  \n",
       "96   1.5  NaN   92  0.93   99     P  \n",
       "97   4.3  2.4  135  1.51   89     P  \n",
       "98   1.4  NaN  123  0.91  136     P  \n",
       "99   0.3  1.6   86  0.93   92     P  \n",
       "\n",
       "[100 rows x 15 columns]"
      ]
     },
     "execution_count": 16,
     "metadata": {},
     "output_type": "execute_result"
    }
   ],
   "source": [
    "df.head(100)"
   ]
  },
  {
   "cell_type": "code",
   "execution_count": 17,
   "metadata": {
    "colab": {
     "base_uri": "https://localhost:8080/"
    },
    "id": "vpKOyaT1fjbP",
    "outputId": "90e937a4-d443-47b5-e10e-d2dad2e00b69"
   },
   "outputs": [
    {
     "data": {
      "text/plain": [
       "f    3719\n",
       "t      53\n",
       "Name: thyroid surgery, dtype: int64"
      ]
     },
     "execution_count": 17,
     "metadata": {},
     "output_type": "execute_result"
    }
   ],
   "source": [
    "df['thyroid surgery'].value_counts()\n",
    "#checking the unique values in the column thyroid surgery"
   ]
  },
  {
   "cell_type": "code",
   "execution_count": 18,
   "metadata": {
    "id": "GmoyyfCshU9A"
   },
   "outputs": [],
   "source": [
    "cols = ['age','FTI','TSH','T3','TT4','T4U']\n",
    "for i in cols:\n",
    "  df[i] = pd.to_numeric(df[i])\n",
    "\n",
    "#Columns age,FTI,TSH,T3,TT4,T4U do appear as numeric but they have object datatype\n",
    "#Hence, we have converted them to numeric by creating a list of column index and then running a for loop to convert each column values by their index to numeric datatype"
   ]
  },
  {
   "cell_type": "code",
   "execution_count": 19,
   "metadata": {
    "colab": {
     "base_uri": "https://localhost:8080/"
    },
    "id": "EyNvTEpjkXpO",
    "outputId": "313356d7-1355-42a9-b7b7-91a9a50b6329"
   },
   "outputs": [
    {
     "name": "stdout",
     "output_type": "stream",
     "text": [
      "<class 'pandas.core.frame.DataFrame'>\n",
      "RangeIndex: 3772 entries, 0 to 3771\n",
      "Data columns (total 15 columns):\n",
      " #   Column           Non-Null Count  Dtype  \n",
      "---  ------           --------------  -----  \n",
      " 0   age              3771 non-null   float64\n",
      " 1   sex              3622 non-null   object \n",
      " 2   sick             3772 non-null   object \n",
      " 3   pregnant         3772 non-null   object \n",
      " 4   thyroid surgery  3772 non-null   object \n",
      " 5   I131 treatment   3772 non-null   object \n",
      " 6   lithium          3772 non-null   object \n",
      " 7   goitre           3772 non-null   object \n",
      " 8   tumor            3772 non-null   object \n",
      " 9   TSH              3403 non-null   float64\n",
      " 10  T3               3003 non-null   float64\n",
      " 11  TT4              3541 non-null   float64\n",
      " 12  T4U              3385 non-null   float64\n",
      " 13  FTI              3387 non-null   float64\n",
      " 14  label            3772 non-null   object \n",
      "dtypes: float64(6), object(9)\n",
      "memory usage: 442.2+ KB\n"
     ]
    }
   ],
   "source": [
    "df.info()\n",
    "#here we can see age and the other columns we converted.Now they are float"
   ]
  },
  {
   "cell_type": "code",
   "execution_count": 20,
   "metadata": {
    "colab": {
     "base_uri": "https://localhost:8080/",
     "height": 423
    },
    "id": "aqBUh1BJkjos",
    "outputId": "d046db18-5fc8-45c1-fb0f-952e98b2ffb6"
   },
   "outputs": [
    {
     "data": {
      "text/html": [
       "<div>\n",
       "<style scoped>\n",
       "    .dataframe tbody tr th:only-of-type {\n",
       "        vertical-align: middle;\n",
       "    }\n",
       "\n",
       "    .dataframe tbody tr th {\n",
       "        vertical-align: top;\n",
       "    }\n",
       "\n",
       "    .dataframe thead th {\n",
       "        text-align: right;\n",
       "    }\n",
       "</style>\n",
       "<table border=\"1\" class=\"dataframe\">\n",
       "  <thead>\n",
       "    <tr style=\"text-align: right;\">\n",
       "      <th></th>\n",
       "      <th>age</th>\n",
       "      <th>sex</th>\n",
       "      <th>sick</th>\n",
       "      <th>pregnant</th>\n",
       "      <th>thyroid surgery</th>\n",
       "      <th>I131 treatment</th>\n",
       "      <th>lithium</th>\n",
       "      <th>goitre</th>\n",
       "      <th>tumor</th>\n",
       "      <th>TSH</th>\n",
       "      <th>T3</th>\n",
       "      <th>TT4</th>\n",
       "      <th>T4U</th>\n",
       "      <th>FTI</th>\n",
       "      <th>label</th>\n",
       "    </tr>\n",
       "  </thead>\n",
       "  <tbody>\n",
       "    <tr>\n",
       "      <th>0</th>\n",
       "      <td>False</td>\n",
       "      <td>False</td>\n",
       "      <td>False</td>\n",
       "      <td>False</td>\n",
       "      <td>False</td>\n",
       "      <td>False</td>\n",
       "      <td>False</td>\n",
       "      <td>False</td>\n",
       "      <td>False</td>\n",
       "      <td>False</td>\n",
       "      <td>False</td>\n",
       "      <td>False</td>\n",
       "      <td>False</td>\n",
       "      <td>False</td>\n",
       "      <td>False</td>\n",
       "    </tr>\n",
       "    <tr>\n",
       "      <th>1</th>\n",
       "      <td>False</td>\n",
       "      <td>False</td>\n",
       "      <td>False</td>\n",
       "      <td>False</td>\n",
       "      <td>False</td>\n",
       "      <td>False</td>\n",
       "      <td>False</td>\n",
       "      <td>False</td>\n",
       "      <td>False</td>\n",
       "      <td>False</td>\n",
       "      <td>False</td>\n",
       "      <td>False</td>\n",
       "      <td>True</td>\n",
       "      <td>True</td>\n",
       "      <td>False</td>\n",
       "    </tr>\n",
       "    <tr>\n",
       "      <th>2</th>\n",
       "      <td>False</td>\n",
       "      <td>False</td>\n",
       "      <td>False</td>\n",
       "      <td>False</td>\n",
       "      <td>False</td>\n",
       "      <td>False</td>\n",
       "      <td>False</td>\n",
       "      <td>False</td>\n",
       "      <td>False</td>\n",
       "      <td>False</td>\n",
       "      <td>True</td>\n",
       "      <td>False</td>\n",
       "      <td>False</td>\n",
       "      <td>False</td>\n",
       "      <td>False</td>\n",
       "    </tr>\n",
       "    <tr>\n",
       "      <th>3</th>\n",
       "      <td>False</td>\n",
       "      <td>False</td>\n",
       "      <td>False</td>\n",
       "      <td>False</td>\n",
       "      <td>False</td>\n",
       "      <td>False</td>\n",
       "      <td>False</td>\n",
       "      <td>False</td>\n",
       "      <td>False</td>\n",
       "      <td>False</td>\n",
       "      <td>False</td>\n",
       "      <td>False</td>\n",
       "      <td>True</td>\n",
       "      <td>True</td>\n",
       "      <td>False</td>\n",
       "    </tr>\n",
       "    <tr>\n",
       "      <th>4</th>\n",
       "      <td>False</td>\n",
       "      <td>False</td>\n",
       "      <td>False</td>\n",
       "      <td>False</td>\n",
       "      <td>False</td>\n",
       "      <td>False</td>\n",
       "      <td>False</td>\n",
       "      <td>False</td>\n",
       "      <td>False</td>\n",
       "      <td>False</td>\n",
       "      <td>False</td>\n",
       "      <td>False</td>\n",
       "      <td>False</td>\n",
       "      <td>False</td>\n",
       "      <td>False</td>\n",
       "    </tr>\n",
       "    <tr>\n",
       "      <th>...</th>\n",
       "      <td>...</td>\n",
       "      <td>...</td>\n",
       "      <td>...</td>\n",
       "      <td>...</td>\n",
       "      <td>...</td>\n",
       "      <td>...</td>\n",
       "      <td>...</td>\n",
       "      <td>...</td>\n",
       "      <td>...</td>\n",
       "      <td>...</td>\n",
       "      <td>...</td>\n",
       "      <td>...</td>\n",
       "      <td>...</td>\n",
       "      <td>...</td>\n",
       "      <td>...</td>\n",
       "    </tr>\n",
       "    <tr>\n",
       "      <th>3767</th>\n",
       "      <td>False</td>\n",
       "      <td>False</td>\n",
       "      <td>False</td>\n",
       "      <td>False</td>\n",
       "      <td>False</td>\n",
       "      <td>False</td>\n",
       "      <td>False</td>\n",
       "      <td>False</td>\n",
       "      <td>False</td>\n",
       "      <td>True</td>\n",
       "      <td>True</td>\n",
       "      <td>True</td>\n",
       "      <td>True</td>\n",
       "      <td>True</td>\n",
       "      <td>False</td>\n",
       "    </tr>\n",
       "    <tr>\n",
       "      <th>3768</th>\n",
       "      <td>False</td>\n",
       "      <td>False</td>\n",
       "      <td>False</td>\n",
       "      <td>False</td>\n",
       "      <td>False</td>\n",
       "      <td>False</td>\n",
       "      <td>False</td>\n",
       "      <td>False</td>\n",
       "      <td>False</td>\n",
       "      <td>False</td>\n",
       "      <td>False</td>\n",
       "      <td>False</td>\n",
       "      <td>False</td>\n",
       "      <td>False</td>\n",
       "      <td>False</td>\n",
       "    </tr>\n",
       "    <tr>\n",
       "      <th>3769</th>\n",
       "      <td>False</td>\n",
       "      <td>False</td>\n",
       "      <td>False</td>\n",
       "      <td>False</td>\n",
       "      <td>False</td>\n",
       "      <td>False</td>\n",
       "      <td>False</td>\n",
       "      <td>False</td>\n",
       "      <td>False</td>\n",
       "      <td>False</td>\n",
       "      <td>False</td>\n",
       "      <td>False</td>\n",
       "      <td>False</td>\n",
       "      <td>False</td>\n",
       "      <td>False</td>\n",
       "    </tr>\n",
       "    <tr>\n",
       "      <th>3770</th>\n",
       "      <td>False</td>\n",
       "      <td>False</td>\n",
       "      <td>False</td>\n",
       "      <td>False</td>\n",
       "      <td>False</td>\n",
       "      <td>False</td>\n",
       "      <td>False</td>\n",
       "      <td>False</td>\n",
       "      <td>False</td>\n",
       "      <td>False</td>\n",
       "      <td>False</td>\n",
       "      <td>False</td>\n",
       "      <td>False</td>\n",
       "      <td>False</td>\n",
       "      <td>False</td>\n",
       "    </tr>\n",
       "    <tr>\n",
       "      <th>3771</th>\n",
       "      <td>False</td>\n",
       "      <td>False</td>\n",
       "      <td>False</td>\n",
       "      <td>False</td>\n",
       "      <td>False</td>\n",
       "      <td>False</td>\n",
       "      <td>False</td>\n",
       "      <td>False</td>\n",
       "      <td>False</td>\n",
       "      <td>False</td>\n",
       "      <td>False</td>\n",
       "      <td>False</td>\n",
       "      <td>False</td>\n",
       "      <td>False</td>\n",
       "      <td>False</td>\n",
       "    </tr>\n",
       "  </tbody>\n",
       "</table>\n",
       "<p>3772 rows × 15 columns</p>\n",
       "</div>"
      ],
      "text/plain": [
       "        age    sex   sick  pregnant  thyroid surgery  I131 treatment  lithium  \\\n",
       "0     False  False  False     False            False           False    False   \n",
       "1     False  False  False     False            False           False    False   \n",
       "2     False  False  False     False            False           False    False   \n",
       "3     False  False  False     False            False           False    False   \n",
       "4     False  False  False     False            False           False    False   \n",
       "...     ...    ...    ...       ...              ...             ...      ...   \n",
       "3767  False  False  False     False            False           False    False   \n",
       "3768  False  False  False     False            False           False    False   \n",
       "3769  False  False  False     False            False           False    False   \n",
       "3770  False  False  False     False            False           False    False   \n",
       "3771  False  False  False     False            False           False    False   \n",
       "\n",
       "      goitre  tumor    TSH     T3    TT4    T4U    FTI  label  \n",
       "0      False  False  False  False  False  False  False  False  \n",
       "1      False  False  False  False  False   True   True  False  \n",
       "2      False  False  False   True  False  False  False  False  \n",
       "3      False  False  False  False  False   True   True  False  \n",
       "4      False  False  False  False  False  False  False  False  \n",
       "...      ...    ...    ...    ...    ...    ...    ...    ...  \n",
       "3767   False  False   True   True   True   True   True  False  \n",
       "3768   False  False  False  False  False  False  False  False  \n",
       "3769   False  False  False  False  False  False  False  False  \n",
       "3770   False  False  False  False  False  False  False  False  \n",
       "3771   False  False  False  False  False  False  False  False  \n",
       "\n",
       "[3772 rows x 15 columns]"
      ]
     },
     "execution_count": 20,
     "metadata": {},
     "output_type": "execute_result"
    }
   ],
   "source": [
    "df.isnull()\n",
    "#Displays all the null values in the dataset"
   ]
  },
  {
   "cell_type": "code",
   "execution_count": 21,
   "metadata": {
    "colab": {
     "base_uri": "https://localhost:8080/"
    },
    "id": "kfCGQsJIk3El",
    "outputId": "caae43b3-b071-440f-d8eb-532b41eda65d"
   },
   "outputs": [
    {
     "data": {
      "text/plain": [
       "age                  1\n",
       "sex                150\n",
       "sick                 0\n",
       "pregnant             0\n",
       "thyroid surgery      0\n",
       "I131 treatment       0\n",
       "lithium              0\n",
       "goitre               0\n",
       "tumor                0\n",
       "TSH                369\n",
       "T3                 769\n",
       "TT4                231\n",
       "T4U                387\n",
       "FTI                385\n",
       "label                0\n",
       "dtype: int64"
      ]
     },
     "execution_count": 21,
     "metadata": {},
     "output_type": "execute_result"
    }
   ],
   "source": [
    "df.isnull().sum()\n",
    "#Displays the count of all the null values in each column from the dataset"
   ]
  },
  {
   "cell_type": "code",
   "execution_count": 22,
   "metadata": {
    "colab": {
     "base_uri": "https://localhost:8080/",
     "height": 589
    },
    "id": "9YyBOg4MoLR-",
    "outputId": "6cf574a0-df6f-4abf-ae8e-4031515ca26a"
   },
   "outputs": [
    {
     "data": {
      "text/plain": [
       "Text(0.5, 1.0, 'Distribution of dataset Based on T3')"
      ]
     },
     "execution_count": 22,
     "metadata": {},
     "output_type": "execute_result"
    },
    {
     "data": {
      "image/png": "[encoded data removed]",
      "text/plain": [
       "<Figure size 900x600 with 1 Axes>"
      ]
     },
     "metadata": {},
     "output_type": "display_data"
    }
   ],
   "source": [
    "plt.figure(figsize=(9,6))\n",
    "sns.histplot(x='T3',data=df,color='pink')\n",
    "plt.title(\"Distribution of dataset Based on T3\",{'fontsize':20})\n",
    "\n",
    "#Plotting a histogram to check the distribution"
   ]
  },
  {
   "cell_type": "code",
   "execution_count": 23,
   "metadata": {
    "id": "OXdUllEjlJhS"
   },
   "outputs": [],
   "source": [
    "miss_cols = ['TSH','T3','TT4','T4U','FTI']\n",
    "for i in miss_cols:\n",
    "  df[i] = df[i].fillna(df[i].mean())\n",
    "\n",
    "#filling the missing values in the columns TSH,T3,TT4,T4U,FTI with the mean as they have missing values count which cannot be ignored\n",
    "#NOTE: there is one missing value in age and 150 missing values in sex but they are relatively not that important to be replaced by their mean values"
   ]
  },
  {
   "cell_type": "code",
   "execution_count": 24,
   "metadata": {
    "colab": {
     "base_uri": "https://localhost:8080/",
     "height": 206
    },
    "id": "5Zp8KpxHmRK-",
    "outputId": "51845cd4-7531-4186-8313-d34ff4f3b33a"
   },
   "outputs": [
    {
     "data": {
      "text/html": [
       "<div>\n",
       "<style scoped>\n",
       "    .dataframe tbody tr th:only-of-type {\n",
       "        vertical-align: middle;\n",
       "    }\n",
       "\n",
       "    .dataframe tbody tr th {\n",
       "        vertical-align: top;\n",
       "    }\n",
       "\n",
       "    .dataframe thead th {\n",
       "        text-align: right;\n",
       "    }\n",
       "</style>\n",
       "<table border=\"1\" class=\"dataframe\">\n",
       "  <thead>\n",
       "    <tr style=\"text-align: right;\">\n",
       "      <th></th>\n",
       "      <th>age</th>\n",
       "      <th>sex</th>\n",
       "      <th>sick</th>\n",
       "      <th>pregnant</th>\n",
       "      <th>thyroid surgery</th>\n",
       "      <th>I131 treatment</th>\n",
       "      <th>lithium</th>\n",
       "      <th>goitre</th>\n",
       "      <th>tumor</th>\n",
       "      <th>TSH</th>\n",
       "      <th>T3</th>\n",
       "      <th>TT4</th>\n",
       "      <th>T4U</th>\n",
       "      <th>FTI</th>\n",
       "      <th>label</th>\n",
       "    </tr>\n",
       "  </thead>\n",
       "  <tbody>\n",
       "    <tr>\n",
       "      <th>0</th>\n",
       "      <td>41.0</td>\n",
       "      <td>F</td>\n",
       "      <td>f</td>\n",
       "      <td>f</td>\n",
       "      <td>f</td>\n",
       "      <td>f</td>\n",
       "      <td>f</td>\n",
       "      <td>f</td>\n",
       "      <td>f</td>\n",
       "      <td>1.30</td>\n",
       "      <td>2.5000</td>\n",
       "      <td>125.0</td>\n",
       "      <td>1.140</td>\n",
       "      <td>109.000000</td>\n",
       "      <td>P</td>\n",
       "    </tr>\n",
       "    <tr>\n",
       "      <th>1</th>\n",
       "      <td>23.0</td>\n",
       "      <td>F</td>\n",
       "      <td>f</td>\n",
       "      <td>f</td>\n",
       "      <td>f</td>\n",
       "      <td>f</td>\n",
       "      <td>f</td>\n",
       "      <td>f</td>\n",
       "      <td>f</td>\n",
       "      <td>4.10</td>\n",
       "      <td>2.0000</td>\n",
       "      <td>102.0</td>\n",
       "      <td>0.995</td>\n",
       "      <td>110.469649</td>\n",
       "      <td>P</td>\n",
       "    </tr>\n",
       "    <tr>\n",
       "      <th>2</th>\n",
       "      <td>46.0</td>\n",
       "      <td>M</td>\n",
       "      <td>f</td>\n",
       "      <td>f</td>\n",
       "      <td>f</td>\n",
       "      <td>f</td>\n",
       "      <td>f</td>\n",
       "      <td>f</td>\n",
       "      <td>f</td>\n",
       "      <td>0.98</td>\n",
       "      <td>2.0135</td>\n",
       "      <td>109.0</td>\n",
       "      <td>0.910</td>\n",
       "      <td>120.000000</td>\n",
       "      <td>P</td>\n",
       "    </tr>\n",
       "    <tr>\n",
       "      <th>3</th>\n",
       "      <td>70.0</td>\n",
       "      <td>F</td>\n",
       "      <td>f</td>\n",
       "      <td>f</td>\n",
       "      <td>f</td>\n",
       "      <td>f</td>\n",
       "      <td>f</td>\n",
       "      <td>f</td>\n",
       "      <td>f</td>\n",
       "      <td>0.16</td>\n",
       "      <td>1.9000</td>\n",
       "      <td>175.0</td>\n",
       "      <td>0.995</td>\n",
       "      <td>110.469649</td>\n",
       "      <td>P</td>\n",
       "    </tr>\n",
       "    <tr>\n",
       "      <th>4</th>\n",
       "      <td>70.0</td>\n",
       "      <td>F</td>\n",
       "      <td>f</td>\n",
       "      <td>f</td>\n",
       "      <td>f</td>\n",
       "      <td>f</td>\n",
       "      <td>f</td>\n",
       "      <td>f</td>\n",
       "      <td>f</td>\n",
       "      <td>0.72</td>\n",
       "      <td>1.2000</td>\n",
       "      <td>61.0</td>\n",
       "      <td>0.870</td>\n",
       "      <td>70.000000</td>\n",
       "      <td>P</td>\n",
       "    </tr>\n",
       "  </tbody>\n",
       "</table>\n",
       "</div>"
      ],
      "text/plain": [
       "    age sex sick pregnant thyroid surgery I131 treatment lithium goitre tumor  \\\n",
       "0  41.0   F    f        f               f              f       f      f     f   \n",
       "1  23.0   F    f        f               f              f       f      f     f   \n",
       "2  46.0   M    f        f               f              f       f      f     f   \n",
       "3  70.0   F    f        f               f              f       f      f     f   \n",
       "4  70.0   F    f        f               f              f       f      f     f   \n",
       "\n",
       "    TSH      T3    TT4    T4U         FTI label  \n",
       "0  1.30  2.5000  125.0  1.140  109.000000     P  \n",
       "1  4.10  2.0000  102.0  0.995  110.469649     P  \n",
       "2  0.98  2.0135  109.0  0.910  120.000000     P  \n",
       "3  0.16  1.9000  175.0  0.995  110.469649     P  \n",
       "4  0.72  1.2000   61.0  0.870   70.000000     P  "
      ]
     },
     "execution_count": 24,
     "metadata": {},
     "output_type": "execute_result"
    }
   ],
   "source": [
    "df.head()\n",
    "#we can see the missing values have been replaced by their mean values"
   ]
  },
  {
   "cell_type": "code",
   "execution_count": 25,
   "metadata": {
    "colab": {
     "base_uri": "https://localhost:8080/",
     "height": 589
    },
    "id": "LnjhTMK7nI67",
    "outputId": "7a7df4e1-3773-46e0-cd5b-0fee06574d14"
   },
   "outputs": [
    {
     "data": {
      "text/plain": [
       "Text(0.5, 1.0, 'Distribution of dataset Based on T3')"
      ]
     },
     "execution_count": 25,
     "metadata": {},
     "output_type": "execute_result"
    },
    {
     "data": {
      "image/png": "[encoded data removed]",
      "text/plain": [
       "<Figure size 900x600 with 1 Axes>"
      ]
     },
     "metadata": {},
     "output_type": "display_data"
    }
   ],
   "source": [
    "plt.figure(figsize=(9,6))\n",
    "sns.histplot(x='T3',data=df,color='pink')\n",
    "plt.title(\"Distribution of dataset Based on T3\",{'fontsize':20})\n",
    "\n",
    "#T3 distribution after replacing the missing values with their mean"
   ]
  },
  {
   "cell_type": "code",
   "execution_count": 26,
   "metadata": {
    "colab": {
     "base_uri": "https://localhost:8080/"
    },
    "id": "cMxX3Tr0ouLA",
    "outputId": "ddcb318c-221c-4dba-e410-c28d76f58762"
   },
   "outputs": [
    {
     "data": {
      "text/plain": [
       "age                  1\n",
       "sex                150\n",
       "sick                 0\n",
       "pregnant             0\n",
       "thyroid surgery      0\n",
       "I131 treatment       0\n",
       "lithium              0\n",
       "goitre               0\n",
       "tumor                0\n",
       "TSH                  0\n",
       "T3                   0\n",
       "TT4                  0\n",
       "T4U                  0\n",
       "FTI                  0\n",
       "label                0\n",
       "dtype: int64"
      ]
     },
     "execution_count": 26,
     "metadata": {},
     "output_type": "execute_result"
    }
   ],
   "source": [
    "df.isnull().sum()\n",
    "#Here we can see all the columns with missing values except 'age' and 'sex' are replaced and now have no missing values"
   ]
  },
  {
   "cell_type": "code",
   "execution_count": 27,
   "metadata": {
    "id": "x2Qtk90bo6gQ"
   },
   "outputs": [],
   "source": [
    "df.dropna(inplace = True)\n",
    "#But we can't keep the 'age' and 'sex' column with missing values\n",
    "#So, we discard these missing values using dropna()"
   ]
  },
  {
   "cell_type": "markdown",
   "metadata": {
    "id": "5ess76o9iuKI"
   },
   "source": []
  },
  {
   "cell_type": "code",
   "execution_count": 28,
   "metadata": {
    "colab": {
     "base_uri": "https://localhost:8080/"
    },
    "id": "Ao_bMJEoq7CI",
    "outputId": "20b0e408-a239-4714-d08c-df96e5fcdc9b"
   },
   "outputs": [
    {
     "data": {
      "text/plain": [
       "age                0\n",
       "sex                0\n",
       "sick               0\n",
       "pregnant           0\n",
       "thyroid surgery    0\n",
       "I131 treatment     0\n",
       "lithium            0\n",
       "goitre             0\n",
       "tumor              0\n",
       "TSH                0\n",
       "T3                 0\n",
       "TT4                0\n",
       "T4U                0\n",
       "FTI                0\n",
       "label              0\n",
       "dtype: int64"
      ]
     },
     "execution_count": 28,
     "metadata": {},
     "output_type": "execute_result"
    }
   ],
   "source": [
    "df.isnull().sum()\n",
    "#Now,there are no null values"
   ]
  },
  {
   "cell_type": "code",
   "execution_count": 29,
   "metadata": {
    "colab": {
     "base_uri": "https://localhost:8080/",
     "height": 363
    },
    "id": "yF6reFF9qubO",
    "outputId": "93734e72-bf4a-40c7-d069-f8047cd05344"
   },
   "outputs": [
    {
     "data": {
      "text/html": [
       "<div>\n",
       "<style scoped>\n",
       "    .dataframe tbody tr th:only-of-type {\n",
       "        vertical-align: middle;\n",
       "    }\n",
       "\n",
       "    .dataframe tbody tr th {\n",
       "        vertical-align: top;\n",
       "    }\n",
       "\n",
       "    .dataframe thead th {\n",
       "        text-align: right;\n",
       "    }\n",
       "</style>\n",
       "<table border=\"1\" class=\"dataframe\">\n",
       "  <thead>\n",
       "    <tr style=\"text-align: right;\">\n",
       "      <th></th>\n",
       "      <th>age</th>\n",
       "      <th>sex</th>\n",
       "      <th>sick</th>\n",
       "      <th>pregnant</th>\n",
       "      <th>thyroid surgery</th>\n",
       "      <th>I131 treatment</th>\n",
       "      <th>lithium</th>\n",
       "      <th>goitre</th>\n",
       "      <th>tumor</th>\n",
       "      <th>TSH</th>\n",
       "      <th>T3</th>\n",
       "      <th>TT4</th>\n",
       "      <th>T4U</th>\n",
       "      <th>FTI</th>\n",
       "      <th>label</th>\n",
       "    </tr>\n",
       "  </thead>\n",
       "  <tbody>\n",
       "    <tr>\n",
       "      <th>0</th>\n",
       "      <td>41.0</td>\n",
       "      <td>F</td>\n",
       "      <td>f</td>\n",
       "      <td>f</td>\n",
       "      <td>f</td>\n",
       "      <td>f</td>\n",
       "      <td>f</td>\n",
       "      <td>f</td>\n",
       "      <td>f</td>\n",
       "      <td>1.300000</td>\n",
       "      <td>2.5000</td>\n",
       "      <td>125.0</td>\n",
       "      <td>1.140</td>\n",
       "      <td>109.000000</td>\n",
       "      <td>P</td>\n",
       "    </tr>\n",
       "    <tr>\n",
       "      <th>1</th>\n",
       "      <td>23.0</td>\n",
       "      <td>F</td>\n",
       "      <td>f</td>\n",
       "      <td>f</td>\n",
       "      <td>f</td>\n",
       "      <td>f</td>\n",
       "      <td>f</td>\n",
       "      <td>f</td>\n",
       "      <td>f</td>\n",
       "      <td>4.100000</td>\n",
       "      <td>2.0000</td>\n",
       "      <td>102.0</td>\n",
       "      <td>0.995</td>\n",
       "      <td>110.469649</td>\n",
       "      <td>P</td>\n",
       "    </tr>\n",
       "    <tr>\n",
       "      <th>2</th>\n",
       "      <td>46.0</td>\n",
       "      <td>M</td>\n",
       "      <td>f</td>\n",
       "      <td>f</td>\n",
       "      <td>f</td>\n",
       "      <td>f</td>\n",
       "      <td>f</td>\n",
       "      <td>f</td>\n",
       "      <td>f</td>\n",
       "      <td>0.980000</td>\n",
       "      <td>2.0135</td>\n",
       "      <td>109.0</td>\n",
       "      <td>0.910</td>\n",
       "      <td>120.000000</td>\n",
       "      <td>P</td>\n",
       "    </tr>\n",
       "    <tr>\n",
       "      <th>3</th>\n",
       "      <td>70.0</td>\n",
       "      <td>F</td>\n",
       "      <td>f</td>\n",
       "      <td>f</td>\n",
       "      <td>f</td>\n",
       "      <td>f</td>\n",
       "      <td>f</td>\n",
       "      <td>f</td>\n",
       "      <td>f</td>\n",
       "      <td>0.160000</td>\n",
       "      <td>1.9000</td>\n",
       "      <td>175.0</td>\n",
       "      <td>0.995</td>\n",
       "      <td>110.469649</td>\n",
       "      <td>P</td>\n",
       "    </tr>\n",
       "    <tr>\n",
       "      <th>4</th>\n",
       "      <td>70.0</td>\n",
       "      <td>F</td>\n",
       "      <td>f</td>\n",
       "      <td>f</td>\n",
       "      <td>f</td>\n",
       "      <td>f</td>\n",
       "      <td>f</td>\n",
       "      <td>f</td>\n",
       "      <td>f</td>\n",
       "      <td>0.720000</td>\n",
       "      <td>1.2000</td>\n",
       "      <td>61.0</td>\n",
       "      <td>0.870</td>\n",
       "      <td>70.000000</td>\n",
       "      <td>P</td>\n",
       "    </tr>\n",
       "    <tr>\n",
       "      <th>5</th>\n",
       "      <td>18.0</td>\n",
       "      <td>F</td>\n",
       "      <td>f</td>\n",
       "      <td>f</td>\n",
       "      <td>f</td>\n",
       "      <td>f</td>\n",
       "      <td>f</td>\n",
       "      <td>f</td>\n",
       "      <td>f</td>\n",
       "      <td>0.030000</td>\n",
       "      <td>2.0135</td>\n",
       "      <td>183.0</td>\n",
       "      <td>1.300</td>\n",
       "      <td>141.000000</td>\n",
       "      <td>P</td>\n",
       "    </tr>\n",
       "    <tr>\n",
       "      <th>6</th>\n",
       "      <td>59.0</td>\n",
       "      <td>F</td>\n",
       "      <td>f</td>\n",
       "      <td>f</td>\n",
       "      <td>f</td>\n",
       "      <td>f</td>\n",
       "      <td>f</td>\n",
       "      <td>f</td>\n",
       "      <td>f</td>\n",
       "      <td>5.086766</td>\n",
       "      <td>2.0135</td>\n",
       "      <td>72.0</td>\n",
       "      <td>0.920</td>\n",
       "      <td>78.000000</td>\n",
       "      <td>P</td>\n",
       "    </tr>\n",
       "    <tr>\n",
       "      <th>7</th>\n",
       "      <td>80.0</td>\n",
       "      <td>F</td>\n",
       "      <td>f</td>\n",
       "      <td>f</td>\n",
       "      <td>f</td>\n",
       "      <td>f</td>\n",
       "      <td>f</td>\n",
       "      <td>f</td>\n",
       "      <td>f</td>\n",
       "      <td>2.200000</td>\n",
       "      <td>0.6000</td>\n",
       "      <td>80.0</td>\n",
       "      <td>0.700</td>\n",
       "      <td>115.000000</td>\n",
       "      <td>P</td>\n",
       "    </tr>\n",
       "    <tr>\n",
       "      <th>8</th>\n",
       "      <td>66.0</td>\n",
       "      <td>F</td>\n",
       "      <td>f</td>\n",
       "      <td>f</td>\n",
       "      <td>f</td>\n",
       "      <td>f</td>\n",
       "      <td>f</td>\n",
       "      <td>f</td>\n",
       "      <td>t</td>\n",
       "      <td>0.600000</td>\n",
       "      <td>2.2000</td>\n",
       "      <td>123.0</td>\n",
       "      <td>0.930</td>\n",
       "      <td>132.000000</td>\n",
       "      <td>P</td>\n",
       "    </tr>\n",
       "    <tr>\n",
       "      <th>9</th>\n",
       "      <td>68.0</td>\n",
       "      <td>M</td>\n",
       "      <td>f</td>\n",
       "      <td>f</td>\n",
       "      <td>f</td>\n",
       "      <td>f</td>\n",
       "      <td>f</td>\n",
       "      <td>f</td>\n",
       "      <td>f</td>\n",
       "      <td>2.400000</td>\n",
       "      <td>1.6000</td>\n",
       "      <td>83.0</td>\n",
       "      <td>0.890</td>\n",
       "      <td>93.000000</td>\n",
       "      <td>P</td>\n",
       "    </tr>\n",
       "  </tbody>\n",
       "</table>\n",
       "</div>"
      ],
      "text/plain": [
       "    age sex sick pregnant thyroid surgery I131 treatment lithium goitre tumor  \\\n",
       "0  41.0   F    f        f               f              f       f      f     f   \n",
       "1  23.0   F    f        f               f              f       f      f     f   \n",
       "2  46.0   M    f        f               f              f       f      f     f   \n",
       "3  70.0   F    f        f               f              f       f      f     f   \n",
       "4  70.0   F    f        f               f              f       f      f     f   \n",
       "5  18.0   F    f        f               f              f       f      f     f   \n",
       "6  59.0   F    f        f               f              f       f      f     f   \n",
       "7  80.0   F    f        f               f              f       f      f     f   \n",
       "8  66.0   F    f        f               f              f       f      f     t   \n",
       "9  68.0   M    f        f               f              f       f      f     f   \n",
       "\n",
       "        TSH      T3    TT4    T4U         FTI label  \n",
       "0  1.300000  2.5000  125.0  1.140  109.000000     P  \n",
       "1  4.100000  2.0000  102.0  0.995  110.469649     P  \n",
       "2  0.980000  2.0135  109.0  0.910  120.000000     P  \n",
       "3  0.160000  1.9000  175.0  0.995  110.469649     P  \n",
       "4  0.720000  1.2000   61.0  0.870   70.000000     P  \n",
       "5  0.030000  2.0135  183.0  1.300  141.000000     P  \n",
       "6  5.086766  2.0135   72.0  0.920   78.000000     P  \n",
       "7  2.200000  0.6000   80.0  0.700  115.000000     P  \n",
       "8  0.600000  2.2000  123.0  0.930  132.000000     P  \n",
       "9  2.400000  1.6000   83.0  0.890   93.000000     P  "
      ]
     },
     "execution_count": 29,
     "metadata": {},
     "output_type": "execute_result"
    }
   ],
   "source": [
    "df.head(10)"
   ]
  },
  {
   "cell_type": "code",
   "execution_count": null,
   "metadata": {
    "id": "XwpD1gmRJ20l"
   },
   "outputs": [],
   "source": []
  },
  {
   "cell_type": "code",
   "execution_count": 30,
   "metadata": {
    "colab": {
     "base_uri": "https://localhost:8080/"
    },
    "id": "BtqS5NuFnkmq",
    "outputId": "68661f13-c346-43ea-8903-0414c44a9657"
   },
   "outputs": [
    {
     "name": "stdout",
     "output_type": "stream",
     "text": [
      "        age sex sick pregnant thyroid surgery I131 treatment lithium goitre  \\\n",
      "1364  455.0   F    f        f               f              f       f      f   \n",
      "\n",
      "     tumor  TSH   T3    TT4   T4U    FTI label  \n",
      "1364     f  1.1  2.0  118.0  1.13  104.0     P  \n"
     ]
    }
   ],
   "source": [
    "print(df.loc[df['age']>=400])\n",
    "#finding the row with age more than 400 as age cannot be that big"
   ]
  },
  {
   "cell_type": "code",
   "execution_count": 31,
   "metadata": {
    "colab": {
     "base_uri": "https://localhost:8080/",
     "height": 467
    },
    "id": "pBeSDbvHnutz",
    "outputId": "64076f34-b57b-41d2-8cd6-19a42146f794"
   },
   "outputs": [
    {
     "data": {
      "text/html": [
       "<div>\n",
       "<style scoped>\n",
       "    .dataframe tbody tr th:only-of-type {\n",
       "        vertical-align: middle;\n",
       "    }\n",
       "\n",
       "    .dataframe tbody tr th {\n",
       "        vertical-align: top;\n",
       "    }\n",
       "\n",
       "    .dataframe thead th {\n",
       "        text-align: right;\n",
       "    }\n",
       "</style>\n",
       "<table border=\"1\" class=\"dataframe\">\n",
       "  <thead>\n",
       "    <tr style=\"text-align: right;\">\n",
       "      <th></th>\n",
       "      <th>age</th>\n",
       "      <th>sex</th>\n",
       "      <th>sick</th>\n",
       "      <th>pregnant</th>\n",
       "      <th>thyroid surgery</th>\n",
       "      <th>I131 treatment</th>\n",
       "      <th>lithium</th>\n",
       "      <th>goitre</th>\n",
       "      <th>tumor</th>\n",
       "      <th>TSH</th>\n",
       "      <th>T3</th>\n",
       "      <th>TT4</th>\n",
       "      <th>T4U</th>\n",
       "      <th>FTI</th>\n",
       "      <th>label</th>\n",
       "    </tr>\n",
       "  </thead>\n",
       "  <tbody>\n",
       "    <tr>\n",
       "      <th>0</th>\n",
       "      <td>41.0</td>\n",
       "      <td>F</td>\n",
       "      <td>f</td>\n",
       "      <td>f</td>\n",
       "      <td>f</td>\n",
       "      <td>f</td>\n",
       "      <td>f</td>\n",
       "      <td>f</td>\n",
       "      <td>f</td>\n",
       "      <td>1.300000</td>\n",
       "      <td>2.5000</td>\n",
       "      <td>125.000000</td>\n",
       "      <td>1.140</td>\n",
       "      <td>109.000000</td>\n",
       "      <td>P</td>\n",
       "    </tr>\n",
       "    <tr>\n",
       "      <th>1</th>\n",
       "      <td>23.0</td>\n",
       "      <td>F</td>\n",
       "      <td>f</td>\n",
       "      <td>f</td>\n",
       "      <td>f</td>\n",
       "      <td>f</td>\n",
       "      <td>f</td>\n",
       "      <td>f</td>\n",
       "      <td>f</td>\n",
       "      <td>4.100000</td>\n",
       "      <td>2.0000</td>\n",
       "      <td>102.000000</td>\n",
       "      <td>0.995</td>\n",
       "      <td>110.469649</td>\n",
       "      <td>P</td>\n",
       "    </tr>\n",
       "    <tr>\n",
       "      <th>2</th>\n",
       "      <td>46.0</td>\n",
       "      <td>M</td>\n",
       "      <td>f</td>\n",
       "      <td>f</td>\n",
       "      <td>f</td>\n",
       "      <td>f</td>\n",
       "      <td>f</td>\n",
       "      <td>f</td>\n",
       "      <td>f</td>\n",
       "      <td>0.980000</td>\n",
       "      <td>2.0135</td>\n",
       "      <td>109.000000</td>\n",
       "      <td>0.910</td>\n",
       "      <td>120.000000</td>\n",
       "      <td>P</td>\n",
       "    </tr>\n",
       "    <tr>\n",
       "      <th>3</th>\n",
       "      <td>70.0</td>\n",
       "      <td>F</td>\n",
       "      <td>f</td>\n",
       "      <td>f</td>\n",
       "      <td>f</td>\n",
       "      <td>f</td>\n",
       "      <td>f</td>\n",
       "      <td>f</td>\n",
       "      <td>f</td>\n",
       "      <td>0.160000</td>\n",
       "      <td>1.9000</td>\n",
       "      <td>175.000000</td>\n",
       "      <td>0.995</td>\n",
       "      <td>110.469649</td>\n",
       "      <td>P</td>\n",
       "    </tr>\n",
       "    <tr>\n",
       "      <th>4</th>\n",
       "      <td>70.0</td>\n",
       "      <td>F</td>\n",
       "      <td>f</td>\n",
       "      <td>f</td>\n",
       "      <td>f</td>\n",
       "      <td>f</td>\n",
       "      <td>f</td>\n",
       "      <td>f</td>\n",
       "      <td>f</td>\n",
       "      <td>0.720000</td>\n",
       "      <td>1.2000</td>\n",
       "      <td>61.000000</td>\n",
       "      <td>0.870</td>\n",
       "      <td>70.000000</td>\n",
       "      <td>P</td>\n",
       "    </tr>\n",
       "    <tr>\n",
       "      <th>...</th>\n",
       "      <td>...</td>\n",
       "      <td>...</td>\n",
       "      <td>...</td>\n",
       "      <td>...</td>\n",
       "      <td>...</td>\n",
       "      <td>...</td>\n",
       "      <td>...</td>\n",
       "      <td>...</td>\n",
       "      <td>...</td>\n",
       "      <td>...</td>\n",
       "      <td>...</td>\n",
       "      <td>...</td>\n",
       "      <td>...</td>\n",
       "      <td>...</td>\n",
       "      <td>...</td>\n",
       "    </tr>\n",
       "    <tr>\n",
       "      <th>3767</th>\n",
       "      <td>30.0</td>\n",
       "      <td>F</td>\n",
       "      <td>f</td>\n",
       "      <td>f</td>\n",
       "      <td>f</td>\n",
       "      <td>f</td>\n",
       "      <td>f</td>\n",
       "      <td>f</td>\n",
       "      <td>t</td>\n",
       "      <td>5.086766</td>\n",
       "      <td>2.0135</td>\n",
       "      <td>108.319345</td>\n",
       "      <td>0.995</td>\n",
       "      <td>110.469649</td>\n",
       "      <td>P</td>\n",
       "    </tr>\n",
       "    <tr>\n",
       "      <th>3768</th>\n",
       "      <td>68.0</td>\n",
       "      <td>F</td>\n",
       "      <td>f</td>\n",
       "      <td>f</td>\n",
       "      <td>f</td>\n",
       "      <td>f</td>\n",
       "      <td>f</td>\n",
       "      <td>f</td>\n",
       "      <td>f</td>\n",
       "      <td>1.000000</td>\n",
       "      <td>2.1000</td>\n",
       "      <td>124.000000</td>\n",
       "      <td>1.080</td>\n",
       "      <td>114.000000</td>\n",
       "      <td>P</td>\n",
       "    </tr>\n",
       "    <tr>\n",
       "      <th>3769</th>\n",
       "      <td>74.0</td>\n",
       "      <td>F</td>\n",
       "      <td>f</td>\n",
       "      <td>f</td>\n",
       "      <td>f</td>\n",
       "      <td>f</td>\n",
       "      <td>f</td>\n",
       "      <td>f</td>\n",
       "      <td>f</td>\n",
       "      <td>5.100000</td>\n",
       "      <td>1.8000</td>\n",
       "      <td>112.000000</td>\n",
       "      <td>1.070</td>\n",
       "      <td>105.000000</td>\n",
       "      <td>P</td>\n",
       "    </tr>\n",
       "    <tr>\n",
       "      <th>3770</th>\n",
       "      <td>72.0</td>\n",
       "      <td>M</td>\n",
       "      <td>f</td>\n",
       "      <td>f</td>\n",
       "      <td>f</td>\n",
       "      <td>f</td>\n",
       "      <td>f</td>\n",
       "      <td>f</td>\n",
       "      <td>f</td>\n",
       "      <td>0.700000</td>\n",
       "      <td>2.0000</td>\n",
       "      <td>82.000000</td>\n",
       "      <td>0.940</td>\n",
       "      <td>87.000000</td>\n",
       "      <td>P</td>\n",
       "    </tr>\n",
       "    <tr>\n",
       "      <th>3771</th>\n",
       "      <td>64.0</td>\n",
       "      <td>F</td>\n",
       "      <td>f</td>\n",
       "      <td>f</td>\n",
       "      <td>f</td>\n",
       "      <td>f</td>\n",
       "      <td>f</td>\n",
       "      <td>f</td>\n",
       "      <td>f</td>\n",
       "      <td>1.000000</td>\n",
       "      <td>2.2000</td>\n",
       "      <td>99.000000</td>\n",
       "      <td>1.070</td>\n",
       "      <td>92.000000</td>\n",
       "      <td>P</td>\n",
       "    </tr>\n",
       "  </tbody>\n",
       "</table>\n",
       "<p>3620 rows × 15 columns</p>\n",
       "</div>"
      ],
      "text/plain": [
       "       age sex sick pregnant thyroid surgery I131 treatment lithium goitre  \\\n",
       "0     41.0   F    f        f               f              f       f      f   \n",
       "1     23.0   F    f        f               f              f       f      f   \n",
       "2     46.0   M    f        f               f              f       f      f   \n",
       "3     70.0   F    f        f               f              f       f      f   \n",
       "4     70.0   F    f        f               f              f       f      f   \n",
       "...    ...  ..  ...      ...             ...            ...     ...    ...   \n",
       "3767  30.0   F    f        f               f              f       f      f   \n",
       "3768  68.0   F    f        f               f              f       f      f   \n",
       "3769  74.0   F    f        f               f              f       f      f   \n",
       "3770  72.0   M    f        f               f              f       f      f   \n",
       "3771  64.0   F    f        f               f              f       f      f   \n",
       "\n",
       "     tumor       TSH      T3         TT4    T4U         FTI label  \n",
       "0        f  1.300000  2.5000  125.000000  1.140  109.000000     P  \n",
       "1        f  4.100000  2.0000  102.000000  0.995  110.469649     P  \n",
       "2        f  0.980000  2.0135  109.000000  0.910  120.000000     P  \n",
       "3        f  0.160000  1.9000  175.000000  0.995  110.469649     P  \n",
       "4        f  0.720000  1.2000   61.000000  0.870   70.000000     P  \n",
       "...    ...       ...     ...         ...    ...         ...   ...  \n",
       "3767     t  5.086766  2.0135  108.319345  0.995  110.469649     P  \n",
       "3768     f  1.000000  2.1000  124.000000  1.080  114.000000     P  \n",
       "3769     f  5.100000  1.8000  112.000000  1.070  105.000000     P  \n",
       "3770     f  0.700000  2.0000   82.000000  0.940   87.000000     P  \n",
       "3771     f  1.000000  2.2000   99.000000  1.070   92.000000     P  \n",
       "\n",
       "[3620 rows x 15 columns]"
      ]
     },
     "execution_count": 31,
     "metadata": {},
     "output_type": "execute_result"
    }
   ],
   "source": [
    "df = df.drop(1364)\n",
    "df\n",
    "#deleting the row 1364 which we detected in the previous cell with more than usual age value"
   ]
  },
  {
   "cell_type": "code",
   "execution_count": 32,
   "metadata": {
    "id": "_x5pjpUesHNk"
   },
   "outputs": [],
   "source": [
    "df.age = df.age.astype(int)\n",
    "df.TT4 = df.TT4.astype(int)\n",
    "df.FTI = df.FTI.astype(int)\n",
    "\n",
    "#columns 'age','TT4','FTI' can be converted to int type"
   ]
  },
  {
   "cell_type": "code",
   "execution_count": 33,
   "metadata": {
    "colab": {
     "base_uri": "https://localhost:8080/",
     "height": 206
    },
    "id": "uXHoybwds5iM",
    "outputId": "9c04fa2c-5217-4f03-9dc6-6d0aacbbbf61"
   },
   "outputs": [
    {
     "data": {
      "text/html": [
       "<div>\n",
       "<style scoped>\n",
       "    .dataframe tbody tr th:only-of-type {\n",
       "        vertical-align: middle;\n",
       "    }\n",
       "\n",
       "    .dataframe tbody tr th {\n",
       "        vertical-align: top;\n",
       "    }\n",
       "\n",
       "    .dataframe thead th {\n",
       "        text-align: right;\n",
       "    }\n",
       "</style>\n",
       "<table border=\"1\" class=\"dataframe\">\n",
       "  <thead>\n",
       "    <tr style=\"text-align: right;\">\n",
       "      <th></th>\n",
       "      <th>age</th>\n",
       "      <th>sex</th>\n",
       "      <th>sick</th>\n",
       "      <th>pregnant</th>\n",
       "      <th>thyroid surgery</th>\n",
       "      <th>I131 treatment</th>\n",
       "      <th>lithium</th>\n",
       "      <th>goitre</th>\n",
       "      <th>tumor</th>\n",
       "      <th>TSH</th>\n",
       "      <th>T3</th>\n",
       "      <th>TT4</th>\n",
       "      <th>T4U</th>\n",
       "      <th>FTI</th>\n",
       "      <th>label</th>\n",
       "    </tr>\n",
       "  </thead>\n",
       "  <tbody>\n",
       "    <tr>\n",
       "      <th>0</th>\n",
       "      <td>41</td>\n",
       "      <td>F</td>\n",
       "      <td>f</td>\n",
       "      <td>f</td>\n",
       "      <td>f</td>\n",
       "      <td>f</td>\n",
       "      <td>f</td>\n",
       "      <td>f</td>\n",
       "      <td>f</td>\n",
       "      <td>1.30</td>\n",
       "      <td>2.5000</td>\n",
       "      <td>125</td>\n",
       "      <td>1.140</td>\n",
       "      <td>109</td>\n",
       "      <td>P</td>\n",
       "    </tr>\n",
       "    <tr>\n",
       "      <th>1</th>\n",
       "      <td>23</td>\n",
       "      <td>F</td>\n",
       "      <td>f</td>\n",
       "      <td>f</td>\n",
       "      <td>f</td>\n",
       "      <td>f</td>\n",
       "      <td>f</td>\n",
       "      <td>f</td>\n",
       "      <td>f</td>\n",
       "      <td>4.10</td>\n",
       "      <td>2.0000</td>\n",
       "      <td>102</td>\n",
       "      <td>0.995</td>\n",
       "      <td>110</td>\n",
       "      <td>P</td>\n",
       "    </tr>\n",
       "    <tr>\n",
       "      <th>2</th>\n",
       "      <td>46</td>\n",
       "      <td>M</td>\n",
       "      <td>f</td>\n",
       "      <td>f</td>\n",
       "      <td>f</td>\n",
       "      <td>f</td>\n",
       "      <td>f</td>\n",
       "      <td>f</td>\n",
       "      <td>f</td>\n",
       "      <td>0.98</td>\n",
       "      <td>2.0135</td>\n",
       "      <td>109</td>\n",
       "      <td>0.910</td>\n",
       "      <td>120</td>\n",
       "      <td>P</td>\n",
       "    </tr>\n",
       "    <tr>\n",
       "      <th>3</th>\n",
       "      <td>70</td>\n",
       "      <td>F</td>\n",
       "      <td>f</td>\n",
       "      <td>f</td>\n",
       "      <td>f</td>\n",
       "      <td>f</td>\n",
       "      <td>f</td>\n",
       "      <td>f</td>\n",
       "      <td>f</td>\n",
       "      <td>0.16</td>\n",
       "      <td>1.9000</td>\n",
       "      <td>175</td>\n",
       "      <td>0.995</td>\n",
       "      <td>110</td>\n",
       "      <td>P</td>\n",
       "    </tr>\n",
       "    <tr>\n",
       "      <th>4</th>\n",
       "      <td>70</td>\n",
       "      <td>F</td>\n",
       "      <td>f</td>\n",
       "      <td>f</td>\n",
       "      <td>f</td>\n",
       "      <td>f</td>\n",
       "      <td>f</td>\n",
       "      <td>f</td>\n",
       "      <td>f</td>\n",
       "      <td>0.72</td>\n",
       "      <td>1.2000</td>\n",
       "      <td>61</td>\n",
       "      <td>0.870</td>\n",
       "      <td>70</td>\n",
       "      <td>P</td>\n",
       "    </tr>\n",
       "  </tbody>\n",
       "</table>\n",
       "</div>"
      ],
      "text/plain": [
       "   age sex sick pregnant thyroid surgery I131 treatment lithium goitre tumor  \\\n",
       "0   41   F    f        f               f              f       f      f     f   \n",
       "1   23   F    f        f               f              f       f      f     f   \n",
       "2   46   M    f        f               f              f       f      f     f   \n",
       "3   70   F    f        f               f              f       f      f     f   \n",
       "4   70   F    f        f               f              f       f      f     f   \n",
       "\n",
       "    TSH      T3  TT4    T4U  FTI label  \n",
       "0  1.30  2.5000  125  1.140  109     P  \n",
       "1  4.10  2.0000  102  0.995  110     P  \n",
       "2  0.98  2.0135  109  0.910  120     P  \n",
       "3  0.16  1.9000  175  0.995  110     P  \n",
       "4  0.72  1.2000   61  0.870   70     P  "
      ]
     },
     "execution_count": 33,
     "metadata": {},
     "output_type": "execute_result"
    }
   ],
   "source": [
    "df.head()"
   ]
  },
  {
   "cell_type": "code",
   "execution_count": 34,
   "metadata": {
    "colab": {
     "base_uri": "https://localhost:8080/"
    },
    "id": "YdxorD0m-qFY",
    "outputId": "e9bb1ea4-b0ea-4270-b24a-0e898f91ebc3"
   },
   "outputs": [
    {
     "data": {
      "text/plain": [
       "age                  int32\n",
       "sex                 object\n",
       "sick                object\n",
       "pregnant            object\n",
       "thyroid surgery     object\n",
       "I131 treatment      object\n",
       "lithium             object\n",
       "goitre              object\n",
       "tumor               object\n",
       "TSH                float64\n",
       "T3                 float64\n",
       "TT4                  int32\n",
       "T4U                float64\n",
       "FTI                  int32\n",
       "label               object\n",
       "dtype: object"
      ]
     },
     "execution_count": 34,
     "metadata": {},
     "output_type": "execute_result"
    }
   ],
   "source": [
    "df.dtypes"
   ]
  },
  {
   "cell_type": "markdown",
   "metadata": {
    "id": "QFKBe2U6aLO2"
   },
   "source": [
    "**# Generating a new cleaned CSV file**"
   ]
  },
  {
   "cell_type": "code",
   "execution_count": 35,
   "metadata": {
    "id": "RWRaWmcvabAt"
   },
   "outputs": [],
   "source": [
    "df.to_csv('cleaned_thyroid_dataset.csv')\n",
    "#We have generated a new csv file after cleaning"
   ]
  },
  {
   "cell_type": "markdown",
   "metadata": {
    "id": "qZC5Zg9g8GBk"
   },
   "source": [
    "# **EDA**"
   ]
  },
  {
   "cell_type": "code",
   "execution_count": 36,
   "metadata": {
    "id": "GjbGrHZstF6M"
   },
   "outputs": [],
   "source": [
    "cdf = pd.read_csv('cleaned_thyroid_dataset.csv')\n",
    "#importing cleaned data set as cdf"
   ]
  },
  {
   "cell_type": "code",
   "execution_count": 37,
   "metadata": {},
   "outputs": [
    {
     "data": {
      "text/html": [
       "<div>\n",
       "<style scoped>\n",
       "    .dataframe tbody tr th:only-of-type {\n",
       "        vertical-align: middle;\n",
       "    }\n",
       "\n",
       "    .dataframe tbody tr th {\n",
       "        vertical-align: top;\n",
       "    }\n",
       "\n",
       "    .dataframe thead th {\n",
       "        text-align: right;\n",
       "    }\n",
       "</style>\n",
       "<table border=\"1\" class=\"dataframe\">\n",
       "  <thead>\n",
       "    <tr style=\"text-align: right;\">\n",
       "      <th></th>\n",
       "      <th>Unnamed: 0</th>\n",
       "      <th>age</th>\n",
       "      <th>sex</th>\n",
       "      <th>sick</th>\n",
       "      <th>pregnant</th>\n",
       "      <th>thyroid surgery</th>\n",
       "      <th>I131 treatment</th>\n",
       "      <th>lithium</th>\n",
       "      <th>goitre</th>\n",
       "      <th>tumor</th>\n",
       "      <th>TSH</th>\n",
       "      <th>T3</th>\n",
       "      <th>TT4</th>\n",
       "      <th>T4U</th>\n",
       "      <th>FTI</th>\n",
       "      <th>label</th>\n",
       "    </tr>\n",
       "  </thead>\n",
       "  <tbody>\n",
       "    <tr>\n",
       "      <th>0</th>\n",
       "      <td>0</td>\n",
       "      <td>41</td>\n",
       "      <td>F</td>\n",
       "      <td>f</td>\n",
       "      <td>f</td>\n",
       "      <td>f</td>\n",
       "      <td>f</td>\n",
       "      <td>f</td>\n",
       "      <td>f</td>\n",
       "      <td>f</td>\n",
       "      <td>1.300000</td>\n",
       "      <td>2.5000</td>\n",
       "      <td>125</td>\n",
       "      <td>1.140</td>\n",
       "      <td>109</td>\n",
       "      <td>P</td>\n",
       "    </tr>\n",
       "    <tr>\n",
       "      <th>1</th>\n",
       "      <td>1</td>\n",
       "      <td>23</td>\n",
       "      <td>F</td>\n",
       "      <td>f</td>\n",
       "      <td>f</td>\n",
       "      <td>f</td>\n",
       "      <td>f</td>\n",
       "      <td>f</td>\n",
       "      <td>f</td>\n",
       "      <td>f</td>\n",
       "      <td>4.100000</td>\n",
       "      <td>2.0000</td>\n",
       "      <td>102</td>\n",
       "      <td>0.995</td>\n",
       "      <td>110</td>\n",
       "      <td>P</td>\n",
       "    </tr>\n",
       "    <tr>\n",
       "      <th>2</th>\n",
       "      <td>2</td>\n",
       "      <td>46</td>\n",
       "      <td>M</td>\n",
       "      <td>f</td>\n",
       "      <td>f</td>\n",
       "      <td>f</td>\n",
       "      <td>f</td>\n",
       "      <td>f</td>\n",
       "      <td>f</td>\n",
       "      <td>f</td>\n",
       "      <td>0.980000</td>\n",
       "      <td>2.0135</td>\n",
       "      <td>109</td>\n",
       "      <td>0.910</td>\n",
       "      <td>120</td>\n",
       "      <td>P</td>\n",
       "    </tr>\n",
       "    <tr>\n",
       "      <th>3</th>\n",
       "      <td>3</td>\n",
       "      <td>70</td>\n",
       "      <td>F</td>\n",
       "      <td>f</td>\n",
       "      <td>f</td>\n",
       "      <td>f</td>\n",
       "      <td>f</td>\n",
       "      <td>f</td>\n",
       "      <td>f</td>\n",
       "      <td>f</td>\n",
       "      <td>0.160000</td>\n",
       "      <td>1.9000</td>\n",
       "      <td>175</td>\n",
       "      <td>0.995</td>\n",
       "      <td>110</td>\n",
       "      <td>P</td>\n",
       "    </tr>\n",
       "    <tr>\n",
       "      <th>4</th>\n",
       "      <td>4</td>\n",
       "      <td>70</td>\n",
       "      <td>F</td>\n",
       "      <td>f</td>\n",
       "      <td>f</td>\n",
       "      <td>f</td>\n",
       "      <td>f</td>\n",
       "      <td>f</td>\n",
       "      <td>f</td>\n",
       "      <td>f</td>\n",
       "      <td>0.720000</td>\n",
       "      <td>1.2000</td>\n",
       "      <td>61</td>\n",
       "      <td>0.870</td>\n",
       "      <td>70</td>\n",
       "      <td>P</td>\n",
       "    </tr>\n",
       "    <tr>\n",
       "      <th>...</th>\n",
       "      <td>...</td>\n",
       "      <td>...</td>\n",
       "      <td>...</td>\n",
       "      <td>...</td>\n",
       "      <td>...</td>\n",
       "      <td>...</td>\n",
       "      <td>...</td>\n",
       "      <td>...</td>\n",
       "      <td>...</td>\n",
       "      <td>...</td>\n",
       "      <td>...</td>\n",
       "      <td>...</td>\n",
       "      <td>...</td>\n",
       "      <td>...</td>\n",
       "      <td>...</td>\n",
       "      <td>...</td>\n",
       "    </tr>\n",
       "    <tr>\n",
       "      <th>3615</th>\n",
       "      <td>3767</td>\n",
       "      <td>30</td>\n",
       "      <td>F</td>\n",
       "      <td>f</td>\n",
       "      <td>f</td>\n",
       "      <td>f</td>\n",
       "      <td>f</td>\n",
       "      <td>f</td>\n",
       "      <td>f</td>\n",
       "      <td>t</td>\n",
       "      <td>5.086766</td>\n",
       "      <td>2.0135</td>\n",
       "      <td>108</td>\n",
       "      <td>0.995</td>\n",
       "      <td>110</td>\n",
       "      <td>P</td>\n",
       "    </tr>\n",
       "    <tr>\n",
       "      <th>3616</th>\n",
       "      <td>3768</td>\n",
       "      <td>68</td>\n",
       "      <td>F</td>\n",
       "      <td>f</td>\n",
       "      <td>f</td>\n",
       "      <td>f</td>\n",
       "      <td>f</td>\n",
       "      <td>f</td>\n",
       "      <td>f</td>\n",
       "      <td>f</td>\n",
       "      <td>1.000000</td>\n",
       "      <td>2.1000</td>\n",
       "      <td>124</td>\n",
       "      <td>1.080</td>\n",
       "      <td>114</td>\n",
       "      <td>P</td>\n",
       "    </tr>\n",
       "    <tr>\n",
       "      <th>3617</th>\n",
       "      <td>3769</td>\n",
       "      <td>74</td>\n",
       "      <td>F</td>\n",
       "      <td>f</td>\n",
       "      <td>f</td>\n",
       "      <td>f</td>\n",
       "      <td>f</td>\n",
       "      <td>f</td>\n",
       "      <td>f</td>\n",
       "      <td>f</td>\n",
       "      <td>5.100000</td>\n",
       "      <td>1.8000</td>\n",
       "      <td>112</td>\n",
       "      <td>1.070</td>\n",
       "      <td>105</td>\n",
       "      <td>P</td>\n",
       "    </tr>\n",
       "    <tr>\n",
       "      <th>3618</th>\n",
       "      <td>3770</td>\n",
       "      <td>72</td>\n",
       "      <td>M</td>\n",
       "      <td>f</td>\n",
       "      <td>f</td>\n",
       "      <td>f</td>\n",
       "      <td>f</td>\n",
       "      <td>f</td>\n",
       "      <td>f</td>\n",
       "      <td>f</td>\n",
       "      <td>0.700000</td>\n",
       "      <td>2.0000</td>\n",
       "      <td>82</td>\n",
       "      <td>0.940</td>\n",
       "      <td>87</td>\n",
       "      <td>P</td>\n",
       "    </tr>\n",
       "    <tr>\n",
       "      <th>3619</th>\n",
       "      <td>3771</td>\n",
       "      <td>64</td>\n",
       "      <td>F</td>\n",
       "      <td>f</td>\n",
       "      <td>f</td>\n",
       "      <td>f</td>\n",
       "      <td>f</td>\n",
       "      <td>f</td>\n",
       "      <td>f</td>\n",
       "      <td>f</td>\n",
       "      <td>1.000000</td>\n",
       "      <td>2.2000</td>\n",
       "      <td>99</td>\n",
       "      <td>1.070</td>\n",
       "      <td>92</td>\n",
       "      <td>P</td>\n",
       "    </tr>\n",
       "  </tbody>\n",
       "</table>\n",
       "<p>3620 rows × 16 columns</p>\n",
       "</div>"
      ],
      "text/plain": [
       "      Unnamed: 0  age sex sick pregnant thyroid surgery I131 treatment  \\\n",
       "0              0   41   F    f        f               f              f   \n",
       "1              1   23   F    f        f               f              f   \n",
       "2              2   46   M    f        f               f              f   \n",
       "3              3   70   F    f        f               f              f   \n",
       "4              4   70   F    f        f               f              f   \n",
       "...          ...  ...  ..  ...      ...             ...            ...   \n",
       "3615        3767   30   F    f        f               f              f   \n",
       "3616        3768   68   F    f        f               f              f   \n",
       "3617        3769   74   F    f        f               f              f   \n",
       "3618        3770   72   M    f        f               f              f   \n",
       "3619        3771   64   F    f        f               f              f   \n",
       "\n",
       "     lithium goitre tumor       TSH      T3  TT4    T4U  FTI label  \n",
       "0          f      f     f  1.300000  2.5000  125  1.140  109     P  \n",
       "1          f      f     f  4.100000  2.0000  102  0.995  110     P  \n",
       "2          f      f     f  0.980000  2.0135  109  0.910  120     P  \n",
       "3          f      f     f  0.160000  1.9000  175  0.995  110     P  \n",
       "4          f      f     f  0.720000  1.2000   61  0.870   70     P  \n",
       "...      ...    ...   ...       ...     ...  ...    ...  ...   ...  \n",
       "3615       f      f     t  5.086766  2.0135  108  0.995  110     P  \n",
       "3616       f      f     f  1.000000  2.1000  124  1.080  114     P  \n",
       "3617       f      f     f  5.100000  1.8000  112  1.070  105     P  \n",
       "3618       f      f     f  0.700000  2.0000   82  0.940   87     P  \n",
       "3619       f      f     f  1.000000  2.2000   99  1.070   92     P  \n",
       "\n",
       "[3620 rows x 16 columns]"
      ]
     },
     "execution_count": 37,
     "metadata": {},
     "output_type": "execute_result"
    }
   ],
   "source": [
    "cdf"
   ]
  },
  {
   "cell_type": "code",
   "execution_count": 38,
   "metadata": {},
   "outputs": [],
   "source": [
    "cdf = cdf.drop(['Unnamed: 0'], axis=1)"
   ]
  },
  {
   "cell_type": "markdown",
   "metadata": {
    "id": "Xj3KcIaWpb0V"
   },
   "source": [
    "Countplot of the Target variable with 'P' and 'N' as 'Positive' and 'Negative respectively'"
   ]
  },
  {
   "cell_type": "code",
   "execution_count": 39,
   "metadata": {
    "colab": {
     "base_uri": "https://localhost:8080/"
    },
    "id": "4KXVzH9msS8A",
    "outputId": "5e11d6f2-d496-474e-f5a3-45e39d0dad8b"
   },
   "outputs": [
    {
     "data": {
      "text/plain": [
       "Text(0.5, 1.0, 'Count Plot for Target Varbiale')"
      ]
     },
     "execution_count": 39,
     "metadata": {},
     "output_type": "execute_result"
    },
    {
     "data": {
      "image/png": "[encoded data removed]",
      "text/plain": [
       "<Figure size 640x480 with 1 Axes>"
      ]
     },
     "metadata": {},
     "output_type": "display_data"
    }
   ],
   "source": [
    "sns.countplot(x = 'label', data = cdf, color = 'pink')\n",
    "plt.title('Count Plot for Target Varbiale')"
   ]
  },
  {
   "cell_type": "code",
   "execution_count": 40,
   "metadata": {
    "id": "o3DmRjzCubuR"
   },
   "outputs": [],
   "source": [
    "cpdf = cdf[cdf.label == 'P']\n",
    "#creating a new data frame as cpdf which contains only positive \"P\" values from \"label\""
   ]
  },
  {
   "cell_type": "markdown",
   "metadata": {
    "id": "7KlLzntBp23v"
   },
   "source": [
    "Histogram of the Positive class based on Age.\n",
    "\n",
    "*Basically how the positive cases vary according to age*"
   ]
  },
  {
   "cell_type": "code",
   "execution_count": 41,
   "metadata": {
    "colab": {
     "base_uri": "https://localhost:8080/"
    },
    "id": "GeKetI4AwsZj",
    "outputId": "4dd1e8f5-5b4b-47bb-c33a-be4901e73bb3"
   },
   "outputs": [
    {
     "data": {
      "text/plain": [
       "Text(0.5, 1.0, 'Distribution of Positive Class based on Age')"
      ]
     },
     "execution_count": 41,
     "metadata": {},
     "output_type": "execute_result"
    },
    {
     "data": {
      "image/png": "[encoded data removed]",
      "text/plain": [
       "<Figure size 900x600 with 1 Axes>"
      ]
     },
     "metadata": {},
     "output_type": "display_data"
    }
   ],
   "source": [
    "plt.figure(figsize = (9,6))\n",
    "sns.histplot(x = 'age', data = cpdf, color = 'pink')\n",
    "plt.title('Distribution of Positive Class based on Age', {'fontsize': 20})"
   ]
  },
  {
   "cell_type": "markdown",
   "metadata": {
    "id": "qj_A9RmeqYaL"
   },
   "source": [
    "Pie chart representing the percentage of positive cases in both Females and Males"
   ]
  },
  {
   "cell_type": "code",
   "execution_count": 42,
   "metadata": {
    "colab": {
     "base_uri": "https://localhost:8080/"
    },
    "id": "zHaATCPKy0Uo",
    "outputId": "18be2615-e63d-494c-e028-fd3817ea18e5"
   },
   "outputs": [
    {
     "data": {
      "text/plain": [
       "<matplotlib.legend.Legend at 0x1c4fb1fa490>"
      ]
     },
     "execution_count": 42,
     "metadata": {},
     "output_type": "execute_result"
    },
    {
     "data": {
      "image/png": "[encoded data removed]",
      "text/plain": [
       "<Figure size 1000x800 with 1 Axes>"
      ]
     },
     "metadata": {},
     "output_type": "display_data"
    }
   ],
   "source": [
    "plt.figure(figsize = (10,8))\n",
    "plt.pie(x = cpdf.sex.value_counts(),\n",
    "        labels = ['female','male'],\n",
    "        startangle = 90,\n",
    "        colors =['pink','purple'],\n",
    "        autopct = '%.2f'\n",
    "        )\n",
    "plt.legend()"
   ]
  },
  {
   "cell_type": "markdown",
   "metadata": {
    "id": "h8oSPY0xqllX"
   },
   "source": [
    "Pie chart representing the percentage of sick and non sick people who are positive"
   ]
  },
  {
   "cell_type": "code",
   "execution_count": 43,
   "metadata": {
    "colab": {
     "base_uri": "https://localhost:8080/"
    },
    "id": "7Mow_hBK2JI-",
    "outputId": "ff8a51a3-d8e7-431d-9466-7f4cf62800f4"
   },
   "outputs": [
    {
     "data": {
      "text/plain": [
       "<matplotlib.legend.Legend at 0x1c4fb1f23d0>"
      ]
     },
     "execution_count": 43,
     "metadata": {},
     "output_type": "execute_result"
    },
    {
     "data": {
      "image/png": "[encoded data removed]",
      "text/plain": [
       "<Figure size 1000x800 with 1 Axes>"
      ]
     },
     "metadata": {},
     "output_type": "display_data"
    }
   ],
   "source": [
    "plt.figure(figsize = (10,8))\n",
    "plt.pie(x = cpdf.sick.value_counts(),\n",
    "        labels = ['sick','not sick'],\n",
    "        startangle = 20,\n",
    "        colors = ['red','green'],\n",
    "        autopct = '%.2f',\n",
    "        explode = [0,0.1]\n",
    "        )\n",
    "plt.legend()"
   ]
  },
  {
   "cell_type": "code",
   "execution_count": 44,
   "metadata": {
    "colab": {
     "base_uri": "https://localhost:8080/"
    },
    "id": "FQ4yrLLGKdLP",
    "outputId": "821e113d-6a11-4449-9e31-63bef0c5a2f1"
   },
   "outputs": [
    {
     "data": {
      "text/html": [
       "<div>\n",
       "<style scoped>\n",
       "    .dataframe tbody tr th:only-of-type {\n",
       "        vertical-align: middle;\n",
       "    }\n",
       "\n",
       "    .dataframe tbody tr th {\n",
       "        vertical-align: top;\n",
       "    }\n",
       "\n",
       "    .dataframe thead th {\n",
       "        text-align: right;\n",
       "    }\n",
       "</style>\n",
       "<table border=\"1\" class=\"dataframe\">\n",
       "  <thead>\n",
       "    <tr style=\"text-align: right;\">\n",
       "      <th></th>\n",
       "      <th>age</th>\n",
       "      <th>sex</th>\n",
       "      <th>sick</th>\n",
       "      <th>pregnant</th>\n",
       "      <th>thyroid surgery</th>\n",
       "      <th>I131 treatment</th>\n",
       "      <th>lithium</th>\n",
       "      <th>goitre</th>\n",
       "      <th>tumor</th>\n",
       "      <th>TSH</th>\n",
       "      <th>T3</th>\n",
       "      <th>TT4</th>\n",
       "      <th>T4U</th>\n",
       "      <th>FTI</th>\n",
       "      <th>label</th>\n",
       "    </tr>\n",
       "  </thead>\n",
       "  <tbody>\n",
       "    <tr>\n",
       "      <th>0</th>\n",
       "      <td>41</td>\n",
       "      <td>F</td>\n",
       "      <td>f</td>\n",
       "      <td>f</td>\n",
       "      <td>f</td>\n",
       "      <td>f</td>\n",
       "      <td>f</td>\n",
       "      <td>f</td>\n",
       "      <td>f</td>\n",
       "      <td>1.30</td>\n",
       "      <td>2.5000</td>\n",
       "      <td>125</td>\n",
       "      <td>1.140</td>\n",
       "      <td>109</td>\n",
       "      <td>P</td>\n",
       "    </tr>\n",
       "    <tr>\n",
       "      <th>1</th>\n",
       "      <td>23</td>\n",
       "      <td>F</td>\n",
       "      <td>f</td>\n",
       "      <td>f</td>\n",
       "      <td>f</td>\n",
       "      <td>f</td>\n",
       "      <td>f</td>\n",
       "      <td>f</td>\n",
       "      <td>f</td>\n",
       "      <td>4.10</td>\n",
       "      <td>2.0000</td>\n",
       "      <td>102</td>\n",
       "      <td>0.995</td>\n",
       "      <td>110</td>\n",
       "      <td>P</td>\n",
       "    </tr>\n",
       "    <tr>\n",
       "      <th>2</th>\n",
       "      <td>46</td>\n",
       "      <td>M</td>\n",
       "      <td>f</td>\n",
       "      <td>f</td>\n",
       "      <td>f</td>\n",
       "      <td>f</td>\n",
       "      <td>f</td>\n",
       "      <td>f</td>\n",
       "      <td>f</td>\n",
       "      <td>0.98</td>\n",
       "      <td>2.0135</td>\n",
       "      <td>109</td>\n",
       "      <td>0.910</td>\n",
       "      <td>120</td>\n",
       "      <td>P</td>\n",
       "    </tr>\n",
       "    <tr>\n",
       "      <th>3</th>\n",
       "      <td>70</td>\n",
       "      <td>F</td>\n",
       "      <td>f</td>\n",
       "      <td>f</td>\n",
       "      <td>f</td>\n",
       "      <td>f</td>\n",
       "      <td>f</td>\n",
       "      <td>f</td>\n",
       "      <td>f</td>\n",
       "      <td>0.16</td>\n",
       "      <td>1.9000</td>\n",
       "      <td>175</td>\n",
       "      <td>0.995</td>\n",
       "      <td>110</td>\n",
       "      <td>P</td>\n",
       "    </tr>\n",
       "    <tr>\n",
       "      <th>4</th>\n",
       "      <td>70</td>\n",
       "      <td>F</td>\n",
       "      <td>f</td>\n",
       "      <td>f</td>\n",
       "      <td>f</td>\n",
       "      <td>f</td>\n",
       "      <td>f</td>\n",
       "      <td>f</td>\n",
       "      <td>f</td>\n",
       "      <td>0.72</td>\n",
       "      <td>1.2000</td>\n",
       "      <td>61</td>\n",
       "      <td>0.870</td>\n",
       "      <td>70</td>\n",
       "      <td>P</td>\n",
       "    </tr>\n",
       "  </tbody>\n",
       "</table>\n",
       "</div>"
      ],
      "text/plain": [
       "   age sex sick pregnant thyroid surgery I131 treatment lithium goitre tumor  \\\n",
       "0   41   F    f        f               f              f       f      f     f   \n",
       "1   23   F    f        f               f              f       f      f     f   \n",
       "2   46   M    f        f               f              f       f      f     f   \n",
       "3   70   F    f        f               f              f       f      f     f   \n",
       "4   70   F    f        f               f              f       f      f     f   \n",
       "\n",
       "    TSH      T3  TT4    T4U  FTI label  \n",
       "0  1.30  2.5000  125  1.140  109     P  \n",
       "1  4.10  2.0000  102  0.995  110     P  \n",
       "2  0.98  2.0135  109  0.910  120     P  \n",
       "3  0.16  1.9000  175  0.995  110     P  \n",
       "4  0.72  1.2000   61  0.870   70     P  "
      ]
     },
     "execution_count": 44,
     "metadata": {},
     "output_type": "execute_result"
    }
   ],
   "source": [
    "cdf.head()"
   ]
  },
  {
   "cell_type": "code",
   "execution_count": null,
   "metadata": {
    "id": "-Iuf1UWiNN_N"
   },
   "outputs": [],
   "source": []
  },
  {
   "cell_type": "code",
   "execution_count": 45,
   "metadata": {
    "colab": {
     "base_uri": "https://localhost:8080/"
    },
    "id": "kufdpMrsQDMD",
    "outputId": "860d57a9-8f5d-4aaf-9aa2-e55c11e90419"
   },
   "outputs": [
    {
     "name": "stdout",
     "output_type": "stream",
     "text": [
      "Total number of positive females:  F    2263\n",
      "M    1077\n",
      "Name: sex, dtype: int64\n"
     ]
    }
   ],
   "source": [
    "counts = cpdf.sex.value_counts()\n",
    "print(\"Total number of positive females: \",counts)\n",
    "female_counts = 2263"
   ]
  },
  {
   "cell_type": "code",
   "execution_count": 46,
   "metadata": {
    "colab": {
     "base_uri": "https://localhost:8080/"
    },
    "id": "-ZR5EgNmOBiG",
    "outputId": "101f0974-51b4-4705-a25d-b084ea77f8e0"
   },
   "outputs": [
    {
     "name": "stdout",
     "output_type": "stream",
     "text": [
      "Count of females who are not pregnant: 2212\n",
      "Count of females who are pregnant:  51\n"
     ]
    }
   ],
   "source": [
    "#data = pd.read_csv('your_dataset.csv')\n",
    "\n",
    "filtered_data = cpdf[(cpdf['sex'] == 'F') & (cpdf['pregnant'] == 'f')]\n",
    "non_pregnant_female_count = filtered_data.shape[0]\n",
    "pregnant_female_counts = (female_counts) - (non_pregnant_female_count)\n",
    "\n",
    "print(\"Count of females who are not pregnant:\",non_pregnant_female_count)\n",
    "print(\"Count of females who are pregnant: \",pregnant_female_counts)"
   ]
  },
  {
   "cell_type": "code",
   "execution_count": 47,
   "metadata": {
    "colab": {
     "base_uri": "https://localhost:8080/"
    },
    "id": "c8lsl4lKKnsN",
    "outputId": "dc59743f-565e-4969-eab0-c4addac89f0d"
   },
   "outputs": [
    {
     "data": {
      "text/plain": [
       "<matplotlib.legend.Legend at 0x1c4fab423d0>"
      ]
     },
     "execution_count": 47,
     "metadata": {},
     "output_type": "execute_result"
    },
    {
     "data": {
      "image/png": "[encoded data removed]",
      "text/plain": [
       "<Figure size 1000x800 with 1 Axes>"
      ]
     },
     "metadata": {},
     "output_type": "display_data"
    }
   ],
   "source": [
    "count_list = [non_pregnant_female_count,female_counts-non_pregnant_female_count]\n",
    "label_list = ['Not Pregnant','Pregnant']\n",
    "colors_list = ['pink','purple']\n",
    "explode_list = [0,0.5]\n",
    "\n",
    "\n",
    "plt.figure(figsize =(10,8))\n",
    "plt.pie(count_list,\n",
    "        labels = label_list,\n",
    "        startangle = 20,\n",
    "        colors = colors_list,\n",
    "        autopct = '%.2f',\n",
    "        explode = explode_list)\n",
    "plt.legend()"
   ]
  },
  {
   "cell_type": "code",
   "execution_count": 48,
   "metadata": {
    "colab": {
     "base_uri": "https://localhost:8080/"
    },
    "id": "DFSMIQFpgqiu",
    "outputId": "4ed2987c-ffb1-47c3-9f96-f2b3805e6339"
   },
   "outputs": [
    {
     "data": {
      "text/plain": [
       "Index(['age', 'sex', 'sick', 'pregnant', 'thyroid surgery', 'I131 treatment',\n",
       "       'lithium', 'goitre', 'tumor', 'TSH', 'T3', 'TT4', 'T4U', 'FTI',\n",
       "       'label'],\n",
       "      dtype='object')"
      ]
     },
     "execution_count": 48,
     "metadata": {},
     "output_type": "execute_result"
    }
   ],
   "source": [
    "cpdf.columns"
   ]
  },
  {
   "cell_type": "code",
   "execution_count": 49,
   "metadata": {
    "colab": {
     "base_uri": "https://localhost:8080/"
    },
    "id": "1y36dey8eN3E",
    "outputId": "462558f2-ac8e-4cb0-c54e-44b573150365"
   },
   "outputs": [
    {
     "data": {
      "image/png": "[encoded data removed]",
      "text/plain": [
       "<Figure size 640x480 with 1 Axes>"
      ]
     },
     "metadata": {},
     "output_type": "display_data"
    }
   ],
   "source": [
    "columns_to_plot = ['age','TSH', 'T3', 'TT4','T4U', 'FTI']\n",
    "plt.boxplot(cpdf[columns_to_plot])\n",
    "plt.xticks(range(1, len(columns_to_plot) + 1), columns_to_plot)\n",
    "plt.title('Boxplot of Multiple Columns')\n",
    "plt.show()"
   ]
  },
  {
   "cell_type": "code",
   "execution_count": 50,
   "metadata": {
    "colab": {
     "base_uri": "https://localhost:8080/"
    },
    "id": "tV6NAStNgomv",
    "outputId": "19fb0afe-c9f1-47ee-bac5-3347daa2ef93"
   },
   "outputs": [
    {
     "data": {
      "image/png": "[encoded data removed]",
      "text/plain": [
       "<Figure size 640x480 with 1 Axes>"
      ]
     },
     "metadata": {},
     "output_type": "display_data"
    }
   ],
   "source": [
    "columns_to_plot = ['TSH', 'T3', 'TT4', 'T4U', 'FTI']\n",
    "\n",
    "# Create the violin plot using seaborn\n",
    "sns.violinplot(data=cpdf[columns_to_plot])\n",
    "\n",
    "# Add labels and title\n",
    "plt.xlabel('Variables')\n",
    "plt.ylabel('Values')\n",
    "plt.title('Violin Plot of Thyroid Dataset')\n",
    "\n",
    "# Display the violin plot\n",
    "plt.show()"
   ]
  },
  {
   "cell_type": "markdown",
   "metadata": {
    "id": "vxa7bWPb2TJB"
   },
   "source": [
    "# **ENCODING**"
   ]
  },
  {
   "cell_type": "code",
   "execution_count": 51,
   "metadata": {
    "id": "4PVDgZh22bTa"
   },
   "outputs": [],
   "source": [
    "#coverting the non numerical to numerical ones (like f is for false to a numeric value)"
   ]
  },
  {
   "cell_type": "code",
   "execution_count": 52,
   "metadata": {
    "id": "TKXLFfIaUrqU"
   },
   "outputs": [],
   "source": [
    "X =  cdf.drop('label',axis = 1)\n",
    "y = cdf.label"
   ]
  },
  {
   "cell_type": "code",
   "execution_count": 53,
   "metadata": {
    "id": "zsZFWMD_Sng0"
   },
   "outputs": [],
   "source": [
    "s_encoder = LabelEncoder()\n",
    "si_encoder = LabelEncoder()\n",
    "preg_encoder = LabelEncoder()\n",
    "ts_encoder = LabelEncoder()\n",
    "li_encoder = LabelEncoder()\n",
    "g_encoder = LabelEncoder()\n",
    "treat_encoder = LabelEncoder()\n",
    "tu_encoder = LabelEncoder()\n"
   ]
  },
  {
   "cell_type": "code",
   "execution_count": 54,
   "metadata": {
    "id": "Qv_FsUUMUhzP"
   },
   "outputs": [],
   "source": [
    "X['sex'] = s_encoder.fit_transform(X.sex)\n",
    "X['sick'] = si_encoder.fit_transform(X.sick)\n",
    "X['pregnant'] = preg_encoder.fit_transform(X.pregnant)\n",
    "X['thyroid surgery'] = ts_encoder.fit_transform(X['thyroid surgery'])\n",
    "X['lithium'] = li_encoder.fit_transform(X.lithium)\n",
    "X['goitre'] = g_encoder.fit_transform(X.goitre)\n",
    "X['I131 treatment'] = treat_encoder.fit_transform(X['I131 treatment'])\n",
    "X['tumor'] = tu_encoder.fit_transform(X.tumor)"
   ]
  },
  {
   "cell_type": "code",
   "execution_count": null,
   "metadata": {
    "colab": {
     "base_uri": "https://localhost:8080/"
    },
    "id": "OPJnOUffXk9J",
    "outputId": "380e9cb0-54c8-47bb-8230-4bf42ca2b402"
   },
   "outputs": [],
   "source": []
  },
  {
   "cell_type": "code",
   "execution_count": 55,
   "metadata": {
    "colab": {
     "base_uri": "https://localhost:8080/"
    },
    "id": "-MbuiRxQZ3ze",
    "outputId": "f7a76f89-2950-4053-e310-16eb5ee30ff1"
   },
   "outputs": [
    {
     "data": {
      "text/plain": [
       "0    P\n",
       "1    P\n",
       "2    P\n",
       "3    P\n",
       "4    P\n",
       "Name: label, dtype: object"
      ]
     },
     "execution_count": 55,
     "metadata": {},
     "output_type": "execute_result"
    }
   ],
   "source": [
    "y.head()"
   ]
  },
  {
   "cell_type": "code",
   "execution_count": 56,
   "metadata": {
    "id": "3o2O-tx9aBee"
   },
   "outputs": [],
   "source": [
    "def func(cdf) :\n",
    "  if cdf == 'P' :\n",
    "    return 1\n",
    "  else :\n",
    "    return 0"
   ]
  },
  {
   "cell_type": "code",
   "execution_count": 57,
   "metadata": {
    "id": "oD8ubANAalPi"
   },
   "outputs": [],
   "source": [
    "y=y.apply(func) #we could use label encoder also but we chose to save computational cost y pratik"
   ]
  },
  {
   "cell_type": "code",
   "execution_count": 58,
   "metadata": {
    "colab": {
     "base_uri": "https://localhost:8080/"
    },
    "id": "tyjLXLTpbC92",
    "outputId": "15e595ab-84a7-48e3-957c-4f99915fce30"
   },
   "outputs": [
    {
     "data": {
      "text/plain": [
       "0    1\n",
       "1    1\n",
       "2    1\n",
       "3    1\n",
       "4    1\n",
       "Name: label, dtype: int64"
      ]
     },
     "execution_count": 58,
     "metadata": {},
     "output_type": "execute_result"
    }
   ],
   "source": [
    "y.head()"
   ]
  },
  {
   "cell_type": "code",
   "execution_count": 59,
   "metadata": {
    "colab": {
     "base_uri": "https://localhost:8080/"
    },
    "id": "exODOc_Y_Fvr",
    "outputId": "348e2185-6e57-4327-e286-b548959cf52e",
    "scrolled": true
   },
   "outputs": [
    {
     "data": {
      "text/plain": [
       "age                  int64\n",
       "sex                 object\n",
       "sick                object\n",
       "pregnant            object\n",
       "thyroid surgery     object\n",
       "I131 treatment      object\n",
       "lithium             object\n",
       "goitre              object\n",
       "tumor               object\n",
       "TSH                float64\n",
       "T3                 float64\n",
       "TT4                  int64\n",
       "T4U                float64\n",
       "FTI                  int64\n",
       "label               object\n",
       "dtype: object"
      ]
     },
     "execution_count": 59,
     "metadata": {},
     "output_type": "execute_result"
    }
   ],
   "source": [
    "cdf.dtypes"
   ]
  },
  {
   "cell_type": "markdown",
   "metadata": {
    "id": "NCSYGXpHcRfZ"
   },
   "source": [
    "# **SPLITTING THE DATA INTO TRAINING DATA AND TESTING DATA**"
   ]
  },
  {
   "cell_type": "code",
   "execution_count": 60,
   "metadata": {
    "id": "RRNAM2BHck3a"
   },
   "outputs": [],
   "source": [
    "X_train, X_test, y_train, y_test = train_test_split(X,y, test_size=0.2, random_state= 42)"
   ]
  },
  {
   "cell_type": "code",
   "execution_count": null,
   "metadata": {},
   "outputs": [],
   "source": []
  },
  {
   "cell_type": "markdown",
   "metadata": {
    "id": "we66T844eQSM"
   },
   "source": [
    "# **HANDLE IMBALANCED DATA**"
   ]
  },
  {
   "cell_type": "code",
   "execution_count": 61,
   "metadata": {
    "id": "UmUeoW7_eYi3"
   },
   "outputs": [],
   "source": [
    "smote = SMOTE(random_state = 11)\n",
    "x_smote, y_smote = smote.fit_resample(X_train, y_train)"
   ]
  },
  {
   "cell_type": "code",
   "execution_count": 62,
   "metadata": {
    "colab": {
     "base_uri": "https://localhost:8080/"
    },
    "id": "aaAsJ8sofD8J",
    "outputId": "2b636e5b-cd26-4ddb-d3b5-7dc847b4a0d8"
   },
   "outputs": [
    {
     "name": "stdout",
     "output_type": "stream",
     "text": [
      "shape before oversampling: (2896, 14)\n",
      "shape after oversampling (5350, 14)\n"
     ]
    }
   ],
   "source": [
    "print('shape before oversampling:', X_train.shape)\n",
    "print('shape after oversampling', x_smote.shape)\n",
    "#too much majoruty value like so many positive here so smote creates extra sample"
   ]
  },
  {
   "cell_type": "markdown",
   "metadata": {
    "id": "rYGAd7hvhvmT"
   },
   "source": [
    "# **SCALING (NORMALIZATION)**"
   ]
  },
  {
   "cell_type": "code",
   "execution_count": 63,
   "metadata": {
    "id": "grOCbGsfh2YA"
   },
   "outputs": [],
   "source": [
    "#sc = MinMaxScaler()\n",
    "# x_smote.TT4 = sc.fit_transform(x_smote[['TT4']])\n",
    "# x_smote.age = sc.fit_transform(x_smote[['age']])\n",
    "# x_smote.FTI = sc.fit_transform(x_smote[['FTI']])\n",
    "#SCALING MEANS TO GET THE DATA IN A RANGE SORT OF BY USIN G NORMALIZATION AS METHOD, FUNCTION MIN MAX SCALER DOES 0  to 1 ka range\n",
    "#doubt is why the didnt covert t3 tsh etc"
   ]
  },
  {
   "cell_type": "code",
   "execution_count": 64,
   "metadata": {
    "colab": {
     "base_uri": "https://localhost:8080/"
    },
    "id": "g1NfpTwAlqOT",
    "outputId": "15ae6e26-5779-445d-cceb-52a3097fedf6"
   },
   "outputs": [
    {
     "data": {
      "text/html": [
       "<div>\n",
       "<style scoped>\n",
       "    .dataframe tbody tr th:only-of-type {\n",
       "        vertical-align: middle;\n",
       "    }\n",
       "\n",
       "    .dataframe tbody tr th {\n",
       "        vertical-align: top;\n",
       "    }\n",
       "\n",
       "    .dataframe thead th {\n",
       "        text-align: right;\n",
       "    }\n",
       "</style>\n",
       "<table border=\"1\" class=\"dataframe\">\n",
       "  <thead>\n",
       "    <tr style=\"text-align: right;\">\n",
       "      <th></th>\n",
       "      <th>age</th>\n",
       "      <th>sex</th>\n",
       "      <th>sick</th>\n",
       "      <th>pregnant</th>\n",
       "      <th>thyroid surgery</th>\n",
       "      <th>I131 treatment</th>\n",
       "      <th>lithium</th>\n",
       "      <th>goitre</th>\n",
       "      <th>tumor</th>\n",
       "      <th>TSH</th>\n",
       "      <th>T3</th>\n",
       "      <th>TT4</th>\n",
       "      <th>T4U</th>\n",
       "      <th>FTI</th>\n",
       "    </tr>\n",
       "  </thead>\n",
       "  <tbody>\n",
       "    <tr>\n",
       "      <th>2943</th>\n",
       "      <td>84</td>\n",
       "      <td>0</td>\n",
       "      <td>0</td>\n",
       "      <td>0</td>\n",
       "      <td>0</td>\n",
       "      <td>0</td>\n",
       "      <td>0</td>\n",
       "      <td>0</td>\n",
       "      <td>0</td>\n",
       "      <td>4.6</td>\n",
       "      <td>1.5</td>\n",
       "      <td>83</td>\n",
       "      <td>0.780</td>\n",
       "      <td>106</td>\n",
       "    </tr>\n",
       "    <tr>\n",
       "      <th>2962</th>\n",
       "      <td>52</td>\n",
       "      <td>1</td>\n",
       "      <td>0</td>\n",
       "      <td>0</td>\n",
       "      <td>0</td>\n",
       "      <td>0</td>\n",
       "      <td>0</td>\n",
       "      <td>0</td>\n",
       "      <td>0</td>\n",
       "      <td>1.1</td>\n",
       "      <td>2.7</td>\n",
       "      <td>159</td>\n",
       "      <td>1.190</td>\n",
       "      <td>134</td>\n",
       "    </tr>\n",
       "    <tr>\n",
       "      <th>1073</th>\n",
       "      <td>64</td>\n",
       "      <td>1</td>\n",
       "      <td>0</td>\n",
       "      <td>0</td>\n",
       "      <td>0</td>\n",
       "      <td>0</td>\n",
       "      <td>0</td>\n",
       "      <td>0</td>\n",
       "      <td>0</td>\n",
       "      <td>1.0</td>\n",
       "      <td>0.7</td>\n",
       "      <td>91</td>\n",
       "      <td>0.830</td>\n",
       "      <td>110</td>\n",
       "    </tr>\n",
       "    <tr>\n",
       "      <th>1583</th>\n",
       "      <td>23</td>\n",
       "      <td>1</td>\n",
       "      <td>0</td>\n",
       "      <td>0</td>\n",
       "      <td>0</td>\n",
       "      <td>0</td>\n",
       "      <td>0</td>\n",
       "      <td>0</td>\n",
       "      <td>0</td>\n",
       "      <td>1.3</td>\n",
       "      <td>1.8</td>\n",
       "      <td>122</td>\n",
       "      <td>1.100</td>\n",
       "      <td>111</td>\n",
       "    </tr>\n",
       "    <tr>\n",
       "      <th>1653</th>\n",
       "      <td>34</td>\n",
       "      <td>0</td>\n",
       "      <td>0</td>\n",
       "      <td>0</td>\n",
       "      <td>0</td>\n",
       "      <td>0</td>\n",
       "      <td>0</td>\n",
       "      <td>0</td>\n",
       "      <td>0</td>\n",
       "      <td>3.1</td>\n",
       "      <td>1.8</td>\n",
       "      <td>94</td>\n",
       "      <td>0.995</td>\n",
       "      <td>110</td>\n",
       "    </tr>\n",
       "  </tbody>\n",
       "</table>\n",
       "</div>"
      ],
      "text/plain": [
       "      age  sex  sick  pregnant  thyroid surgery  I131 treatment  lithium  \\\n",
       "2943   84    0     0         0                0               0        0   \n",
       "2962   52    1     0         0                0               0        0   \n",
       "1073   64    1     0         0                0               0        0   \n",
       "1583   23    1     0         0                0               0        0   \n",
       "1653   34    0     0         0                0               0        0   \n",
       "\n",
       "      goitre  tumor  TSH   T3  TT4    T4U  FTI  \n",
       "2943       0      0  4.6  1.5   83  0.780  106  \n",
       "2962       0      0  1.1  2.7  159  1.190  134  \n",
       "1073       0      0  1.0  0.7   91  0.830  110  \n",
       "1583       0      0  1.3  1.8  122  1.100  111  \n",
       "1653       0      0  3.1  1.8   94  0.995  110  "
      ]
     },
     "execution_count": 64,
     "metadata": {},
     "output_type": "execute_result"
    }
   ],
   "source": [
    "X_test.head()"
   ]
  },
  {
   "cell_type": "code",
   "execution_count": 65,
   "metadata": {
    "id": "IGZYRH_-ks9r"
   },
   "outputs": [],
   "source": [
    "#X_test[['TT4', 'age', 'FTI']] = sc.transform(X_test[['TT4', 'age', 'FTI']])\n"
   ]
  },
  {
   "cell_type": "code",
   "execution_count": 66,
   "metadata": {
    "id": "_KkYt-SloqTZ"
   },
   "outputs": [],
   "source": [
    "# x_smote['age'] = (x_smote['age'] - x_smote['age'].min()) / (x_smote['age'].max() - x_smote['age'].min())\n",
    "# x_smote['TT4'] = (x_smote['TT4'] - x_smote['TT4'].min()) / (x_smote['TT4'].max() - x_smote['TT4'].min())\n",
    "# x_smote['FTI'] = (x_smote['FTI'] - x_smote['FTI'].min()) / (x_smote['FTI'].max() - x_smote['FTI'].min())"
   ]
  },
  {
   "cell_type": "code",
   "execution_count": 67,
   "metadata": {
    "id": "mA8dSGF4p8jU"
   },
   "outputs": [],
   "source": [
    "# X_test['age'] = (X_test['age'] - X_test['age'].min()) / (X_test['age'].max() - X_test['age'].min())\n",
    "# X_test['TT4'] = (X_test['TT4'] - X_test['TT4'].min()) / (X_test['TT4'].max() - X_test['TT4'].min())\n",
    "# X_test['FTI'] = (X_test['FTI'] - X_test['FTI'].min()) / (X_test['FTI'].max() - X_test['FTI'].min())"
   ]
  },
  {
   "cell_type": "code",
   "execution_count": 68,
   "metadata": {
    "colab": {
     "base_uri": "https://localhost:8080/"
    },
    "id": "GGxf3HF-b1hz",
    "outputId": "43f0a731-5bec-451a-aa92-94d89b686028"
   },
   "outputs": [
    {
     "data": {
      "text/html": [
       "<div>\n",
       "<style scoped>\n",
       "    .dataframe tbody tr th:only-of-type {\n",
       "        vertical-align: middle;\n",
       "    }\n",
       "\n",
       "    .dataframe tbody tr th {\n",
       "        vertical-align: top;\n",
       "    }\n",
       "\n",
       "    .dataframe thead th {\n",
       "        text-align: right;\n",
       "    }\n",
       "</style>\n",
       "<table border=\"1\" class=\"dataframe\">\n",
       "  <thead>\n",
       "    <tr style=\"text-align: right;\">\n",
       "      <th></th>\n",
       "      <th>age</th>\n",
       "      <th>sex</th>\n",
       "      <th>sick</th>\n",
       "      <th>pregnant</th>\n",
       "      <th>thyroid surgery</th>\n",
       "      <th>I131 treatment</th>\n",
       "      <th>lithium</th>\n",
       "      <th>goitre</th>\n",
       "      <th>tumor</th>\n",
       "      <th>TSH</th>\n",
       "      <th>T3</th>\n",
       "      <th>TT4</th>\n",
       "      <th>T4U</th>\n",
       "      <th>FTI</th>\n",
       "    </tr>\n",
       "  </thead>\n",
       "  <tbody>\n",
       "    <tr>\n",
       "      <th>0</th>\n",
       "      <td>52</td>\n",
       "      <td>1</td>\n",
       "      <td>0</td>\n",
       "      <td>0</td>\n",
       "      <td>0</td>\n",
       "      <td>0</td>\n",
       "      <td>0</td>\n",
       "      <td>0</td>\n",
       "      <td>0</td>\n",
       "      <td>0.300000</td>\n",
       "      <td>1.2000</td>\n",
       "      <td>101</td>\n",
       "      <td>0.90</td>\n",
       "      <td>112</td>\n",
       "    </tr>\n",
       "    <tr>\n",
       "      <th>1</th>\n",
       "      <td>78</td>\n",
       "      <td>0</td>\n",
       "      <td>0</td>\n",
       "      <td>0</td>\n",
       "      <td>0</td>\n",
       "      <td>0</td>\n",
       "      <td>0</td>\n",
       "      <td>0</td>\n",
       "      <td>0</td>\n",
       "      <td>10.000000</td>\n",
       "      <td>2.0000</td>\n",
       "      <td>69</td>\n",
       "      <td>0.96</td>\n",
       "      <td>71</td>\n",
       "    </tr>\n",
       "    <tr>\n",
       "      <th>2</th>\n",
       "      <td>23</td>\n",
       "      <td>0</td>\n",
       "      <td>0</td>\n",
       "      <td>0</td>\n",
       "      <td>0</td>\n",
       "      <td>0</td>\n",
       "      <td>0</td>\n",
       "      <td>0</td>\n",
       "      <td>0</td>\n",
       "      <td>5.086766</td>\n",
       "      <td>2.0135</td>\n",
       "      <td>67</td>\n",
       "      <td>0.98</td>\n",
       "      <td>68</td>\n",
       "    </tr>\n",
       "    <tr>\n",
       "      <th>3</th>\n",
       "      <td>71</td>\n",
       "      <td>1</td>\n",
       "      <td>0</td>\n",
       "      <td>0</td>\n",
       "      <td>0</td>\n",
       "      <td>0</td>\n",
       "      <td>0</td>\n",
       "      <td>0</td>\n",
       "      <td>0</td>\n",
       "      <td>25.000000</td>\n",
       "      <td>0.3000</td>\n",
       "      <td>31</td>\n",
       "      <td>0.68</td>\n",
       "      <td>46</td>\n",
       "    </tr>\n",
       "    <tr>\n",
       "      <th>4</th>\n",
       "      <td>79</td>\n",
       "      <td>0</td>\n",
       "      <td>0</td>\n",
       "      <td>0</td>\n",
       "      <td>0</td>\n",
       "      <td>0</td>\n",
       "      <td>0</td>\n",
       "      <td>0</td>\n",
       "      <td>0</td>\n",
       "      <td>0.840000</td>\n",
       "      <td>0.8000</td>\n",
       "      <td>94</td>\n",
       "      <td>0.86</td>\n",
       "      <td>109</td>\n",
       "    </tr>\n",
       "  </tbody>\n",
       "</table>\n",
       "</div>"
      ],
      "text/plain": [
       "   age  sex  sick  pregnant  thyroid surgery  I131 treatment  lithium  goitre  \\\n",
       "0   52    1     0         0                0               0        0       0   \n",
       "1   78    0     0         0                0               0        0       0   \n",
       "2   23    0     0         0                0               0        0       0   \n",
       "3   71    1     0         0                0               0        0       0   \n",
       "4   79    0     0         0                0               0        0       0   \n",
       "\n",
       "   tumor        TSH      T3  TT4   T4U  FTI  \n",
       "0      0   0.300000  1.2000  101  0.90  112  \n",
       "1      0  10.000000  2.0000   69  0.96   71  \n",
       "2      0   5.086766  2.0135   67  0.98   68  \n",
       "3      0  25.000000  0.3000   31  0.68   46  \n",
       "4      0   0.840000  0.8000   94  0.86  109  "
      ]
     },
     "execution_count": 68,
     "metadata": {},
     "output_type": "execute_result"
    }
   ],
   "source": [
    "x_smote.head()"
   ]
  },
  {
   "cell_type": "code",
   "execution_count": 69,
   "metadata": {
    "colab": {
     "base_uri": "https://localhost:8080/"
    },
    "id": "RKEpRRa5_NjW",
    "outputId": "4d080ab9-465a-4812-869d-286c73ebcf4b"
   },
   "outputs": [
    {
     "data": {
      "text/plain": [
       "age                  int64\n",
       "sex                  int32\n",
       "sick                 int32\n",
       "pregnant             int32\n",
       "thyroid surgery      int32\n",
       "I131 treatment       int32\n",
       "lithium              int32\n",
       "goitre               int32\n",
       "tumor                int32\n",
       "TSH                float64\n",
       "T3                 float64\n",
       "TT4                  int64\n",
       "T4U                float64\n",
       "FTI                  int64\n",
       "dtype: object"
      ]
     },
     "execution_count": 69,
     "metadata": {},
     "output_type": "execute_result"
    }
   ],
   "source": [
    "x_smote.dtypes"
   ]
  },
  {
   "cell_type": "code",
   "execution_count": 70,
   "metadata": {
    "colab": {
     "base_uri": "https://localhost:8080/"
    },
    "id": "qSYWYhw1_T66",
    "outputId": "2efbc5ce-096c-4f58-dc19-007add7cf31b"
   },
   "outputs": [
    {
     "data": {
      "text/plain": [
       "age                  int64\n",
       "sex                  int32\n",
       "sick                 int32\n",
       "pregnant             int32\n",
       "thyroid surgery      int32\n",
       "I131 treatment       int32\n",
       "lithium              int32\n",
       "goitre               int32\n",
       "tumor                int32\n",
       "TSH                float64\n",
       "T3                 float64\n",
       "TT4                  int64\n",
       "T4U                float64\n",
       "FTI                  int64\n",
       "dtype: object"
      ]
     },
     "execution_count": 70,
     "metadata": {},
     "output_type": "execute_result"
    }
   ],
   "source": [
    "X_test.dtypes"
   ]
  },
  {
   "cell_type": "code",
   "execution_count": 71,
   "metadata": {
    "colab": {
     "base_uri": "https://localhost:8080/"
    },
    "id": "jaD3CxHfALHE",
    "outputId": "d3f8141a-7b21-4527-f989-9d74b78bb705"
   },
   "outputs": [
    {
     "data": {
      "text/plain": [
       "Index(['age', 'sex', 'sick', 'pregnant', 'thyroid surgery', 'I131 treatment',\n",
       "       'lithium', 'goitre', 'tumor', 'TSH', 'T3', 'TT4', 'T4U', 'FTI'],\n",
       "      dtype='object')"
      ]
     },
     "execution_count": 71,
     "metadata": {},
     "output_type": "execute_result"
    }
   ],
   "source": [
    "X_test.columns"
   ]
  },
  {
   "cell_type": "markdown",
   "metadata": {
    "id": "N29X_BT8SEM2"
   },
   "source": [
    "# **PIPELINE**"
   ]
  },
  {
   "cell_type": "code",
   "execution_count": 72,
   "metadata": {
    "id": "bNwmtXHPVvPT"
   },
   "outputs": [],
   "source": [
    "\n",
    "# Define the steps of the pipeline as a list of tuples\n",
    "# Each tuple consists of a string (step name) and an estimator object\n",
    "steps = [\n",
    "    ('scaler', MinMaxScaler()),          # Data preprocessing step with MinMaxScaler\n",
    "    ('classifier', xgb.XGBClassifier()) # Model training\n",
    "    #step  put knn\n",
    "]\n",
    "\n",
    "# Create the pipeline\n",
    "pipeline = Pipeline(steps)\n",
    "\n",
    "\n",
    "# xgbc = xgb.XGBClassifier()\n",
    "# xgbc.fit(x_smote,y_smote)"
   ]
  },
  {
   "cell_type": "code",
   "execution_count": 73,
   "metadata": {
    "id": "EatMNHbFSHeZ"
   },
   "outputs": [],
   "source": [
    "# Fit the pipeline on the training data\n",
    "pipeline.fit(x_smote, y_smote)\n",
    "\n",
    "# Predict using the pipeline\n",
    "y_pred = pipeline.predict(X_test)\n",
    "\n",
    "# Evaluate the pipeline's performance\n",
    "accuracy = pipeline.score(X_test, y_test)\n"
   ]
  },
  {
   "cell_type": "code",
   "execution_count": 74,
   "metadata": {
    "colab": {
     "base_uri": "https://localhost:8080/"
    },
    "id": "PZmKq3UjW7Xn",
    "outputId": "3a077d3a-4a8e-469c-f044-84ee45241838"
   },
   "outputs": [
    {
     "data": {
      "text/plain": [
       "0.9751381215469613"
      ]
     },
     "execution_count": 74,
     "metadata": {},
     "output_type": "execute_result"
    }
   ],
   "source": [
    "accuracy"
   ]
  },
  {
   "cell_type": "markdown",
   "metadata": {
    "id": "uNOitkidqoiG"
   },
   "source": [
    "# **MODEL BUILDING**"
   ]
  },
  {
   "cell_type": "code",
   "execution_count": 75,
   "metadata": {
    "id": "GEy7Ev8kSY53"
   },
   "outputs": [],
   "source": [
    "  #Checking the Scores\n",
    "\n",
    "def check_scores(model, x_smote, X_test):\n",
    "  # Making predictions on train and test data\n",
    "\n",
    "   train_class_preds = model.predict(x_smote)\n",
    "   test_class_preds = model.predict(X_test)\n",
    "\n",
    "\n",
    "  # Get the probabilities on train and test\n",
    "   train_preds = model.predict_proba(x_smote)[:,1]\n",
    "   test_preds = model.predict_proba(X_test)[:,1]\n",
    "\n",
    "\n",
    "  # Calculating accuracy on train and test\n",
    "   train_accuracy = accuracy_score(y_smote,train_class_preds)\n",
    "   test_accuracy = accuracy_score(y_test,test_class_preds)\n",
    "\n",
    "   print(\"The accuracy on train dataset is\", train_accuracy)\n",
    "   print(\"The accuracy on test dataset is\", test_accuracy)\n",
    "   print()\n",
    "\n",
    "   # Get the confusion matrices for train and test\n",
    "   train_cm = confusion_matrix(y_smote,train_class_preds)\n",
    "   test_cm = confusion_matrix(y_test,test_class_preds )\n",
    "\n",
    "   print('Train confusion matrix:')\n",
    "   print( train_cm)\n",
    "   print()\n",
    "   print('Test confusion matrix:')\n",
    "   print(test_cm)\n",
    "   print()\n",
    "\n",
    "  # Get the roc_auc score for train and test dataset\n",
    "   train_auc = roc_auc_score(y_smote,train_preds)\n",
    "   test_auc = roc_auc_score(y_test,test_preds)\n",
    "\n",
    "   print('AUC on train data:', train_auc)\n",
    "   print('AUC on test data:', test_auc)\n",
    "\n",
    "  # Fscore, precision and recall on test data\n",
    "   f1 = f1_score(y_test, test_class_preds)\n",
    "   precision = precision_score(y_test, test_class_preds)\n",
    "   recall = recall_score(y_test, test_class_preds)\n",
    "   print(\"F1 score is:\",f1 )\n",
    "   print(\"Precision is:\",precision)\n",
    "   print(\"Recall is:\", recall)\n",
    "\n",
    "   return model, train_auc, test_auc, train_accuracy, test_accuracy,f1, precision,recall###Checking the Scores"
   ]
  },
  {
   "cell_type": "code",
   "execution_count": 76,
   "metadata": {
    "id": "O-aWSpxLcddy"
   },
   "outputs": [],
   "source": [
    "# models = {LogisticRegression(max_iter=500) : 'logistic regression',\n",
    "#           SVC() : 'suppport vector machine',\n",
    "#           RandomForestClassifier() : ' random forest'}\n",
    "# for m in models.keys() :\n",
    "#   m.fit(x_smote,y_smote)\n",
    "# for model , name in models.items() :\n",
    "#   print(f'accuracy score for {name} is :', model.score(X_test,y_test)*100,'%' )"
   ]
  },
  {
   "cell_type": "code",
   "execution_count": 77,
   "metadata": {
    "id": "W3o4HCWRl1Yr"
   },
   "outputs": [],
   "source": [
    "# for model, name in models.items() :\n",
    "#   y_predict = model.predict(X_test)\n",
    "#   print(f'classification report for {name}')\n",
    "#   print('________________________________________________________\\n')\n",
    "#   print(classification_report(y_test,y_predict,digits=4))\n",
    "#   print('________________________________________________________\\n')\n",
    "#   print(confusion_matrix(y_test,y_predict))\n",
    "#   print('________________________________________________________\\n')"
   ]
  },
  {
   "cell_type": "markdown",
   "metadata": {
    "id": "6IBOGrBRnyTw"
   },
   "source": [
    "# **KNN**"
   ]
  },
  {
   "cell_type": "code",
   "execution_count": 78,
   "metadata": {
    "colab": {
     "base_uri": "https://localhost:8080/"
    },
    "id": "0pc6DBa0n0wQ",
    "outputId": "ff65f3c6-983f-47f2-9900-8b852a0ef5c9"
   },
   "outputs": [
    {
     "data": {
      "text/plain": [
       "0.925414364640884"
      ]
     },
     "execution_count": 78,
     "metadata": {},
     "output_type": "execute_result"
    }
   ],
   "source": [
    "knnc = KNeighborsClassifier(n_neighbors = 8)\n",
    "knnc.fit(x_smote,y_smote)\n",
    "pred_knnc = knnc.predict(X_test)\n",
    "accuracy_score(pred_knnc,y_test)"
   ]
  },
  {
   "cell_type": "code",
   "execution_count": 79,
   "metadata": {
    "colab": {
     "base_uri": "https://localhost:8080/"
    },
    "id": "XRsP83VQvcWJ",
    "outputId": "18c36f81-7ec3-476c-8287-72f78d74968c"
   },
   "outputs": [
    {
     "data": {
      "text/html": [
       "<div>\n",
       "<style scoped>\n",
       "    .dataframe tbody tr th:only-of-type {\n",
       "        vertical-align: middle;\n",
       "    }\n",
       "\n",
       "    .dataframe tbody tr th {\n",
       "        vertical-align: top;\n",
       "    }\n",
       "\n",
       "    .dataframe thead th {\n",
       "        text-align: right;\n",
       "    }\n",
       "</style>\n",
       "<table border=\"1\" class=\"dataframe\">\n",
       "  <thead>\n",
       "    <tr style=\"text-align: right;\">\n",
       "      <th></th>\n",
       "      <th>age</th>\n",
       "      <th>sex</th>\n",
       "      <th>sick</th>\n",
       "      <th>pregnant</th>\n",
       "      <th>thyroid surgery</th>\n",
       "      <th>I131 treatment</th>\n",
       "      <th>lithium</th>\n",
       "      <th>goitre</th>\n",
       "      <th>tumor</th>\n",
       "      <th>TSH</th>\n",
       "      <th>T3</th>\n",
       "      <th>TT4</th>\n",
       "      <th>T4U</th>\n",
       "      <th>FTI</th>\n",
       "    </tr>\n",
       "  </thead>\n",
       "  <tbody>\n",
       "    <tr>\n",
       "      <th>2943</th>\n",
       "      <td>84</td>\n",
       "      <td>0</td>\n",
       "      <td>0</td>\n",
       "      <td>0</td>\n",
       "      <td>0</td>\n",
       "      <td>0</td>\n",
       "      <td>0</td>\n",
       "      <td>0</td>\n",
       "      <td>0</td>\n",
       "      <td>4.600000</td>\n",
       "      <td>1.5000</td>\n",
       "      <td>83</td>\n",
       "      <td>0.780</td>\n",
       "      <td>106</td>\n",
       "    </tr>\n",
       "    <tr>\n",
       "      <th>2962</th>\n",
       "      <td>52</td>\n",
       "      <td>1</td>\n",
       "      <td>0</td>\n",
       "      <td>0</td>\n",
       "      <td>0</td>\n",
       "      <td>0</td>\n",
       "      <td>0</td>\n",
       "      <td>0</td>\n",
       "      <td>0</td>\n",
       "      <td>1.100000</td>\n",
       "      <td>2.7000</td>\n",
       "      <td>159</td>\n",
       "      <td>1.190</td>\n",
       "      <td>134</td>\n",
       "    </tr>\n",
       "    <tr>\n",
       "      <th>1073</th>\n",
       "      <td>64</td>\n",
       "      <td>1</td>\n",
       "      <td>0</td>\n",
       "      <td>0</td>\n",
       "      <td>0</td>\n",
       "      <td>0</td>\n",
       "      <td>0</td>\n",
       "      <td>0</td>\n",
       "      <td>0</td>\n",
       "      <td>1.000000</td>\n",
       "      <td>0.7000</td>\n",
       "      <td>91</td>\n",
       "      <td>0.830</td>\n",
       "      <td>110</td>\n",
       "    </tr>\n",
       "    <tr>\n",
       "      <th>1583</th>\n",
       "      <td>23</td>\n",
       "      <td>1</td>\n",
       "      <td>0</td>\n",
       "      <td>0</td>\n",
       "      <td>0</td>\n",
       "      <td>0</td>\n",
       "      <td>0</td>\n",
       "      <td>0</td>\n",
       "      <td>0</td>\n",
       "      <td>1.300000</td>\n",
       "      <td>1.8000</td>\n",
       "      <td>122</td>\n",
       "      <td>1.100</td>\n",
       "      <td>111</td>\n",
       "    </tr>\n",
       "    <tr>\n",
       "      <th>1653</th>\n",
       "      <td>34</td>\n",
       "      <td>0</td>\n",
       "      <td>0</td>\n",
       "      <td>0</td>\n",
       "      <td>0</td>\n",
       "      <td>0</td>\n",
       "      <td>0</td>\n",
       "      <td>0</td>\n",
       "      <td>0</td>\n",
       "      <td>3.100000</td>\n",
       "      <td>1.8000</td>\n",
       "      <td>94</td>\n",
       "      <td>0.995</td>\n",
       "      <td>110</td>\n",
       "    </tr>\n",
       "    <tr>\n",
       "      <th>...</th>\n",
       "      <td>...</td>\n",
       "      <td>...</td>\n",
       "      <td>...</td>\n",
       "      <td>...</td>\n",
       "      <td>...</td>\n",
       "      <td>...</td>\n",
       "      <td>...</td>\n",
       "      <td>...</td>\n",
       "      <td>...</td>\n",
       "      <td>...</td>\n",
       "      <td>...</td>\n",
       "      <td>...</td>\n",
       "      <td>...</td>\n",
       "      <td>...</td>\n",
       "    </tr>\n",
       "    <tr>\n",
       "      <th>3151</th>\n",
       "      <td>52</td>\n",
       "      <td>1</td>\n",
       "      <td>0</td>\n",
       "      <td>0</td>\n",
       "      <td>0</td>\n",
       "      <td>1</td>\n",
       "      <td>0</td>\n",
       "      <td>0</td>\n",
       "      <td>0</td>\n",
       "      <td>1.200000</td>\n",
       "      <td>1.7000</td>\n",
       "      <td>92</td>\n",
       "      <td>0.760</td>\n",
       "      <td>121</td>\n",
       "    </tr>\n",
       "    <tr>\n",
       "      <th>1457</th>\n",
       "      <td>35</td>\n",
       "      <td>1</td>\n",
       "      <td>0</td>\n",
       "      <td>0</td>\n",
       "      <td>0</td>\n",
       "      <td>0</td>\n",
       "      <td>0</td>\n",
       "      <td>0</td>\n",
       "      <td>0</td>\n",
       "      <td>2.500000</td>\n",
       "      <td>2.0135</td>\n",
       "      <td>139</td>\n",
       "      <td>1.130</td>\n",
       "      <td>123</td>\n",
       "    </tr>\n",
       "    <tr>\n",
       "      <th>2290</th>\n",
       "      <td>24</td>\n",
       "      <td>0</td>\n",
       "      <td>0</td>\n",
       "      <td>0</td>\n",
       "      <td>0</td>\n",
       "      <td>0</td>\n",
       "      <td>0</td>\n",
       "      <td>0</td>\n",
       "      <td>0</td>\n",
       "      <td>5.086766</td>\n",
       "      <td>2.0135</td>\n",
       "      <td>108</td>\n",
       "      <td>0.995</td>\n",
       "      <td>110</td>\n",
       "    </tr>\n",
       "    <tr>\n",
       "      <th>528</th>\n",
       "      <td>23</td>\n",
       "      <td>0</td>\n",
       "      <td>0</td>\n",
       "      <td>0</td>\n",
       "      <td>0</td>\n",
       "      <td>0</td>\n",
       "      <td>0</td>\n",
       "      <td>0</td>\n",
       "      <td>0</td>\n",
       "      <td>7.200000</td>\n",
       "      <td>3.5000</td>\n",
       "      <td>126</td>\n",
       "      <td>1.380</td>\n",
       "      <td>92</td>\n",
       "    </tr>\n",
       "    <tr>\n",
       "      <th>176</th>\n",
       "      <td>37</td>\n",
       "      <td>0</td>\n",
       "      <td>0</td>\n",
       "      <td>0</td>\n",
       "      <td>0</td>\n",
       "      <td>0</td>\n",
       "      <td>0</td>\n",
       "      <td>0</td>\n",
       "      <td>0</td>\n",
       "      <td>2.100000</td>\n",
       "      <td>2.4000</td>\n",
       "      <td>177</td>\n",
       "      <td>1.460</td>\n",
       "      <td>122</td>\n",
       "    </tr>\n",
       "  </tbody>\n",
       "</table>\n",
       "<p>724 rows × 14 columns</p>\n",
       "</div>"
      ],
      "text/plain": [
       "      age  sex  sick  pregnant  thyroid surgery  I131 treatment  lithium  \\\n",
       "2943   84    0     0         0                0               0        0   \n",
       "2962   52    1     0         0                0               0        0   \n",
       "1073   64    1     0         0                0               0        0   \n",
       "1583   23    1     0         0                0               0        0   \n",
       "1653   34    0     0         0                0               0        0   \n",
       "...   ...  ...   ...       ...              ...             ...      ...   \n",
       "3151   52    1     0         0                0               1        0   \n",
       "1457   35    1     0         0                0               0        0   \n",
       "2290   24    0     0         0                0               0        0   \n",
       "528    23    0     0         0                0               0        0   \n",
       "176    37    0     0         0                0               0        0   \n",
       "\n",
       "      goitre  tumor       TSH      T3  TT4    T4U  FTI  \n",
       "2943       0      0  4.600000  1.5000   83  0.780  106  \n",
       "2962       0      0  1.100000  2.7000  159  1.190  134  \n",
       "1073       0      0  1.000000  0.7000   91  0.830  110  \n",
       "1583       0      0  1.300000  1.8000  122  1.100  111  \n",
       "1653       0      0  3.100000  1.8000   94  0.995  110  \n",
       "...      ...    ...       ...     ...  ...    ...  ...  \n",
       "3151       0      0  1.200000  1.7000   92  0.760  121  \n",
       "1457       0      0  2.500000  2.0135  139  1.130  123  \n",
       "2290       0      0  5.086766  2.0135  108  0.995  110  \n",
       "528        0      0  7.200000  3.5000  126  1.380   92  \n",
       "176        0      0  2.100000  2.4000  177  1.460  122  \n",
       "\n",
       "[724 rows x 14 columns]"
      ]
     },
     "execution_count": 79,
     "metadata": {},
     "output_type": "execute_result"
    }
   ],
   "source": [
    "X_test"
   ]
  },
  {
   "cell_type": "code",
   "execution_count": 80,
   "metadata": {
    "colab": {
     "base_uri": "https://localhost:8080/"
    },
    "id": "W2nIkjnwwhIa",
    "outputId": "87d95925-189b-41e9-c898-1836f290535b"
   },
   "outputs": [
    {
     "data": {
      "text/plain": [
       "array([1, 1, 1, 1, 1, 1, 1, 1, 1, 1, 0, 1, 1, 1, 1, 1, 1, 1, 0, 0, 1, 1,\n",
       "       1, 1, 1, 1, 1, 1, 1, 1, 1, 1, 1, 1, 1, 0, 1, 1, 1, 1, 1, 1, 1, 1,\n",
       "       1, 1, 1, 1, 1, 1, 1, 1, 1, 0, 1, 1, 1, 1, 1, 0, 1, 0, 0, 1, 1, 1,\n",
       "       0, 0, 1, 1, 0, 1, 1, 1, 1, 1, 1, 1, 0, 1, 1, 1, 1, 1, 0, 1, 1, 0,\n",
       "       0, 1, 1, 1, 1, 1, 1, 1, 1, 0, 1, 1, 1, 1, 1, 1, 1, 0, 1, 1, 1, 1,\n",
       "       1, 0, 1, 1, 1, 1, 1, 1, 1, 1, 1, 1, 1, 1, 1, 1, 1, 1, 1, 1, 0, 0,\n",
       "       1, 1, 1, 1, 1, 1, 1, 1, 1, 1, 1, 1, 1, 1, 1, 1, 1, 1, 1, 1, 1, 1,\n",
       "       0, 1, 1, 1, 1, 1, 1, 1, 1, 1, 1, 1, 1, 1, 1, 1, 0, 1, 0, 1, 1, 1,\n",
       "       1, 1, 1, 1, 1, 0, 1, 1, 1, 1, 1, 0, 1, 1, 0, 1, 1, 1, 1, 1, 1, 1,\n",
       "       1, 1, 1, 0, 1, 0, 1, 1, 1, 1, 1, 1, 1, 1, 1, 1, 1, 0, 1, 1, 1, 1,\n",
       "       1, 1, 0, 1, 1, 1, 1, 0, 1, 1, 0, 1, 1, 1, 1, 1, 1, 1, 1, 1, 1, 0,\n",
       "       1, 1, 1, 1, 1, 1, 1, 0, 1, 1, 1, 1, 1, 1, 1, 1, 0, 1, 1, 1, 1, 1,\n",
       "       1, 1, 1, 1, 1, 1, 1, 1, 1, 1, 1, 1, 1, 1, 1, 1, 1, 1, 1, 1, 1, 1,\n",
       "       1, 1, 1, 1, 1, 1, 1, 1, 1, 1, 1, 1, 0, 1, 1, 1, 1, 1, 1, 1, 1, 1,\n",
       "       1, 1, 1, 1, 0, 0, 1, 1, 1, 1, 1, 1, 1, 1, 1, 0, 1, 1, 0, 1, 0, 1,\n",
       "       1, 1, 1, 1, 1, 1, 1, 1, 1, 1, 1, 1, 1, 1, 1, 1, 1, 1, 1, 1, 1, 1,\n",
       "       1, 1, 1, 1, 1, 1, 1, 1, 1, 1, 1, 1, 1, 1, 1, 1, 1, 1, 1, 1, 1, 1,\n",
       "       1, 1, 1, 1, 1, 1, 1, 1, 1, 1, 1, 1, 1, 0, 1, 1, 1, 1, 0, 1, 1, 1,\n",
       "       0, 1, 1, 0, 1, 1, 1, 1, 1, 1, 1, 0, 1, 0, 1, 1, 1, 0, 1, 1, 1, 0,\n",
       "       1, 1, 1, 1, 1, 1, 1, 1, 1, 0, 0, 1, 1, 1, 0, 1, 0, 1, 1, 1, 1, 1,\n",
       "       1, 1, 1, 1, 1, 1, 1, 1, 1, 1, 1, 1, 1, 1, 1, 1, 1, 1, 1, 1, 1, 1,\n",
       "       1, 0, 1, 1, 1, 1, 1, 1, 1, 1, 1, 1, 1, 0, 1, 1, 1, 1, 1, 0, 1, 1,\n",
       "       1, 1, 0, 1, 1, 1, 1, 1, 1, 1, 0, 0, 1, 0, 1, 1, 0, 1, 1, 1, 0, 1,\n",
       "       1, 1, 0, 0, 1, 1, 1, 1, 1, 1, 1, 1, 1, 1, 1, 0, 1, 0, 0, 1, 1, 1,\n",
       "       1, 1, 1, 1, 1, 1, 1, 1, 0, 1, 1, 0, 1, 1, 1, 1, 1, 0, 1, 1, 1, 1,\n",
       "       1, 1, 1, 1, 1, 1, 1, 1, 0, 1, 1, 1, 0, 1, 1, 1, 1, 1, 1, 1, 1, 1,\n",
       "       1, 1, 0, 0, 1, 0, 1, 1, 1, 0, 1, 1, 1, 1, 1, 1, 1, 1, 1, 1, 1, 1,\n",
       "       1, 1, 1, 0, 0, 1, 1, 0, 1, 1, 1, 1, 1, 1, 1, 1, 1, 1, 1, 1, 1, 1,\n",
       "       1, 0, 1, 1, 1, 0, 1, 1, 1, 1, 1, 1, 1, 1, 1, 1, 0, 1, 1, 1, 1, 1,\n",
       "       1, 1, 1, 1, 1, 1, 1, 1, 1, 1, 1, 1, 1, 0, 1, 1, 1, 1, 1, 1, 1, 1,\n",
       "       1, 0, 1, 1, 1, 1, 1, 1, 1, 1, 1, 1, 1, 1, 1, 1, 1, 1, 1, 0, 1, 1,\n",
       "       1, 1, 1, 1, 1, 1, 1, 1, 1, 1, 1, 1, 1, 1, 1, 1, 1, 1, 1, 1, 1, 1,\n",
       "       1, 1, 1, 1, 1, 1, 1, 1, 1, 1, 0, 1, 0, 1, 1, 1, 1, 1, 1, 1],\n",
       "      dtype=int64)"
      ]
     },
     "execution_count": 80,
     "metadata": {},
     "output_type": "execute_result"
    }
   ],
   "source": [
    "pred_knnc"
   ]
  },
  {
   "cell_type": "code",
   "execution_count": 81,
   "metadata": {
    "colab": {
     "base_uri": "https://localhost:8080/"
    },
    "id": "Sg38i5v_wn0z",
    "outputId": "7a7e1ebc-05ef-4111-f021-0224d530a6f2"
   },
   "outputs": [
    {
     "data": {
      "text/plain": [
       "array([1, 1, 1, 1, 1, 1, 1, 1, 1, 1, 0, 1, 1, 1, 1, 1, 1, 1, 0, 0, 1, 1,\n",
       "       1, 1, 1, 1, 1, 1, 1, 1, 1, 1, 1, 1, 1, 1, 1, 1, 1, 1, 1, 1, 1, 1,\n",
       "       1, 1, 1, 1, 1, 1, 1, 1, 1, 0, 1, 1, 1, 1, 1, 1, 1, 0, 1, 1, 1, 1,\n",
       "       1, 0, 1, 1, 1, 1, 1, 1, 1, 1, 1, 1, 0, 1, 1, 1, 1, 1, 1, 1, 1, 1,\n",
       "       1, 1, 1, 1, 1, 1, 1, 1, 1, 0, 1, 1, 1, 1, 1, 1, 1, 0, 1, 1, 1, 1,\n",
       "       1, 0, 1, 1, 0, 1, 1, 1, 1, 1, 1, 1, 1, 1, 1, 1, 1, 1, 1, 1, 0, 0,\n",
       "       1, 1, 1, 1, 1, 1, 1, 1, 1, 1, 1, 1, 1, 1, 1, 1, 1, 1, 1, 1, 1, 0,\n",
       "       0, 1, 1, 1, 1, 1, 1, 1, 1, 1, 1, 1, 1, 1, 1, 1, 1, 1, 0, 1, 1, 1,\n",
       "       1, 1, 0, 1, 1, 0, 1, 1, 1, 1, 1, 1, 1, 1, 0, 1, 1, 1, 1, 1, 1, 1,\n",
       "       1, 1, 1, 0, 1, 1, 1, 1, 1, 1, 1, 1, 1, 1, 1, 1, 1, 0, 1, 1, 1, 1,\n",
       "       1, 1, 1, 1, 1, 1, 1, 0, 1, 1, 1, 1, 1, 1, 1, 1, 1, 1, 1, 1, 1, 1,\n",
       "       1, 1, 1, 1, 1, 1, 1, 0, 1, 1, 1, 1, 1, 1, 1, 1, 0, 1, 1, 1, 1, 1,\n",
       "       1, 1, 1, 1, 0, 1, 1, 1, 1, 1, 1, 1, 1, 1, 1, 1, 1, 1, 1, 1, 1, 1,\n",
       "       1, 1, 1, 1, 1, 1, 1, 1, 1, 1, 1, 1, 1, 1, 1, 1, 1, 1, 1, 1, 1, 1,\n",
       "       1, 1, 1, 1, 0, 1, 1, 1, 1, 1, 1, 1, 1, 1, 1, 1, 1, 1, 0, 1, 1, 1,\n",
       "       1, 1, 1, 1, 0, 1, 1, 1, 1, 1, 1, 1, 1, 1, 1, 1, 1, 1, 1, 1, 1, 1,\n",
       "       1, 1, 1, 1, 1, 1, 1, 1, 1, 1, 1, 1, 1, 1, 1, 1, 1, 1, 1, 1, 1, 1,\n",
       "       1, 1, 1, 1, 1, 1, 1, 1, 1, 1, 1, 1, 1, 0, 0, 1, 1, 1, 1, 1, 1, 1,\n",
       "       1, 1, 1, 0, 1, 1, 0, 1, 1, 1, 1, 0, 1, 0, 1, 1, 1, 1, 1, 1, 1, 1,\n",
       "       1, 1, 1, 1, 1, 1, 1, 1, 1, 0, 1, 1, 1, 0, 1, 1, 1, 1, 1, 1, 1, 1,\n",
       "       1, 1, 1, 1, 1, 1, 1, 1, 1, 1, 1, 1, 1, 1, 1, 1, 1, 1, 1, 1, 1, 1,\n",
       "       1, 0, 1, 1, 1, 1, 1, 1, 1, 1, 1, 1, 1, 0, 1, 1, 1, 1, 1, 1, 1, 1,\n",
       "       1, 1, 1, 1, 1, 1, 1, 1, 1, 1, 1, 0, 1, 1, 1, 1, 0, 1, 1, 1, 1, 1,\n",
       "       1, 1, 1, 0, 1, 1, 1, 1, 1, 1, 1, 1, 1, 1, 1, 1, 1, 0, 0, 1, 1, 1,\n",
       "       1, 1, 1, 1, 1, 1, 1, 1, 1, 1, 1, 0, 1, 1, 1, 1, 1, 1, 1, 1, 1, 1,\n",
       "       1, 1, 1, 1, 1, 1, 1, 1, 1, 1, 1, 1, 1, 1, 1, 1, 1, 1, 1, 1, 1, 1,\n",
       "       1, 1, 0, 0, 1, 1, 1, 1, 1, 0, 1, 1, 1, 1, 1, 1, 1, 1, 1, 1, 1, 1,\n",
       "       1, 1, 1, 1, 1, 1, 1, 0, 1, 1, 1, 1, 1, 1, 1, 1, 1, 1, 1, 1, 1, 1,\n",
       "       1, 0, 1, 1, 1, 0, 1, 0, 1, 1, 1, 1, 1, 1, 1, 1, 0, 1, 1, 1, 1, 1,\n",
       "       1, 1, 1, 1, 0, 1, 1, 1, 1, 1, 1, 1, 1, 0, 1, 1, 1, 1, 1, 1, 1, 1,\n",
       "       1, 0, 1, 1, 1, 1, 1, 1, 1, 1, 1, 1, 1, 1, 1, 1, 1, 1, 1, 1, 1, 1,\n",
       "       1, 1, 1, 1, 1, 1, 1, 1, 1, 1, 1, 1, 1, 1, 1, 1, 1, 1, 1, 1, 1, 1,\n",
       "       1, 0, 1, 1, 1, 1, 0, 1, 1, 1, 1, 1, 0, 1, 1, 1, 1, 1, 0, 1],\n",
       "      dtype=int64)"
      ]
     },
     "execution_count": 81,
     "metadata": {},
     "output_type": "execute_result"
    }
   ],
   "source": [
    "np.array(y_test)"
   ]
  },
  {
   "cell_type": "code",
   "execution_count": 82,
   "metadata": {
    "colab": {
     "base_uri": "https://localhost:8080/"
    },
    "id": "Tgc-VNJGykgd",
    "outputId": "093d09a1-de75-4e9d-b014-a26f7548b9a1"
   },
   "outputs": [
    {
     "name": "stdout",
     "output_type": "stream",
     "text": [
      "[[ 46  13]\n",
      " [ 41 624]]\n"
     ]
    }
   ],
   "source": [
    "print(confusion_matrix(y_test,pred_knnc))"
   ]
  },
  {
   "cell_type": "code",
   "execution_count": 83,
   "metadata": {
    "colab": {
     "base_uri": "https://localhost:8080/"
    },
    "id": "G3zCUdFz5l6s",
    "outputId": "df2d3a18-a730-4b32-80c9-e9b21ec3c40d"
   },
   "outputs": [
    {
     "name": "stdout",
     "output_type": "stream",
     "text": [
      "              precision    recall  f1-score   support\n",
      "\n",
      "           0       0.53      0.78      0.63        59\n",
      "           1       0.98      0.94      0.96       665\n",
      "\n",
      "    accuracy                           0.93       724\n",
      "   macro avg       0.75      0.86      0.79       724\n",
      "weighted avg       0.94      0.93      0.93       724\n",
      "\n"
     ]
    },
    {
     "data": {
      "image/png": "[encoded data removed]",
      "text/plain": [
       "<Figure size 800x600 with 2 Axes>"
      ]
     },
     "metadata": {},
     "output_type": "display_data"
    }
   ],
   "source": [
    "print(classification_report(y_test, pred_knnc))\n",
    "confusion_mat = confusion_matrix(y_test, pred_knnc)\n",
    "\n",
    "plt.figure(figsize=(8, 6))\n",
    "plt.title(\"Confusion Matrix\")\n",
    "plt.xlabel(\"Predicted label\")\n",
    "plt.ylabel(\"True label\")\n",
    "plt.imshow(confusion_mat, cmap=plt.cm.pink)\n",
    "plt.xticks(range(len(set(y_test))), sorted(set(y_test)))\n",
    "plt.yticks(range(len(set(y_test))), sorted(set(y_test)))\n",
    "plt.colorbar()\n",
    "plt.show()"
   ]
  },
  {
   "cell_type": "code",
   "execution_count": 84,
   "metadata": {
    "colab": {
     "base_uri": "https://localhost:8080/"
    },
    "id": "xJ-rM9tsT6YN",
    "outputId": "91c7ee68-7d38-467e-dbe1-d37939bcc587"
   },
   "outputs": [
    {
     "name": "stdout",
     "output_type": "stream",
     "text": [
      "The accuracy on train dataset is 0.9717757009345794\n",
      "The accuracy on test dataset is 0.925414364640884\n",
      "\n",
      "Train confusion matrix:\n",
      "[[2665   10]\n",
      " [ 141 2534]]\n",
      "\n",
      "Test confusion matrix:\n",
      "[[ 46  13]\n",
      " [ 41 624]]\n",
      "\n",
      "AUC on train data: 0.9987600663813433\n",
      "AUC on test data: 0.8868357334012997\n",
      "F1 score is: 0.9585253456221199\n",
      "Precision is: 0.9795918367346939\n",
      "Recall is: 0.9383458646616541\n"
     ]
    }
   ],
   "source": [
    "knn_model, knn_train_auc, knn_test_auc, knn_train_accuracy, knn_test_accuracy,knn_f1, knn_precision,knn_recall= check_scores(knnc,x_smote,X_test)"
   ]
  },
  {
   "cell_type": "markdown",
   "metadata": {
    "id": "RW0-DaswMj9v"
   },
   "source": [
    "# **DECISION TREE CLASSIFIER**"
   ]
  },
  {
   "cell_type": "code",
   "execution_count": 85,
   "metadata": {
    "colab": {
     "base_uri": "https://localhost:8080/"
    },
    "id": "zkddEkIeNHnu",
    "outputId": "fb23030f-2dbb-437d-c4e8-4ebbfc149113"
   },
   "outputs": [
    {
     "data": {
      "text/plain": [
       "0.9696132596685083"
      ]
     },
     "execution_count": 85,
     "metadata": {},
     "output_type": "execute_result"
    }
   ],
   "source": [
    "dtc = DecisionTreeClassifier()\n",
    "dtc.fit(x_smote,y_smote)\n",
    "pred_dtc = dtc.predict(X_test)\n",
    "accuracy_score(pred_dtc,y_test)\n"
   ]
  },
  {
   "cell_type": "code",
   "execution_count": 86,
   "metadata": {
    "colab": {
     "base_uri": "https://localhost:8080/"
    },
    "id": "4tjzsZHYPR0i",
    "outputId": "09f671d6-5468-443d-f1be-35f3c9e60d9a"
   },
   "outputs": [
    {
     "name": "stdout",
     "output_type": "stream",
     "text": [
      "              precision    recall  f1-score   support\n",
      "\n",
      "           0       0.82      0.80      0.81        59\n",
      "           1       0.98      0.98      0.98       665\n",
      "\n",
      "    accuracy                           0.97       724\n",
      "   macro avg       0.90      0.89      0.90       724\n",
      "weighted avg       0.97      0.97      0.97       724\n",
      "\n"
     ]
    },
    {
     "data": {
      "image/png": "[encoded data removed]",
      "text/plain": [
       "<Figure size 800x600 with 2 Axes>"
      ]
     },
     "metadata": {},
     "output_type": "display_data"
    }
   ],
   "source": [
    "print(classification_report(y_test,pred_dtc))\n",
    "confusion_mat = confusion_matrix(y_test, pred_dtc)\n",
    "\n",
    "plt.figure(figsize=(8, 6))\n",
    "plt.title(\"Confusion Matrix\")\n",
    "plt.xlabel(\"Predicted label\")\n",
    "plt.ylabel(\"True label\")\n",
    "plt.imshow(confusion_mat, cmap=plt.cm.pink)\n",
    "plt.xticks(range(len(set(y_test))), sorted(set(y_test)))\n",
    "plt.yticks(range(len(set(y_test))), sorted(set(y_test)))\n",
    "plt.colorbar()\n",
    "plt.show()"
   ]
  },
  {
   "cell_type": "code",
   "execution_count": 87,
   "metadata": {
    "colab": {
     "base_uri": "https://localhost:8080/"
    },
    "id": "Qt7t9qOtQ6vl",
    "outputId": "760e4694-20dd-493d-bfb7-faa374a3bfd6"
   },
   "outputs": [
    {
     "name": "stdout",
     "output_type": "stream",
     "text": [
      "The accuracy on train dataset is 1.0\n",
      "The accuracy on test dataset is 0.9696132596685083\n",
      "\n",
      "Train confusion matrix:\n",
      "[[2675    0]\n",
      " [   0 2675]]\n",
      "\n",
      "Test confusion matrix:\n",
      "[[ 47  12]\n",
      " [ 10 655]]\n",
      "\n",
      "AUC on train data: 1.0\n",
      "AUC on test data: 0.8907862877532814\n",
      "F1 score is: 0.9834834834834834\n",
      "Precision is: 0.9820089955022488\n",
      "Recall is: 0.9849624060150376\n"
     ]
    }
   ],
   "source": [
    "dt_model, dt_train_auc, dt_test_auc, dt_train_accuracy, dt_test_accuracy,dt_f1, dt_precision,dt_recall= check_scores(dtc,x_smote,X_test)\n",
    "#train = 1 means over fitting"
   ]
  },
  {
   "cell_type": "markdown",
   "metadata": {
    "id": "YCrE1VNP0cg9"
   },
   "source": [
    "# **NAIVE BAYES**"
   ]
  },
  {
   "cell_type": "code",
   "execution_count": 88,
   "metadata": {
    "colab": {
     "base_uri": "https://localhost:8080/"
    },
    "id": "fRGwgV9x0rRd",
    "outputId": "cf5909e7-da36-476a-c800-a3f4d239d61b"
   },
   "outputs": [
    {
     "data": {
      "text/plain": [
       "0.9696132596685083"
      ]
     },
     "execution_count": 88,
     "metadata": {},
     "output_type": "execute_result"
    }
   ],
   "source": [
    "nbc = GaussianNB()\n",
    "nbc.fit(x_smote,y_smote)\n",
    "pred_nbc = dtc.predict(X_test)\n",
    "accuracy_score(pred_nbc,y_test)"
   ]
  },
  {
   "cell_type": "code",
   "execution_count": 89,
   "metadata": {
    "colab": {
     "base_uri": "https://localhost:8080/"
    },
    "id": "YHxXyHLf1m-d",
    "outputId": "bf4736b6-8ea8-496f-913a-69c82cea8017"
   },
   "outputs": [
    {
     "name": "stdout",
     "output_type": "stream",
     "text": [
      "              precision    recall  f1-score   support\n",
      "\n",
      "           0       0.82      0.80      0.81        59\n",
      "           1       0.98      0.98      0.98       665\n",
      "\n",
      "    accuracy                           0.97       724\n",
      "   macro avg       0.90      0.89      0.90       724\n",
      "weighted avg       0.97      0.97      0.97       724\n",
      "\n"
     ]
    },
    {
     "data": {
      "image/png": "[encoded data removed]",
      "text/plain": [
       "<Figure size 800x600 with 2 Axes>"
      ]
     },
     "metadata": {},
     "output_type": "display_data"
    }
   ],
   "source": [
    "print(classification_report(y_test,pred_nbc))\n",
    "confusion_mat = confusion_matrix(y_test, pred_nbc)\n",
    "\n",
    "plt.figure(figsize=(8, 6))\n",
    "plt.title(\"Confusion Matrix\")\n",
    "plt.xlabel(\"Predicted label\")\n",
    "plt.ylabel(\"True label\")\n",
    "plt.imshow(confusion_mat, cmap=plt.cm.pink)\n",
    "plt.xticks(range(len(set(y_test))), sorted(set(y_test)))\n",
    "plt.yticks(range(len(set(y_test))), sorted(set(y_test)))\n",
    "plt.colorbar()\n",
    "plt.show()"
   ]
  },
  {
   "cell_type": "code",
   "execution_count": 90,
   "metadata": {
    "colab": {
     "base_uri": "https://localhost:8080/"
    },
    "id": "UhARvZvf3nbC",
    "outputId": "43048214-c945-43ee-cd3f-e5cc20f51918"
   },
   "outputs": [
    {
     "name": "stdout",
     "output_type": "stream",
     "text": [
      "The accuracy on train dataset is 0.5620560747663551\n",
      "The accuracy on test dataset is 0.18370165745856354\n",
      "\n",
      "Train confusion matrix:\n",
      "[[2651   24]\n",
      " [2319  356]]\n",
      "\n",
      "Test confusion matrix:\n",
      "[[ 54   5]\n",
      " [586  79]]\n",
      "\n",
      "AUC on train data: 0.9415897283605555\n",
      "AUC on test data: 0.8072256913470115\n",
      "F1 score is: 0.21094793057409883\n",
      "Precision is: 0.9404761904761905\n",
      "Recall is: 0.11879699248120301\n"
     ]
    }
   ],
   "source": [
    "nb_model, nb_train_auc, nb_test_auc, nb_train_accuracy, nb_test_accuracy,nb_f1, nb_precision,nb_recall= check_scores(nbc,x_smote,X_test)"
   ]
  },
  {
   "cell_type": "markdown",
   "metadata": {
    "id": "eXlVa8wG5H9x"
   },
   "source": [
    "# **XGBOOST**"
   ]
  },
  {
   "cell_type": "code",
   "execution_count": 91,
   "metadata": {
    "colab": {
     "base_uri": "https://localhost:8080/"
    },
    "id": "od1ylFeL5L8n",
    "outputId": "ffdbe3de-ca83-47e7-e89b-b79f177dd095"
   },
   "outputs": [
    {
     "data": {
      "text/plain": [
       "0.9751381215469613"
      ]
     },
     "execution_count": 91,
     "metadata": {},
     "output_type": "execute_result"
    }
   ],
   "source": [
    "xgbc = xgb.XGBClassifier()\n",
    "xgbc.fit(x_smote,y_smote)\n",
    "pred_xgbc = xgbc.predict(X_test)\n",
    "accuracy_score(pred_xgbc,y_test)"
   ]
  },
  {
   "cell_type": "code",
   "execution_count": 92,
   "metadata": {
    "colab": {
     "base_uri": "https://localhost:8080/"
    },
    "id": "XZx5EZuK6Gbu",
    "outputId": "4ea9d67a-36b0-49f8-993f-9491e2d26bd4"
   },
   "outputs": [
    {
     "name": "stdout",
     "output_type": "stream",
     "text": [
      "              precision    recall  f1-score   support\n",
      "\n",
      "           0       0.82      0.90      0.85        59\n",
      "           1       0.99      0.98      0.99       665\n",
      "\n",
      "    accuracy                           0.98       724\n",
      "   macro avg       0.90      0.94      0.92       724\n",
      "weighted avg       0.98      0.98      0.98       724\n",
      "\n"
     ]
    },
    {
     "data": {
      "image/png": "[encoded data removed]",
      "text/plain": [
       "<Figure size 800x600 with 2 Axes>"
      ]
     },
     "metadata": {},
     "output_type": "display_data"
    }
   ],
   "source": [
    "print(classification_report(y_test,pred_xgbc))\n",
    "confusion_mat = confusion_matrix(y_test, pred_xgbc)\n",
    "\n",
    "plt.figure(figsize=(8, 6))\n",
    "plt.title(\"Confusion Matrix\")\n",
    "plt.xlabel(\"Predicted label\")\n",
    "plt.ylabel(\"True label\")\n",
    "plt.imshow(confusion_mat, cmap=plt.cm.pink)\n",
    "plt.xticks(range(len(set(y_test))), sorted(set(y_test)))\n",
    "plt.yticks(range(len(set(y_test))), sorted(set(y_test)))\n",
    "plt.colorbar()\n",
    "plt.show()"
   ]
  },
  {
   "cell_type": "code",
   "execution_count": 93,
   "metadata": {
    "colab": {
     "base_uri": "https://localhost:8080/"
    },
    "id": "c6BGf4fE6Zs5",
    "outputId": "dd44fcfd-5929-4cc6-80f7-22ed8b353a05"
   },
   "outputs": [
    {
     "name": "stdout",
     "output_type": "stream",
     "text": [
      "The accuracy on train dataset is 1.0\n",
      "The accuracy on test dataset is 0.9751381215469613\n",
      "\n",
      "Train confusion matrix:\n",
      "[[2675    0]\n",
      " [   0 2675]]\n",
      "\n",
      "Test confusion matrix:\n",
      "[[ 53   6]\n",
      " [ 12 653]]\n",
      "\n",
      "AUC on train data: 1.0\n",
      "AUC on test data: 0.9894991716579585\n",
      "F1 score is: 0.986404833836858\n",
      "Precision is: 0.9908952959028832\n",
      "Recall is: 0.9819548872180451\n"
     ]
    }
   ],
   "source": [
    "xgb_model, xgb_train_auc, xgb_test_auc, xgb_train_accuracy, xgb_test_accuracy,xgb_f1, xgb_precision,xgb_recall= check_scores(xgbc,x_smote,X_test)"
   ]
  },
  {
   "cell_type": "markdown",
   "metadata": {
    "id": "D5MQ1E1o7A2E"
   },
   "source": []
  },
  {
   "cell_type": "markdown",
   "metadata": {
    "id": "jkr7tq5w7Cls"
   },
   "source": [
    "# **COMPARISON OF MODELS ACCURACY**"
   ]
  },
  {
   "cell_type": "code",
   "execution_count": 94,
   "metadata": {
    "id": "tgSZwthW7ZTL"
   },
   "outputs": [],
   "source": [
    "df_score = [('knn',knn_train_accuracy, knn_test_accuracy,knn_test_auc),('decision tree',dt_train_accuracy, dt_test_accuracy,dt_test_auc),('naive bayes',nb_train_accuracy, nb_test_accuracy,nb_test_auc),('xgboost',xgb_train_accuracy, xgb_test_accuracy,xgb_test_auc)]\n",
    "df_score = pd.DataFrame(data = df_score,columns = ['Model Name','Train Accuracy','Test Accuracy','Test AUC Score'])\n",
    "df_score.set_index('Model Name',inplace = True)\n"
   ]
  },
  {
   "cell_type": "code",
   "execution_count": 95,
   "metadata": {
    "colab": {
     "base_uri": "https://localhost:8080/"
    },
    "id": "8gdhXe9f_fZD",
    "outputId": "043a41f3-d195-451d-99fe-13ddd01af5fb"
   },
   "outputs": [
    {
     "data": {
      "text/html": [
       "<style type=\"text/css\">\n",
       "#T_0c5cf_row0_col0, #T_0c5cf_row0_col1 {\n",
       "  background-color: #3f811e;\n",
       "  color: #f1f1f1;\n",
       "}\n",
       "#T_0c5cf_row0_col2 {\n",
       "  background-color: #fbe8f2;\n",
       "  color: #000000;\n",
       "}\n",
       "#T_0c5cf_row1_col0, #T_0c5cf_row3_col0, #T_0c5cf_row3_col1, #T_0c5cf_row3_col2 {\n",
       "  background-color: #276419;\n",
       "  color: #f1f1f1;\n",
       "}\n",
       "#T_0c5cf_row1_col1 {\n",
       "  background-color: #286619;\n",
       "  color: #f1f1f1;\n",
       "}\n",
       "#T_0c5cf_row1_col2 {\n",
       "  background-color: #f9eef4;\n",
       "  color: #000000;\n",
       "}\n",
       "#T_0c5cf_row2_col0, #T_0c5cf_row2_col1, #T_0c5cf_row2_col2 {\n",
       "  background-color: #8e0152;\n",
       "  color: #f1f1f1;\n",
       "}\n",
       "</style>\n",
       "<table id=\"T_0c5cf\">\n",
       "  <thead>\n",
       "    <tr>\n",
       "      <th class=\"blank level0\" >&nbsp;</th>\n",
       "      <th id=\"T_0c5cf_level0_col0\" class=\"col_heading level0 col0\" >Train Accuracy</th>\n",
       "      <th id=\"T_0c5cf_level0_col1\" class=\"col_heading level0 col1\" >Test Accuracy</th>\n",
       "      <th id=\"T_0c5cf_level0_col2\" class=\"col_heading level0 col2\" >Test AUC Score</th>\n",
       "    </tr>\n",
       "    <tr>\n",
       "      <th class=\"index_name level0\" >Model Name</th>\n",
       "      <th class=\"blank col0\" >&nbsp;</th>\n",
       "      <th class=\"blank col1\" >&nbsp;</th>\n",
       "      <th class=\"blank col2\" >&nbsp;</th>\n",
       "    </tr>\n",
       "  </thead>\n",
       "  <tbody>\n",
       "    <tr>\n",
       "      <th id=\"T_0c5cf_level0_row0\" class=\"row_heading level0 row0\" >knn</th>\n",
       "      <td id=\"T_0c5cf_row0_col0\" class=\"data row0 col0\" >0.971776</td>\n",
       "      <td id=\"T_0c5cf_row0_col1\" class=\"data row0 col1\" >0.925414</td>\n",
       "      <td id=\"T_0c5cf_row0_col2\" class=\"data row0 col2\" >0.886836</td>\n",
       "    </tr>\n",
       "    <tr>\n",
       "      <th id=\"T_0c5cf_level0_row1\" class=\"row_heading level0 row1\" >decision tree</th>\n",
       "      <td id=\"T_0c5cf_row1_col0\" class=\"data row1 col0\" >1.000000</td>\n",
       "      <td id=\"T_0c5cf_row1_col1\" class=\"data row1 col1\" >0.969613</td>\n",
       "      <td id=\"T_0c5cf_row1_col2\" class=\"data row1 col2\" >0.890786</td>\n",
       "    </tr>\n",
       "    <tr>\n",
       "      <th id=\"T_0c5cf_level0_row2\" class=\"row_heading level0 row2\" >naive bayes</th>\n",
       "      <td id=\"T_0c5cf_row2_col0\" class=\"data row2 col0\" >0.562056</td>\n",
       "      <td id=\"T_0c5cf_row2_col1\" class=\"data row2 col1\" >0.183702</td>\n",
       "      <td id=\"T_0c5cf_row2_col2\" class=\"data row2 col2\" >0.807226</td>\n",
       "    </tr>\n",
       "    <tr>\n",
       "      <th id=\"T_0c5cf_level0_row3\" class=\"row_heading level0 row3\" >xgboost</th>\n",
       "      <td id=\"T_0c5cf_row3_col0\" class=\"data row3 col0\" >1.000000</td>\n",
       "      <td id=\"T_0c5cf_row3_col1\" class=\"data row3 col1\" >0.975138</td>\n",
       "      <td id=\"T_0c5cf_row3_col2\" class=\"data row3 col2\" >0.989499</td>\n",
       "    </tr>\n",
       "  </tbody>\n",
       "</table>\n"
      ],
      "text/plain": [
       "<pandas.io.formats.style.Styler at 0x1c4fb24b110>"
      ]
     },
     "execution_count": 95,
     "metadata": {},
     "output_type": "execute_result"
    }
   ],
   "source": [
    "df_score.style.background_gradient(cmap ='PiYG')"
   ]
  },
  {
   "cell_type": "code",
   "execution_count": 96,
   "metadata": {
    "colab": {
     "base_uri": "https://localhost:8080/"
    },
    "id": "cvBvyazMej6V",
    "outputId": "c98382e8-9678-4e6e-ac28-6335f52b20ea"
   },
   "outputs": [
    {
     "data": {
      "text/html": [
       "<div>\n",
       "<style scoped>\n",
       "    .dataframe tbody tr th:only-of-type {\n",
       "        vertical-align: middle;\n",
       "    }\n",
       "\n",
       "    .dataframe tbody tr th {\n",
       "        vertical-align: top;\n",
       "    }\n",
       "\n",
       "    .dataframe thead th {\n",
       "        text-align: right;\n",
       "    }\n",
       "</style>\n",
       "<table border=\"1\" class=\"dataframe\">\n",
       "  <thead>\n",
       "    <tr style=\"text-align: right;\">\n",
       "      <th></th>\n",
       "      <th>age</th>\n",
       "      <th>sex</th>\n",
       "      <th>sick</th>\n",
       "      <th>pregnant</th>\n",
       "      <th>thyroid surgery</th>\n",
       "      <th>I131 treatment</th>\n",
       "      <th>lithium</th>\n",
       "      <th>goitre</th>\n",
       "      <th>tumor</th>\n",
       "      <th>TSH</th>\n",
       "      <th>T3</th>\n",
       "      <th>TT4</th>\n",
       "      <th>T4U</th>\n",
       "      <th>FTI</th>\n",
       "      <th>label</th>\n",
       "    </tr>\n",
       "  </thead>\n",
       "  <tbody>\n",
       "    <tr>\n",
       "      <th>0</th>\n",
       "      <td>41</td>\n",
       "      <td>F</td>\n",
       "      <td>f</td>\n",
       "      <td>f</td>\n",
       "      <td>f</td>\n",
       "      <td>f</td>\n",
       "      <td>f</td>\n",
       "      <td>f</td>\n",
       "      <td>f</td>\n",
       "      <td>1.300000</td>\n",
       "      <td>2.5000</td>\n",
       "      <td>125</td>\n",
       "      <td>1.140</td>\n",
       "      <td>109</td>\n",
       "      <td>P</td>\n",
       "    </tr>\n",
       "    <tr>\n",
       "      <th>1</th>\n",
       "      <td>23</td>\n",
       "      <td>F</td>\n",
       "      <td>f</td>\n",
       "      <td>f</td>\n",
       "      <td>f</td>\n",
       "      <td>f</td>\n",
       "      <td>f</td>\n",
       "      <td>f</td>\n",
       "      <td>f</td>\n",
       "      <td>4.100000</td>\n",
       "      <td>2.0000</td>\n",
       "      <td>102</td>\n",
       "      <td>0.995</td>\n",
       "      <td>110</td>\n",
       "      <td>P</td>\n",
       "    </tr>\n",
       "    <tr>\n",
       "      <th>2</th>\n",
       "      <td>46</td>\n",
       "      <td>M</td>\n",
       "      <td>f</td>\n",
       "      <td>f</td>\n",
       "      <td>f</td>\n",
       "      <td>f</td>\n",
       "      <td>f</td>\n",
       "      <td>f</td>\n",
       "      <td>f</td>\n",
       "      <td>0.980000</td>\n",
       "      <td>2.0135</td>\n",
       "      <td>109</td>\n",
       "      <td>0.910</td>\n",
       "      <td>120</td>\n",
       "      <td>P</td>\n",
       "    </tr>\n",
       "    <tr>\n",
       "      <th>3</th>\n",
       "      <td>70</td>\n",
       "      <td>F</td>\n",
       "      <td>f</td>\n",
       "      <td>f</td>\n",
       "      <td>f</td>\n",
       "      <td>f</td>\n",
       "      <td>f</td>\n",
       "      <td>f</td>\n",
       "      <td>f</td>\n",
       "      <td>0.160000</td>\n",
       "      <td>1.9000</td>\n",
       "      <td>175</td>\n",
       "      <td>0.995</td>\n",
       "      <td>110</td>\n",
       "      <td>P</td>\n",
       "    </tr>\n",
       "    <tr>\n",
       "      <th>4</th>\n",
       "      <td>70</td>\n",
       "      <td>F</td>\n",
       "      <td>f</td>\n",
       "      <td>f</td>\n",
       "      <td>f</td>\n",
       "      <td>f</td>\n",
       "      <td>f</td>\n",
       "      <td>f</td>\n",
       "      <td>f</td>\n",
       "      <td>0.720000</td>\n",
       "      <td>1.2000</td>\n",
       "      <td>61</td>\n",
       "      <td>0.870</td>\n",
       "      <td>70</td>\n",
       "      <td>P</td>\n",
       "    </tr>\n",
       "    <tr>\n",
       "      <th>...</th>\n",
       "      <td>...</td>\n",
       "      <td>...</td>\n",
       "      <td>...</td>\n",
       "      <td>...</td>\n",
       "      <td>...</td>\n",
       "      <td>...</td>\n",
       "      <td>...</td>\n",
       "      <td>...</td>\n",
       "      <td>...</td>\n",
       "      <td>...</td>\n",
       "      <td>...</td>\n",
       "      <td>...</td>\n",
       "      <td>...</td>\n",
       "      <td>...</td>\n",
       "      <td>...</td>\n",
       "    </tr>\n",
       "    <tr>\n",
       "      <th>3615</th>\n",
       "      <td>30</td>\n",
       "      <td>F</td>\n",
       "      <td>f</td>\n",
       "      <td>f</td>\n",
       "      <td>f</td>\n",
       "      <td>f</td>\n",
       "      <td>f</td>\n",
       "      <td>f</td>\n",
       "      <td>t</td>\n",
       "      <td>5.086766</td>\n",
       "      <td>2.0135</td>\n",
       "      <td>108</td>\n",
       "      <td>0.995</td>\n",
       "      <td>110</td>\n",
       "      <td>P</td>\n",
       "    </tr>\n",
       "    <tr>\n",
       "      <th>3616</th>\n",
       "      <td>68</td>\n",
       "      <td>F</td>\n",
       "      <td>f</td>\n",
       "      <td>f</td>\n",
       "      <td>f</td>\n",
       "      <td>f</td>\n",
       "      <td>f</td>\n",
       "      <td>f</td>\n",
       "      <td>f</td>\n",
       "      <td>1.000000</td>\n",
       "      <td>2.1000</td>\n",
       "      <td>124</td>\n",
       "      <td>1.080</td>\n",
       "      <td>114</td>\n",
       "      <td>P</td>\n",
       "    </tr>\n",
       "    <tr>\n",
       "      <th>3617</th>\n",
       "      <td>74</td>\n",
       "      <td>F</td>\n",
       "      <td>f</td>\n",
       "      <td>f</td>\n",
       "      <td>f</td>\n",
       "      <td>f</td>\n",
       "      <td>f</td>\n",
       "      <td>f</td>\n",
       "      <td>f</td>\n",
       "      <td>5.100000</td>\n",
       "      <td>1.8000</td>\n",
       "      <td>112</td>\n",
       "      <td>1.070</td>\n",
       "      <td>105</td>\n",
       "      <td>P</td>\n",
       "    </tr>\n",
       "    <tr>\n",
       "      <th>3618</th>\n",
       "      <td>72</td>\n",
       "      <td>M</td>\n",
       "      <td>f</td>\n",
       "      <td>f</td>\n",
       "      <td>f</td>\n",
       "      <td>f</td>\n",
       "      <td>f</td>\n",
       "      <td>f</td>\n",
       "      <td>f</td>\n",
       "      <td>0.700000</td>\n",
       "      <td>2.0000</td>\n",
       "      <td>82</td>\n",
       "      <td>0.940</td>\n",
       "      <td>87</td>\n",
       "      <td>P</td>\n",
       "    </tr>\n",
       "    <tr>\n",
       "      <th>3619</th>\n",
       "      <td>64</td>\n",
       "      <td>F</td>\n",
       "      <td>f</td>\n",
       "      <td>f</td>\n",
       "      <td>f</td>\n",
       "      <td>f</td>\n",
       "      <td>f</td>\n",
       "      <td>f</td>\n",
       "      <td>f</td>\n",
       "      <td>1.000000</td>\n",
       "      <td>2.2000</td>\n",
       "      <td>99</td>\n",
       "      <td>1.070</td>\n",
       "      <td>92</td>\n",
       "      <td>P</td>\n",
       "    </tr>\n",
       "  </tbody>\n",
       "</table>\n",
       "<p>3620 rows × 15 columns</p>\n",
       "</div>"
      ],
      "text/plain": [
       "      age sex sick pregnant thyroid surgery I131 treatment lithium goitre  \\\n",
       "0      41   F    f        f               f              f       f      f   \n",
       "1      23   F    f        f               f              f       f      f   \n",
       "2      46   M    f        f               f              f       f      f   \n",
       "3      70   F    f        f               f              f       f      f   \n",
       "4      70   F    f        f               f              f       f      f   \n",
       "...   ...  ..  ...      ...             ...            ...     ...    ...   \n",
       "3615   30   F    f        f               f              f       f      f   \n",
       "3616   68   F    f        f               f              f       f      f   \n",
       "3617   74   F    f        f               f              f       f      f   \n",
       "3618   72   M    f        f               f              f       f      f   \n",
       "3619   64   F    f        f               f              f       f      f   \n",
       "\n",
       "     tumor       TSH      T3  TT4    T4U  FTI label  \n",
       "0        f  1.300000  2.5000  125  1.140  109     P  \n",
       "1        f  4.100000  2.0000  102  0.995  110     P  \n",
       "2        f  0.980000  2.0135  109  0.910  120     P  \n",
       "3        f  0.160000  1.9000  175  0.995  110     P  \n",
       "4        f  0.720000  1.2000   61  0.870   70     P  \n",
       "...    ...       ...     ...  ...    ...  ...   ...  \n",
       "3615     t  5.086766  2.0135  108  0.995  110     P  \n",
       "3616     f  1.000000  2.1000  124  1.080  114     P  \n",
       "3617     f  5.100000  1.8000  112  1.070  105     P  \n",
       "3618     f  0.700000  2.0000   82  0.940   87     P  \n",
       "3619     f  1.000000  2.2000   99  1.070   92     P  \n",
       "\n",
       "[3620 rows x 15 columns]"
      ]
     },
     "execution_count": 96,
     "metadata": {},
     "output_type": "execute_result"
    }
   ],
   "source": [
    "cdf"
   ]
  },
  {
   "cell_type": "code",
   "execution_count": 97,
   "metadata": {
    "id": "xs9rDvXzjCcj"
   },
   "outputs": [],
   "source": [
    "#creating pickle file\n",
    "\n",
    "pickle.dump(pipeline,open('finalmodel.pkl','wb'))\n"
   ]
  }
 ],
 "metadata": {
  "colab": {
   "collapsed_sections": [
    "La10yxDr7lni",
    "R3tV1gJo71m6",
    "pHEei6-B77iI",
    "qZC5Zg9g8GBk",
    "vxa7bWPb2TJB",
    "we66T844eQSM",
    "rYGAd7hvhvmT",
    "N29X_BT8SEM2",
    "uNOitkidqoiG",
    "6IBOGrBRnyTw",
    "RW0-DaswMj9v",
    "YCrE1VNP0cg9",
    "eXlVa8wG5H9x",
    "jkr7tq5w7Cls"
   ],
   "provenance": []
  },
  "kernelspec": {
   "display_name": "Python 3 (ipykernel)",
   "language": "python",
   "name": "python3"
  },
  "language_info": {
   "codemirror_mode": {
    "name": "ipython",
    "version": 3
   },
   "file_extension": ".py",
   "mimetype": "text/x-python",
   "name": "python",
   "nbconvert_exporter": "python",
   "pygments_lexer": "ipython3",
   "version": "3.11.3"
  }
 },
 "nbformat": 4,
 "nbformat_minor": 1
}
